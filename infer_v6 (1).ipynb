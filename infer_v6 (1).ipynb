{
  "nbformat": 4,
  "nbformat_minor": 0,
  "metadata": {
    "colab": {
      "provenance": []
    },
    "kernelspec": {
      "name": "python3",
      "display_name": "Python 3"
    },
    "language_info": {
      "name": "python"
    }
  },
  "cells": [
    {
      "cell_type": "code",
      "execution_count": null,
      "metadata": {
        "collapsed": true,
        "id": "Qg_PykDMiJsX"
      },
      "outputs": [],
      "source": [
        "# !pip install openai\n",
        "# !pip install --force-reinstall -v openai==1.55.3"
      ]
    },
    {
      "cell_type": "code",
      "source": [
        "import openai\n",
        "\n",
        "\n",
        "# tokenizer = AutoTokenizer.from_pretrained(\"gpt2\")  # GPT-3.5 & GPT-4 use GPT-2 tokenizer\n",
        "\n",
        "def count_tokens(text):\n",
        "    \"\"\"Returns the number of tokens in a given text.\"\"\"\n",
        "    return len(tokenizer.encode(text))\n",
        "\n",
        "def truncate_list(data_list, max_tokens):\n",
        "    \"\"\"Truncates a list to fit within a token budget.\"\"\"\n",
        "    truncated_list = []\n",
        "    token_count = 0\n",
        "    for item in data_list:\n",
        "        item_tokens = count_tokens(str(item))  # Count tokens in each item\n",
        "        if token_count + item_tokens <= max_tokens:\n",
        "            truncated_list.append(item)\n",
        "            token_count += item_tokens\n",
        "        else:\n",
        "            break\n",
        "    return truncated_list\n",
        "\n",
        "def run_prompt(prompt):\n",
        "    response = openai.chat.completions.create(\n",
        "        # model=\"gpt-3.5-turbo\",  # Changed 'engine' to 'model'\n",
        "        model=\"gpt-4o-mini\",\n",
        "        # model=\"gpt-3.5-turbo\",\n",
        "        messages=[{\"role\": \"user\", \"content\": prompt}],\n",
        "        max_tokens=1000,\n",
        "        # max_tokens=min(1000, 16385 - input_token_count)  # Ensure within token limit\n",
        "        temperature=0.7,\n",
        "        n=1, # Return only one response\n",
        "        stop=None # optional stopping sequence\n",
        "        # request_timeout = 60\n",
        "        )\n",
        "    json_response = response.choices[0].message.content.strip()\n",
        "\n",
        "    return json_response  # Convert response to Python dictionary\n",
        "#\n",
        "\n",
        "    # Validate and parse JSON output\n",
        "    # try:\n",
        "    #     return json.loads(json_response)  # Convert response to Python dictionary\n",
        "    # except json.JSONDecodeError:\n",
        "    #     print(\"Invalid JSON response. Skipping...\")\n",
        "    #     return json.loads(json_response)\n",
        "    # print(response.choices[0].message.content)\n",
        "    # return response.choices[0].message.content  # Access text from choices"
      ],
      "metadata": {
        "id": "NO7r4K6ZiQ3z"
      },
      "execution_count": null,
      "outputs": []
    },
    {
      "cell_type": "code",
      "source": [
        "import pandas as pd\n",
        "import re\n",
        "from bs4 import BeautifulSoup\n",
        "from google.colab import drive\n",
        "drive.mount('/content/drive')\n",
        "import json"
      ],
      "metadata": {
        "colab": {
          "base_uri": "https://localhost:8080/"
        },
        "id": "4PFs-jGsmVHV",
        "outputId": "e41580ae-227e-474d-d886-18a579c69f3a"
      },
      "execution_count": null,
      "outputs": [
        {
          "output_type": "stream",
          "name": "stdout",
          "text": [
            "Mounted at /content/drive\n"
          ]
        }
      ]
    },
    {
      "cell_type": "code",
      "source": [
        "powerset2023 = pd.read_csv('/content/drive/MyDrive/Dissertation/Study 1/Powerset/powerset_by_year/allActivity_2023.csv')"
      ],
      "metadata": {
        "id": "2wo2rXSeCiPD"
      },
      "execution_count": null,
      "outputs": []
    },
    {
      "cell_type": "code",
      "source": [
        "drop_nan_ = powerset2023.dropna(how='all')\n",
        "# print(drop_nan_.count())"
      ],
      "metadata": {
        "id": "ILeYZi3iThQG"
      },
      "execution_count": null,
      "outputs": []
    },
    {
      "cell_type": "code",
      "source": [
        "powerset2023_copy = powerset2023.copy()"
      ],
      "metadata": {
        "id": "9EG6x6_zsXJX"
      },
      "execution_count": null,
      "outputs": []
    },
    {
      "cell_type": "markdown",
      "source": [
        "make prompt more dynamic --> ask for user input for inference and recommendation #\n",
        "\n",
        "*prompt: recommend one product based on these three inferences*\n",
        "\n",
        "make numeric instead of text --> parameterize the model --> multiply it out --> if you recommend one product based on the inferences; for example inference 1 recommendation 1, inference 1 recommendation 2 and so on"
      ],
      "metadata": {
        "id": "b9K6g48ZC-ny"
      }
    },
    {
      "cell_type": "code",
      "source": [
        "# Select columns with less than 600 non-NaN rows\n",
        "misc_columns = powerset2023.columns[powerset2023.notna().sum() < 600]\n",
        "\n",
        "# Combine values into a new column\n",
        "powerset2023['takeout1_misc_MyActivity_Search Title'] = powerset2023[misc_columns].apply(\n",
        "    lambda row: ', '.join(row.dropna().astype(str)), axis=1\n",
        ")"
      ],
      "metadata": {
        "id": "vgtU10ZvuKex"
      },
      "execution_count": null,
      "outputs": []
    },
    {
      "cell_type": "code",
      "source": [
        "misc_columns"
      ],
      "metadata": {
        "id": "deLwnRbp-eMm",
        "colab": {
          "base_uri": "https://localhost:8080/",
          "height": 144
        },
        "outputId": "fad31913-a319-4e80-f657-48ab05124db0"
      },
      "execution_count": null,
      "outputs": [
        {
          "output_type": "error",
          "ename": "NameError",
          "evalue": "name 'misc_columns' is not defined",
          "traceback": [
            "\u001b[0;31m---------------------------------------------------------------------------\u001b[0m",
            "\u001b[0;31mNameError\u001b[0m                                 Traceback (most recent call last)",
            "\u001b[0;32m/tmp/ipython-input-4273020087.py\u001b[0m in \u001b[0;36m<cell line: 0>\u001b[0;34m()\u001b[0m\n\u001b[0;32m----> 1\u001b[0;31m \u001b[0mmisc_columns\u001b[0m\u001b[0;34m\u001b[0m\u001b[0;34m\u001b[0m\u001b[0m\n\u001b[0m",
            "\u001b[0;31mNameError\u001b[0m: name 'misc_columns' is not defined"
          ]
        }
      ]
    },
    {
      "cell_type": "code",
      "source": [
        "#Ask to select any four column\n",
        "\n",
        "print(\"\\nAvailable columns:\")\n",
        "for i, col in enumerate(powerset2023.columns, 1):\n",
        "    print(f\"{i}. {col}\")\n",
        "\n",
        "# Ask the user to select any 4 columns\n",
        "selected_columns = []\n",
        "df_selected = pd.DataFrame()\n",
        "while len(selected_columns) < 4:\n",
        "    try:\n",
        "        col_num = int(input(f\"\\nSelect column {len(selected_columns) + 1} by number (1-{len(powerset2023.columns)}): \"))\n",
        "        if 1 <= col_num <= len(powerset2023.columns):\n",
        "            col_name = powerset2023.columns[col_num - 1]\n",
        "            if col_name not in selected_columns:\n",
        "                selected_columns.append(col_name)\n",
        "            else:\n",
        "                print(\"You've already selected this column. Try another.\")\n",
        "        else:\n",
        "            print(\"Invalid number. Please choose a number from the list.\")\n",
        "    except ValueError:\n",
        "        print(\"Invalid input. Please enter a number.\")\n",
        "\n",
        "# Extract the selected columns\n",
        "powerSubset2023 = powerset2023[selected_columns]\n",
        "\n",
        "# Print the selected DataFrame\n",
        "print(\"\\nSelected DataFrame:\")\n",
        "# print(powerSubset2023)\n",
        "\n",
        "# # Optionally, save to a CSV file\n",
        "save_option = input(\"\\nWould you like to save this selection to a CSV file? (yes/no): \").strip().lower()\n",
        "if save_option == \"yes\":\n",
        "    df_selected.to_csv(\"/content/drive/MyDrive/Dissertation/Study 1/Inference_data/AUGUST2025/22AUG25_chrome_store_YT_games.csv\", index=False)\n",
        "    # print(\"File saved as 'selected_input_data.csv'.\")"
      ],
      "metadata": {
        "colab": {
          "base_uri": "https://localhost:8080/"
        },
        "id": "t3qu_AnC_zG8",
        "outputId": "e4cafb4f-7f27-4d76-b26a-a451592c6b8b"
      },
      "execution_count": null,
      "outputs": [
        {
          "name": "stdout",
          "output_type": "stream",
          "text": [
            "\n",
            "Available columns:\n",
            "1. takeout1_videoSearch_MyActivity_Search Title\n",
            "2. takeout1_imageSearch_MyActivity_Search Title\n",
            "3. takeout1_chrome_MyActivity_Search Title\n",
            "4. takeout1_gNews_MyActivity_Search Title\n",
            "5. takeout1_books_MyActivity_Search Title\n",
            "6. takeout1_playstore_MyActivity_Search Title\n",
            "7. takeout1_maps_MyActivity_Search Title\n",
            "8. takeout1_YT_search-history_Search Title\n",
            "9. takeout1_YT_watch-history_Search Title\n",
            "10. takeout1_playGames_MyActivity_Search Title\n",
            "11. takeout1_misc_MyActivity_Search Title\n",
            "\n",
            "Select column 1 by number (1-11): 3\n",
            "\n",
            "Select column 2 by number (1-11): 6\n",
            "\n",
            "Select column 3 by number (1-11): 9\n",
            "\n",
            "Select column 4 by number (1-11): 10\n",
            "\n",
            "Selected DataFrame:\n",
            "\n",
            "Would you like to save this selection to a CSV file? (yes/no): yes\n"
          ]
        }
      ]
    },
    {
      "cell_type": "code",
      "source": [
        "#Ask to select how many inferences they wat\n",
        "\n",
        "# Define the options\n",
        "options = [3,6,9,12]\n",
        "\n",
        "# Display the options\n",
        "print(\"Please select a number from the options below by typing the corresponding number:\\n\")\n",
        "for i, option in enumerate(options, 1):\n",
        "    print(f\"{i}. {option}\")\n",
        "\n",
        "# Get user input\n",
        "user_input = input(\"\\nEnter your selection (1-4): \")\n",
        "\n",
        "# Validate input\n",
        "if user_input.isdigit() and 1 <= int(user_input) <= 4:\n",
        "    inference_no = options[int(user_input) - 1]\n",
        "    print(f\"\\nYou selected: {inference_no}\")\n",
        "else:\n",
        "    print(\"\\nInvalid selection. Please enter a number between 1 and 4.\")\n",
        "\n",
        "# inference_input = int(inference_input)"
      ],
      "metadata": {
        "colab": {
          "base_uri": "https://localhost:8080/"
        },
        "id": "Vq59Y1wirHu9",
        "outputId": "b9295fdc-9399-4194-e8c0-69f8f055fe8d"
      },
      "execution_count": null,
      "outputs": [
        {
          "output_type": "stream",
          "name": "stdout",
          "text": [
            "Please select a number from the options below by typing the corresponding number:\n",
            "\n",
            "1. 3\n",
            "2. 6\n",
            "3. 9\n",
            "4. 12\n",
            "\n",
            "Enter your selection (1-4): 2\n",
            "\n",
            "You selected: 6\n"
          ]
        }
      ]
    },
    {
      "cell_type": "code",
      "source": [
        "# ARCHIVED\n",
        "\n",
        "'''\n",
        "# num_clusters = max(1, round(inference_no ** 0.5))\n",
        "# print(num_clusters)\n",
        "\n",
        "# clusters = []\n",
        "# for i in range(num_clusters):\n",
        "#     cluster_inferences = []\n",
        "\n",
        "#     # Calculate how many inferences per cluster:\n",
        "#     # Distribute inferences evenly, with extra going to earlier clusters\n",
        "#     inferences_per_cluster = inference_no // num_clusters + (1 if i < inference_no % num_clusters else 0)\n",
        "\n",
        "#     # Grouping inferences for each cluster\n",
        "#     for j in range(inferences_per_cluster):  # Now using the calculated value\n",
        "#         cluster_inferences.append(f\"<grouped inference {j+1}>\")\n",
        "\n",
        "#     clusters.append(f'\"cluster {i+1}\": [{\", \".join(cluster_inferences)}]')\n",
        "\n",
        "# cluster_string = ', '.join(clusters)\n",
        "\n",
        "# final_output = f'{{\"clusters\": {{{cluster_string}}}}}'\n",
        "# print(final_output)\n",
        "'''"
      ],
      "metadata": {
        "id": "GtJTbdknM-9a",
        "colab": {
          "base_uri": "https://localhost:8080/"
        },
        "outputId": "1de803d2-76f6-47d3-83d9-5696b3ccf47e"
      },
      "execution_count": null,
      "outputs": [
        {
          "output_type": "stream",
          "name": "stdout",
          "text": [
            "3\n",
            "{\"clusters\": {\"cluster 1\": [<grouped inference 1>, <grouped inference 2>, <grouped inference 3>], \"cluster 2\": [<grouped inference 1>, <grouped inference 2>, <grouped inference 3>], \"cluster 3\": [<grouped inference 1>, <grouped inference 2>, <grouped inference 3>]}}\n"
          ]
        }
      ]
    },
    {
      "cell_type": "markdown",
      "source": [],
      "metadata": {
        "id": "6pLsZ-qAkzxA"
      }
    },
    {
      "cell_type": "markdown",
      "source": [
        "for the combination of the three inferences for the combination of the three inferences\n",
        "when categorizing --> ask to filter 15 to 25 percent of the data that you think are the most sensitive, interesting, or different from the rest. then categorize the rest of them --> find interesting without losing the context"
      ],
      "metadata": {
        "id": "O3jFIZevk2Ij"
      }
    },
    {
      "cell_type": "code",
      "source": [
        "import json\n",
        "import re\n",
        "\n",
        "# Initialize list to store responses\n",
        "inference_c0_json = []\n",
        "\n",
        "# Iterate through each column in power_subset1_\n",
        "for col_name, col_data in powerSubset2023[:1500].items():\n",
        "  # print(col_data.dropna().tolist())\n",
        "  # Define the strict JSON prompt\n",
        "\n",
        "  prompt = f\"\"\"User wants to know what {col_data.dropna().tolist()} in {col_name} tells about them.\n",
        "  1. {inference_no} inferences about the user based on their online behavior in the form \"interested in X\".\n",
        "  2. Recommend **EXACTLY ONE** product for *EACH* inferences from step 1\n",
        "  3. Recommend **EXACTLY ONE** product based on the **combination of all {inference_no} inferences** for **{col_name}**.\n",
        "   **STRICT JSON OUTPUT FORMAT (No extra text or explanations, just JSON):**\n",
        "   ```json\n",
        "   {{\n",
        "    \"columns\": \"{col_name}\",\n",
        "    \"inferences\": [\n",
        "    {', '.join([json.dumps({\n",
        "      \"inference\": f\"<output for inference {i+1}>\",\n",
        "      \"explanation_inference\": f\"<explanation for inference {i+1}>\",\n",
        "      \"recommendation\": f\"<recommendation for inference {i+1}>\"\n",
        "    }) for i in range(inference_no)])}\n",
        "    ],\n",
        "    \"final_product_recommendation\": {{\n",
        "      \"ONE recommendation based on ALL inferences\": \"<Product name and company>\",\n",
        "    }}\n",
        "   }}\n",
        "   ```\n",
        "  }}\"\"\"\n",
        "\n",
        "  print(f\"🔹 Sending prompt to GPT for column: {col_name}...\")\n",
        "  assistant_reply = run_prompt(prompt)\n",
        "  # print(assistant_reply)\n",
        "\n",
        "  if assistant_reply:\n",
        "    # Remove unwanted code block markers\n",
        "    cleaned_json = re.sub(r\"```json\\s*|\\s*```\", \"\", assistant_reply).strip()\n",
        "\n",
        "    try:\n",
        "      # Parse JSON\n",
        "      parsed_json = json.loads(cleaned_json)\n",
        "      inference_c0_json.append(parsed_json)  # Store parsed data\n",
        "    except json.JSONDecodeError:\n",
        "      print(f\"⚠️ JSON Decoding Error. Skipping entry:\\n{cleaned_json[:100]}...\")  # Preview problematic JSON\n",
        "\n",
        "\n",
        "# output_filename = \"/content/drive/MyDrive/Dissertation/Study 1/Inference_data/07APRIL2025/chrome_map_ytWatch_misc_data_c0.json\"\n",
        "# with open(output_filename, \"w\", encoding=\"utf-8\") as f:\n",
        "#     json.dump(inference_c0_json, f, indent=4, ensure_ascii=False)\n",
        "\n",
        "# print(f\"✅ JSON saved successfully as {output_filename}\")\n"
      ],
      "metadata": {
        "id": "5aE9sD2U41E_",
        "colab": {
          "base_uri": "https://localhost:8080/"
        },
        "outputId": "b0a388ff-23a5-4bce-888a-57cd42a15e91"
      },
      "execution_count": null,
      "outputs": [
        {
          "output_type": "stream",
          "name": "stdout",
          "text": [
            "🔹 Sending prompt to GPT for column: takeout1_chrome_MyActivity_Search Title...\n",
            "🔹 Sending prompt to GPT for column: takeout1_playstore_MyActivity_Search Title...\n",
            "🔹 Sending prompt to GPT for column: takeout1_YT_watch-history_Search Title...\n",
            "🔹 Sending prompt to GPT for column: takeout1_playGames_MyActivity_Search Title...\n"
          ]
        }
      ]
    },
    {
      "cell_type": "code",
      "source": [
        "import json\n",
        "import re\n",
        "\n",
        "# Initialize list to store responses\n",
        "inference_c0_json = []\n",
        "\n",
        "# Iterate through each column in power_subset1_\n",
        "for col_name, col_data in powerSubset2023[:1500].items():\n",
        "  # print(col_data.dropna().tolist())\n",
        "  # Define the strict JSON prompt\n",
        "\n",
        "  prompt = f\"\"\"The user has the following {col_name} activity: {col_data.dropna().tolist()}.\n",
        "  The User wants to know what this {col_name} activity says about them.\n",
        "  1. Make {inference_no} inferences about the user based on their {col_name} activity in the form \"interested in X\" where X is a single interest\n",
        "  2. Recommend **EXACTLY THREE** products based on the **combination of all {inference_no} inferences** for their **{col_name}** activity.\n",
        "   **STRICT JSON OUTPUT FORMAT (No extra text or explanations, just JSON):**\n",
        "   ```json\n",
        "   {{\n",
        "    \"columns\": \"{col_name}\",\n",
        "    \"inferences\": [\n",
        "    {', '.join([json.dumps({\n",
        "      \"inference\": f\"<output for inference {i+1}>\",\n",
        "      \"explanation_inference\": f\"<explanation for inference {i+1}>\"\n",
        "    }) for i in range(inference_no)])}\n",
        "    ],\n",
        "    \"final_product_recommendation\": {{\n",
        "      \"recommendation 1\": f\"<recommendation 1>\",\n",
        "      \"recommendation 2\": f\"<recommendation 2>\",\n",
        "      \"recommendation 3\": f\"<recommendation 3>\"\n",
        "    }}\n",
        "   }}\n",
        "   ```\n",
        "  }}\"\"\"\n",
        "\n",
        "  print(prompt)\n",
        "\n",
        "  # print(f\"🔹 Sending prompt to GPT for column: {col_name}...\")\n",
        "  assistant_reply = run_prompt(prompt)\n",
        "  print(assistant_reply)\n",
        "\n",
        "  if assistant_reply:\n",
        "    # Remove unwanted code block markers\n",
        "    cleaned_json = re.sub(r\"```json\\s*|\\s*```\", \"\", assistant_reply).strip()\n",
        "\n",
        "    try:\n",
        "      # Parse JSON\n",
        "      parsed_json = json.loads(cleaned_json)\n",
        "      inference_c0_json.append(parsed_json)  # Store parsed data\n",
        "    except json.JSONDecodeError:\n",
        "      print(f\"⚠️ JSON Decoding Error. Skipping entry:\\n{cleaned_json[:100]}...\")  # Preview problematic JSON\n",
        "\n",
        "\n",
        "# output_filename = \"/content/drive/MyDrive/Dissertation/Study 1/Inference_data/07APRIL2025/chrome_map_ytWatch_misc_data_c0.json\"\n",
        "# with open(output_filename, \"w\", encoding=\"utf-8\") as f:\n",
        "#     json.dump(inference_c0_json, f, indent=4, ensure_ascii=False)\n",
        "\n",
        "# print(f\"✅ JSON saved successfully as {output_filename}\")\n"
      ],
      "metadata": {
        "colab": {
          "base_uri": "https://localhost:8080/"
        },
        "id": "lVXwPTsUE3yi",
        "outputId": "05a4bf53-faa9-4c16-c01f-fe6a2c14a209"
      },
      "execution_count": null,
      "outputs": [
        {
          "output_type": "stream",
          "name": "stdout",
          "text": [
            "The user has the following takeout1_YT_watch-history_Search Title activity: ['The Best Greenhouses 2023 | Grow Organic. Strudy & Quality', \"Turkish Bread That Drives Everyone Crazy! Bazlama is the tastiest I've ever eaten! Anyone can do it.\", 'Apple NEWSFLASH', 'AURORA - Runaway (Slow Easy Piano Tutorial) (Anyone Can Play)', 'Taylor Swift - Enchanted - Piano Tutorial', 'Taylor Swift - Enchanted | Piano Cover with Strings (with Lyrics & PIANO SHEET)', '5G Home Internet | T-Mobile', 'CFA Honey Pepper Pimento - An Original Take - Rewards', 'Gatorade x @DamianLillard Don’t Go Missing | 16x9 | 15sec', 'Freezer Dryer | You will know why 🤗', 'Full Of Slime and Muck! Carpet cleaning satisfying ASMR', 'This recipe is 100 years old, my grandma taught me! The tastiest bread I’ve ever eaten!', 'Kofta (Meat balls/ Koftay) recipe by Food Fusion', \"Sedate him or shave him, that's your only option.\", '🦋 Very easy wrap blouse cutting and sewing | butterfly sleeves, butterfly blouse 👚', 'New arrivals', 'Live Action PinkHair BTS USA 30s', '인기급상승🔺 누적 조회수 1000만‼️ 살도 빠지고 너무 맛있어서 거의 매일 먹는 양배추 요리 8가지', '❤️이보다 더  쉬운 방법은 없습니다~10분안에 뚝딱~~만들어서 수익창출!!!', 'DIY  안입는 셔츠로 쉽게 원피스 만들기 /Upcycling  Shirt/셔츠 리폼/치마/남방/Making easily Dress/skirt/Refashion', 'Dashing Diva YT Short #2', '2 Awesome Idea From Old Kurti ll Recycle Idea from old Kurti ll Sori Fashion', 'Jaclyn Hill ADDRESSES everything...(yikes)', 'Spreading Happiness: Cleaning 2 days for FREE!', 'CGM V3 - Long - Tim Spector', 'This is a huge problem.', 'Smooth in 90sec', 'Everyday surprises with Instacart', 'Shop Smart, Save Big', 'Enterprise Priority (Brand-Influencer): Autoship (Scarlett and Seth)_16x9', 'Free Shipping', 'NFL Sunday Ticket | Home', \"Taylor Swift - Enchanted (Taylor's Version) (Lyric Video)\", 'Everyone Can Learn to Play With Simply Piano!', 'Worksite Essentials', 'Taylor Swift - Enchanted (Medium Piano Tutorial)', 'Taylor Swift - Enchanted | SLOW EASY Piano Tutorial by Pianella Piano', 'Instantly Play 100 Songs By Learning These 4 Chords - Piano', 'Taylor Swift - Enchanted | EASY Piano Tutorial', \"NYU's 2022 Commencement Speaker Taylor Swift\", 'Oh Snap! The New McCormick Snaptight™ Bottle', 'What time is it, Mr. Wolf?', 'When the groomer butchers your dog 🙈', 'Purina Puppy Food, Providing a Lifetime of Healthy Nutrition', 'How to Melt Old Candle Wax into New Candles to REUSE Candle Wax!', 'Reutilizar ropa vieja | Recicla jeans viejos en el vestido || reutilizar la ropa!', 'DIY Upcycling a T-Shirt|/티셔츠 리폼/Wrap dress/끈 원피스/뷔스티에/Wrap skirt/랩스커트/옷만들기/Refashion', \"You don't have to be a tailor!  Sewing clothes this way is quick and easy\", 'DIY Upcycling a T-Shirt/티셔츠 리폼/점퍼슈트/Jumpsuit/면티/흰티/Reform Old Your Clothes/안입는옷/Refashion/옷수선/옷만들기', '📌 The Secrets of Sewing Cap Sleeves that you should know| Sewing Tips and Tricks for Beginners', \"DIY Puff sleeve dress - Refashion Men's Shirt into puff sleeve dress - How to make Square neck dress\", 'DIY Upcycling a T-Shirt|/티셔츠 리폼/면티/블라우스/흰티/Blouse/Reform Old Your Clothes/안입는옷 리폼/Refashion/옷수선/옷만들기', 'FAÇA VOCÊ MESMO O PÃO CASEIRO MAIS FOFO DO MUNDO COM INGREDIENTES SIMPLES!', 'Just need Garlic and immediately the orchid will sprout on the branch and bloom forever', 'Medi #3 - 11/17', 'Tỏi hồi sinh tất cả hoa lan thối nhũn theo cách dễ dàng này', 'J23 G1', 'Super Sale', 'Evde UN, SU, TUZ Varsa HERKES Bu Tarifi KOLAYLIKLA Yapabilir❗ Son Derece HIZLI ve LEZZETLİ', 'Nie kupujemy już chleba! Chleb bez piekarnika! Niesamowicie pyszne!', '비밀로 하려 했던 레시피! 완벽한 치아바타 (기공 빵빵! 비법 대공개, Homemade Ciabatta Bread Recipe)', \"Lady Gaga's Journey\", 'How to Grow Ginger From STORE Bought Ginger in Containers', 'US OV Big Deal Labor Day 16x9 30', 'New Chapter After Monster Boyfriend Cleaning a Destroyed Life for Free 🙏', 'Unlimited for $15 Bucks a Month | Mint Mobile', 'Super sale', 'GH | McDonalds | Carousel LEFT | 10 sec | 1x1 | 8.26.2021', 'Melissa McCarthy gets beachy  | Booking.com', 'Thai Iced Tea Recipe ชาเย็น - Hot Thai Kitchen!', 'Square: Cart Stars - Dependability 15s 3FD', 'Zaxbys | Funnel Cake | Sweet :06', 'এলিভেটেড এক্সপ্রেসওয়ে যানজট কমাবে নাকি বাড়াবে? | Dhaka Elevated Expressway', '5 Vegetable Plants You Can Overwinter and Grow Next Year', '5 Must-Grow Perennial Vegetables: Harvest Year After Year... 👩\\u200d🌾 🧑\\u200d🌾', '7 Perennial Vegetables You Can Grow Once and Harvest Forever!', '20 Seeds to Grow in September', '7 Things You Can Bury in the Garden to Add FREE Nutrients', '| The Home Depot', '4', '✂️ Cut and sew simple and beautiful summer dresses | Easy sewing project for beginners', 'CFA Honey Pepper Pimento Chicken Sandwich with Shantrice', 'Deep Cleaning The Most Insanely DISGUSTING Car! | The Detail Geek', 'Incredible selection on your pets’ favorite brands', 'Enjoy better sleep with Casper', 'AL2C Ice Cream Bath 30s', 'Jaclyn Hill is in TROUBLE...(everyone is speaking out)', 'Cat TV ~ Birds of Beauty for Cats to Watch ⭐ 8 HOURS ⭐', 'Who is responsible for this?', 'Grubhub Kitchen to Table Tacos 9x16 :6s', \"The Shocking Reality Behind the Girl's 'Perfect' Life 😱\", 'Get a gift, it’s on Temu', '#zeelool - eyeglasses | frames | optical | sunglasses | glasses | fashion eyewear', 'Happier at K12 30_JUN 2023 V5_YOUTUBE', 'I am his last resort', 'Descubre las mejores ofertas', 'This is going to be the death of me', 'Helen’s Home 🐱 #cleaning #cleanwithme', 'my weight loss journey from the beginning #weightloss #motivation #glowup', 'Taco Night | It’s Gonna Be Great™ with McCormick®', 'IMMEDIATELY stop when this happens | Cat Grooming', 'Mini Brand S5 6s Brand WM TGT AZ USA', 'Melissa McCarthy and Ben Falcone are double booked  | Booking.com', 'STOP Killing Your Peace Lily | 10 Mistakes and How to Fix Them', 'Thật Dễ Dàng Trồng Khổ Qua Trong Thùng Sơn Cũ Cho Nhiều Trái', 'Detailer REACTS To Customer\\'s \"Not So Dirty\" Car! | Super Muddy Disaster Detail!', 'Game-Changer Pad See Ew Noodles… With UDON | Marion’s Kitchen', 'LIVE | Trump surrenders at jail in Fulton County, Georgia, on 2020 election charges', \"A dog you didn't know existed | Beauceron\", 'Chick-fil-A Spicy Chicken Biscuit - Breakfast Boldly', \"How To Make Thai Chicken Noodle Soup Street Food Style 🍜🍜🍜 Marion's Kitchen\", \"4 FEEL-GOOD Asian Soup Recipes | Marion's Kitchen\", 'Ginger garlic Soup | Soup for Cough & Cold | How to make Ginger garlic soup | 5 mins Soup', 'Homemade Clear Vegetable Soup Recipe', 'আসল চাইনিজ রেস্টুরেন্টে বাবুর্চির চাইনিজ চিকেন ভেজিটেবল সুপ রেসিপি ! Chinese chicken vegetable soup', 'চিকেন ভেজিটেবল সুপ || Chicken Vegetable Soup Recipe Bangla || Chicken Soup || Veg Soup', 'why the hate', \"Yes I'm PREGNANT! Here's what I've been cooking | 10-minute Tomato Egg Drop Soup | Marion's Kitchen\", 'Flash Sale', 'Jaclyn Hill EXPOSED by another brand owner…', 'cid=d1f805080ab9c858a06ec3a66ad914a6', \"Chinese Egg Drop Chicken Soup - Marion's Kitchen\", 'The END of Kylie Cosmetics...', 'eos Shea Better 24H Moisture Shave Cream', 'The FURNADO of a LIFETIME!', 'Top rated by our customers  | PODS', 'Studio Apartment Makeover With ZERO Closets and Storage', 'Vayner Hook S2C My Hunch with Solid Stick', 'How Retail Stores Manipulate You', 'Am I being too sensitive?', 'How To Steam Clean Upholstery Professionally', 'US OV Show off 16x9 15', 'EXTREME Wooly Husky with an incredible transformation!', 'What Happened to the Granny After the Cleaning?', 'Zevo Sprays: Kill to Clean in Seconds', \"Transforming Papa's Dirty Home - Cleaning for Free!! \\U0001fa77\", 'Casper Is Where Dreams Begin', 'My Dark Academia Library // Thrift Haul & Style with Me', 'Eclectic Scandi-Style Dining Room Makeover | Making over my childhood home Part 3', 'Making My Ugly Laundry Closet the Cutest and Most Functional 30 Sq Ft Ever', 'The END of Family Channels: 8 Passengers', 'the ugly downfall of the BeAuTy GuRu queen - Jaclyn Hill', 'Ah-Niyah 30s', '5 Ways to Nail the Dark Academia Aesthetic | Compilations', 'Realistic what i eat to stay fit - 3 min healthy meal', 'Shocking Before After Transformation Results! #chloetingchallenge', 'Stitch Fix', 'Melissa McCarthy enjoys some room service | Booking.com', 'These influencers are in TROUBLE...(bad reviews, lawsuits)', \"Don't Miss Out On These New Member Deals\", 'finally talking about it.', 'Most Common Exercises Done Incorrectly- Home Edition', 'Pampers Cruisers 360 - Live Wild & Free 2.0 - 15s', \"Schitt's Creek Episode 2's * SEASON 6 SPOILERS*\", \"Every Moira Wig Ever - Schitt's Creek\", 'Moira Shouts Out Her #Frans - Schitt’s Creek', \"Know Your Schitt's Creek with the Schitt's Creek Cast\", \"Schitt's Creek 6x02 - David & Patrick Part 2\", 'Most Embarrassing Moments - Schitt’s Creek', \"Moira Rose: World's Schittiest Mom\", \"Patrick high on Anesthesia after getting his wisdom tooth removed | Schitt's Creek\", \"Schitt's Creek Funny Moments: Season 3 (HD)\", \"Schitt's Creek Funny Moments: Season 4 (HD)\", 'Schitt’s Creek Ultimate Moira Stan Compilation | Prime Video', 'An Ode to Alexis and David’s Bickering on Schitt’s Creek', 'Let’s make this bathroom happy again!! ✨', 'Culture shocks when moving to Australia 🇦🇺 the aussie life 😂 #tips #british #australia #super', 'Rat Mansion Makeover!! 🐀😍 #cleaning #cleanwithme', 'straightening my wavy-ish hair', 'Cancer after wedding', 'How Cool Is This!? #shorts #magnetfishing', 'Beefy fiddle is not so beefy anymore 😞 #fiddleleaffig #plantcare #propagation #plantlovers', 'French Fry Fortress 🍟 #cleanwithme #cleaning #clean', 'A cat who lost her tail', '35% off your first Chewy Autoship order and 5% off repeat deliveries', 'Morphe is DONE with influencers...', 'Influencer brands are having MAJOR issues...', 'Free? Only at Temu', 'Mikayla Nogueira LIED about this AGAIN...(LashGate 2.0)', 'introoffer_EmilyMills_Concept1_SkincareJourney1', 'A very neglected Mr. Snuffleupagus', 'Chick-fil-A Spicy Chicken Biscuit - Spicy Kick', 'Zevo Traps: Get Rid of Bugs the Worry Free Way', 'A dog with a permanent smile😄', 'Hill’s Science Diet: Science Did That', \"The LONGEST groom I've EVER done! | The Komondor Dog\", \"TikTok's worst catfish influencer EXPOSED #chloewaterz\", 'introoffer_EmilyMills Concept2 SkincareJourney2', \"Helping an 80 year old who hasn't showered in 3 years 🥺\\U0001fa77\", 'Enterprise Priority_Autoship_Horizontal_:15s', 'Vrbo US | Only Your People, Google Play | 6s | 1x1 | App', 'How To Make The Perfect Aloo Porota Recipe', 'Nie kupujemy już chleba! Tylko 3 składniki! Najpopularniejszy chleb tej wiosny.', '1971 Ford Bronco restored! Sold my Lamborghini & began customizing this! So obsessed! 🚙🙏🛞#shorts', 'CAT GAMES FISH - Catching Goldfish! Fish Video for Cats to Watch.', 'Big Sale', 'V1 AFDM 30 Sec.', 'The Dry Hair Reset', 'Life Update ...', 'I’m obsessed… #makeup #shorts #settingspray', '가장 완벽한 초코 카스테라 만들기 (두툼탱글~갈라짐 없는 비법! Chocolate Cotton Sponge Cake | Castella Recipe)', 'D600000 0036  YOUTUBE FY24W+USM XCAT DFP GRAND VID 1920X1080 15 GM AA EL 22122030007PWD58K90I', 'Don’t worry, this is free', 'Dueling CAQDAS  Using Atlas ti and NVivo for Qualitative Data Analysis', 'Half cat, half burrito', 'YTTV TrueView Evergreen 23 6 accounts V1 DR None US EN 10s MP4 VIDEO', 'V2 NPC  30 seconds', 'Owner REACTS To A MIRACULOUS 15 Hour Detailing Transformation!', '1 YEAR in 50 Seconds - Mango Tree', 'Using the Think-Aloud Strategy', \"I'll make a cute puppy even cuter!✂️❤️🐶\", 'My Childfree Story #shorts #childfree #childfreebychoice', 'Tummy Tuck After Losing 90 Lbs With Gastric Sleeve! #tummytuckbeforeandafter', \"packing husband's lunchbox for his new job\", 'How bizarrely wonderful 💗 #shorts', 'I was worried when the makeup artist was doing her own thing!', 'restoring our 1950s pink tub, day 3 !! 🎀🫧🛁 #artdeco #vintagehome #diyprojects #homeinterior', 'The face of utter betrayal', 'A monstera rescue that took a turn #plantcare #monstera #propagation #plantlovers', 'SO excited about this collection!!🎉Here are all 7 shades swatched!🧡💜♥️#shorts #makeup #jaclynhill', 'How to push visual studio code project to github | Tech Projects', 'Chocolate Castella Cake Recipe｜Ohyoo Cooking', 'Vrbo shows you the whole price as you search.', '5분 준비끝! 초코 케이크 식빵 (초콜릿 없이! 간단하게! 촉촉 보들보들 정말 맛있어요, Chocolate Loaf Cake)', 'Zaxbys | Southwest Zalad | Faint Of Flavor :06', 'Clothing Discounts', 'An intruders worst NIGHTMARE', 'His disability makes him a forever puppy 🥹', \"Top 10 Drugstore Makeup That's Even Better than Luxury\", 'Jaclyn Hill LIED about Koze…(this is a mess)', 'K12 High Schoolers :15', 'Run Fast Sale', 'How to Change Your Oil (COMPLETE Guide)', 'Oil change scams: Hidden camera investigation on what really happens to your car (CBC Marketplace)', 'Why Not to Flush the Engine Oil in Your Car', '【二の腕やせ】肩甲骨を動かし代謝もUP⤴︎｜11分間の立ちエクササイズ', 'American Journey pet food by Chewy', \"I'M CLOSING MY BRANDS\", 'Graduation 2023 :15', 'Deep cleaning of automobile #goodthing #clean', 'I’m so excited to see my natural lips again! Goodbye filler ✌🏻 #shorts #lips #lipfiller #beauty', 'Jaclyn Hill DONE with her brands...(literally all of them)', 'Fabletics New Year Sale - 70% Off Every Single Thing', 'Up to 90% off', 'Your Days of Scooping Are Over | Meet Litter-Robot 4 (30s)', 'EGGSPLOSIVE Deep Cleaning Challenge!😱', 'Save big today', 'Crazy Deals', 'Astuce coiffure avec volume : faire un chignon haut facile et rapide ! DIY chignon cheveux longs !', 'D600000-0038-V2-YOUTUBE-FY24W+USM-XCAT-DSFP-DINO-VID-1920X1080-30-GM AA-EL-22122030007PWD90C41U', '3 WAYS TO WEAR YOUR SAREE AS A LEHENGA', 'How to wear a Cancan Saree | How to Drape Saree like Half Saree | How to Half Saree | Tia Bhuva', 'Cascade Platinum Plus Mythbusters :06 US v2', 'Shop New Arrivals', 'How to drape 6 yard saree over cancan or lengha skirt | #shorts | how to drape saree', 'How to drape a saree as skirts (Part 1) | turn saree into skirts', '【8分】二の腕みるみる細くなる！肩甲骨を動かし代謝もアップ⤴︎', 'Delicious Jorda Semai Anyone Can Make', 'Grooming a HUGE deaf dog with a bite history', 'Zevo Traps: Trap the Bugs', \"The most INSANE transformation I've ever done | Farm dog first ever bath!\", 'From me to you 15sec youtube PP-NNT-USA-0596', \"Chhana'r payesh—quick and easy Bengali dessert with cottage cheese\", 'I Melted Every Clear Lipstick Together 💄', 'EASY STIR-FRIED CHILI CHICKEN RECIPE #recipe #cooking #chinesefood #chilichicken #chickenrecipe', \"What Trump's Latest Indictment Means For 2024 | FiveThirtyEight Politics Podcast\", 'OV US KC6Budget 16x9 30', 'Must-Have Products', \"There's a reason they call them WOLFhounds\", 'Takashi’s Room | Kyoto', 'Why do cats act so weird? - Tony Buffington', 'No one told me about the Hungarian Kuvasz 😈', 'I groom them when no one else will', '#1 Bar Dermatologists Use at Home: Dove Bar', \"This is the most aggressive dog I've ever touched 😐\", 'Zevo On-Body Repellent | Protection Without the Ick', '괴성이 난무하는 고양이 목욕 현장', 'The truth about Greyhounds', 'How to Fight Misinformation & Disinformation', '실패없는 쿠키슈 레시피 (바삭한 껍질에 입안 가득 터지는 크림, Cream Puffs, Choux Au Craquelin Recipe)', \"5 Easy Ramen Recipes That Taste Like HEAVEN In A Bowl | Marion's Kitchen\", 'SUNDAY RESET ROUTINE | self care, cleaning, and planning my week', '15-min Japanese Curry Ramen 🍜 | Marion’s Kitchen', 'prepare of mogra jasmine like this for uncountable flowers | mogra | jasmine', '2000s Dance Workout | 15 Min Full Body Fat Burn, No Equipment | growwithjo', 'Zappos Back to School', 'NTTW Celebrity Patient Testimonial TV (:60s)_:60s_V1_CV-US-2300171', '3 MILE Fat Burning Indoor Walk (Burn up to 500 calories!!) Beginner Friendly | growwithjo', 'YOU’RE ON TROPIC TIME NOW®', \"The 5 surprising swimsuit slimming hacks every woman must know (you DON'T need to lose weight!)\", 'SMALLER WAIST and LOSE BELLY FAT in 14 Days | Home Workout', 'Viator Makes Memorable Experiences in Norway', 'Special Hot Egg Chotpoti | Bangladeshi Street Food', \"Newmarket'er Mamar Chotpoti Recipe Anyone Can Make\", 'Zaxbys | Southwest | Fiesta :15', 'Handbag Discounts', 'Making Street Style Chotpoti At Home', 'লোভনীয় স্বাদে পারফেক্ট চটপটি রেসিপি | Chotpoti Recipe | Authentic Bangladeshi Chotpoti | Chotpoti', 'ALOO CHAAT | Quick Potato and Chickpea Chaat recipe with MY MUM | Streetfood | Food with Chetna', 'Making a Strawberry-Powered Aquarium (With No Filter)', 'James Charles DONE with being cancelled...(this is a mess)', 'This dog literally exploded | Newfoundland Dog', 'Defending goodness has never been so delicious!', 'Gorgeous German Shepherd | Funny Puppy first groom', 'There’s NOTHING I can’t clean!!', 'Rescued kitten surprises older cat by suddenly approaching him #shorts', 'See When You Could Reach Your Goal Weight', 'Inside my Dream Dirty house: Jaw-Dropping Filthy Fantasy! 🤩', 'Pampers US | Cruisers 360 Live Wild & Free 16x9 15s', '30 Day Yoga for Weight Loss Julia Marie ♥ Kick Up Energy & Fat-Burning Total Body Workout | Day 5', '10 Minute Yoga for Boosting Weight Loss | Speed Up Metabolism with Chelsey', '30 min Yoga for Weight Loss | Fat Burning Workout | At - Home', 'Introducing the MINIATURE German Shepherd!', \"What's behind anti-government protests in Bangladesh? | Inside Story\", \"Demonstrators in Bangladesh call for government's resignation\", 'HOW TO TREAT SKIN TAGS LIKE A DERMATOLOGIST', 'The Truth About Recessions', \"Dolly Parton Rockin' Live\", 'Behind Closed Doors: Rich Woman Living in FILTH with Cats', 'Strider Fox 2023 :30', 'Refund if delivered late', \"Cattlemen's BBQ Sauce: Built For Your Back Of House, Not Your Backyard\", 'Melissa McCarthy dreams about vacation rentals | Booking.com', 'Jaclyn Hill is in trouble…(fuzzy lipsticks and koze)', 'How To Use Your Control Panel', 'Hot Tub Start Up sequence | Balboa TP200 | Blue Whale Spa', 'lah24580_vshred_v8-lah24579v8_fb2yt-new2_podcar_mix.mp4', 'Hot tub control panel removal and replacement', 'Special Savings', 'I Wanna Kill My Mom I Wanna Kill My Dad -Woop Woop- Full Video', 'New Styles For You', 'A dog with the STRONGEST bite force in the world', 'Amazon Prime Day ... Best Beauty Deals to Save Your Cash', 'Everyday, hundreds of businesses get their first sale on Shopify - the next could be you! (ENNA)', 'Sea View Inn, Pawleys Island', '30 Sq Ft Closet Turned Home Office and Art Studio | DIY pegboard', 'Men clothing on Sale', \"OH LAWD SHE COMIN'\", 'Prime Day - DEEBOT T20 OMNI x Champion Buddy - A Champion Built for Champions', 'Still Renting Your Electricity? Go Solar & Own Your Energy', 'Shop at Temu', \"Giving a Girl's Home a Free ✨Sparkling✨ Makeover!\", 'Fresh RTB - Speed and Convenience 15s 3FD', 'The END of Influencer brands...(Item beauty)', 'Bumble-UADropOneLiners-GenZ-USEN-Juju-01-1080x1920.mp4', 'LEARN TO CROCHET (for real this time) | SLOW Step-By-Step How to Crochet Tutorial', 'Amazing Deals on Temu', 'CFA Summer of Cows – Map', 'FLUFF OFF, respectfully.', 'A alligator was trying to eat a stork but 😯 #shorts #nature', 'নতুন স্বাদের ঈদের রোস্ট- মোঘলাই চিকেন রোস্ট | Mughlai Chicken Roast/Bangladeshi Chicken Roast Recipe', 'BEHIND THE LOOK | with Riley Keough & Jamie Mizrahi | Jimmy Choo', 'পুরান ঢাকার তেহারি || How To Make Old Dhakaiya Style Beef Tehari || Beef Tehari', 'পুরান ঢাকার বিফ তেহারি | Beef Tehari Bangladeshi Recipes | Gorur Mangsher Tehari Bangladeshi Ranna', \"Domino's Loyalty :06\", 'Tropicana | “Zero Sugar Sip” :06', 'Q223 D MOMENTSSUMMERSTORIES SOME MODEL VIDEO 05 LOGO HORIZONTAL 6 SEC', 'EASIEST Crochet Blanket For Bulky Yarn - How to Crochet The Mini Weave Stitch! Chenille Yarn', 'HomeRefresh V1_Horizontal_15s_May2023_US', 'The Moment When Kangana Ranaut Started the Nepotism Debate #shorts #ThatOneMomentTS', 'TESTING OUT THE NEW SCRUB DADDY TOILET WAND SYSTEM! IS IT ANY GOOD ??? #cleanwithme #cleaning', 'Sentimental 🥹 #shorts #familyvlog', 'Pole throw 🤝 two divers 👉 superb shot 🎥🤩 #shorts', 'Meme of the day', 'How People Think I Transfer My Husband', 'Sullivan, an incredibly sweet, neglected Saint Bernard, was found on the side of the road #fosterdog', 'Judge got angry 😳 #courtroom #courtroomdrama #truecrime #crime #court', '油烟机清洗防水袋 #自用好物分享', 'This maid of honor understood the assignment 👏 🎥: Tay Grewe Davis #shorts #maidofhonor #weddings', 'Purrrrfectly Clean!🐱💛 #cleaning #cleanwithme #bathroomcleaning #cat', 'I Made a Dress for The Met Gala … CHANEL inspired #shorts', 'What to do with your monstera aerial roots? #monsteraplant #plantcaretips #plantcare', '& that’s on encouraging your kids to do whatever makes them happy #slay #doyou #confidence', 'Grandpa’s boy 🥰 #shorts #family #grandpa #babies', 'What 10 Minutes Grooming My Husky Looks Like! #shorts', 'Eat your fight #subscribetomychannel #couplechallange #relatablecontent #viralcomedy #viral', 'The secret? It’s all in our seam-free front panel that keeps you 🐪 free all day long! @blogilates', 'Hairdresser reacts: her hair is GORG both ways', 'a week of workouts, remember that every week is different', 'Friendly neighborhood 😂', 'How to Stem Propagate Pothos Neon in Soil', '3:50am morning routine with time stamps 💕💪🏼✨ #grwm #morningactivities #morningroutine', 'This is not my video (video from @danbooa on tiktok)', 'Foam drain cleaner', 'the look at the end says it all #gymcouple', 'You Wont Believe How Pot-Bound This Bonsai Was #Shorts', 'Why 911 is on speed dial!😨', '손잡이 청결 체크 6개월 후 🤔', 'Typical Mistakes in Belly Dancing  #shorts Study With Me', '#foryou #trending #reels #fypシ #life', 'says the girl who hates wearing hats 😅 #hair #hairhack #hathairstyles #summerhairstyles', 'INCREDIBLE Weight Loss Transformation 🔥😳 Weight Loss Motivation | #weightloss', 'Viral Claw Clip Hairstyle you Need to Try!', 'What Happens When You Have TOO MANY PLANTS #shorts #houseplants #plantcare #repotting #propagation', 'Customer ghosts on final bill', 'Vintage 1920’s Hair Tutorial using Water Waving Combs', 'WOW! Between 1000-3000 shipping containers get lost in the ocean each year! #oceans #sustainable', 'when princess Diana shake a hands with AIDS patient then changed the world ||#shorts #princessdiana', 'July 26, 2022', 'I Gave My Axolotl A Hammock 💤', 'She didn’t even flinch!! #marriedaf #ytshorts #ytcouples', 'Mystery Sticker Time for my Diabadass #diabetes #t1d #shorts28 #dexcom #typeonediabetes', 'What time do our OFFICE DOGS arrive at work?🐶 #shorts #officedog #dog', 'Will my blind husband notice? (best prank yet) #shorts', 'Octopuses love gelato #thereefdoc #aquarium #octopus #petoctopus #byrdietheocto', \"my wife's athletic ability vs. mine.. #shorts #shawnjohnson #lol\", 'here', 'Regrowing my colocasia from bulb! #plantcare #colocasia #growplants', 'Are we similar? 💗💗💗', 'Tell me you live in Dubai without telling me you are living in Dubai 😂 #uae #dubaijokes #funny #fyp', 'This Girl Tried To Walk Away With My Dogs But My Dogs Did This..', 'Potting up my Hoya compacta 🥰 #plant #indoorplants #plantcare #houseplant', \"when you're 2 year old is your biggest hype man 🥺 #shorts\", 'How to Put on A Swim Cap!', 'My curly hair journey', 'I was truly shocked by the response', 'Epic DIY Garage Floor Transformation!', 'WHAT IT’S LIKE AFTER GIVING BIRTH #shorts', 'WHO can see my HAIR: Husband’s Family Edition #shorts', 'Why Slip-Potting Bonsai Is Rarely a Good Idea #Shorts', '\"Huge Corn\" On Foot?', 'Heroic mom saves terrified five-year-old from raccoon attack | USA TODAY #Shorts', 'Realistic Solo Van Life Night Routine #vanlife #nightroutine #solovanlife', 'Extreme Fire Hazard 🤯 #dryerventcleaning #laundry #cleaning #firehazard #lint #oddlysatisfying', '5AM For A Mom Of 12 🥰🥳😁 #shorts', '5 Things I Would Never Do as a Laundry Expert #shorts', 'RUNWAY WALK  #swimweek #runway #runwaymodel #posing #runwaywalk #fashionshow #fashionstyle', 'Grace Kelly Cover on Tiktok by sarahcothran', 'Would You Touch This Knob?', 'They waited for us everyday #fosterdogs #rescuelife #dogrescue', 'I already know that last one is going to upset some people… 🫣🫧 #cleaninghacks #cleaning', 'I’ll start sharing videos with more details about my skincare as well! 💕#skincareroutine #skincare', 'Mrs. Nancy Mae Hinkle Coffenberger #satisfying #cleaning #wife #100 #cemetery', 'Some tips if you want to rescue plants  #monsteraadansonii #plantcaretips #plantlovers', 'Nail is HURTING SO BAD 😩', 'Everyone loves Rush E! #rushe #pianotutorial #rushetutorial #reaction #musicvideo', 'Love that our story now has a happier ending🤍🌈', 'Day In The Life Working Onboard a Cruise Ship', 'Cleaning granny’s home for free ❤️ #cleaning #satisfying #cleanwithme', 'Resolve LoveIsMessy 6 OLV PRORES', 'We all know someone with a CRAZY Doodle', 'Newfoundland dogs are basically just Black Bears', 'HOW TO CROCHET FOR BEGINNERS - Step by Step', 'Super easy Magic Ring for crochet beginners!', 'SWEET AND SOUR FISH | SWEET AND SOUR FISH RESTAURANT STYLE', 'SWEET AND SOUR FISH FILLET | BETTER THAN RESTAURANT RECIPE', 'The Spicy Chicken Biscuit with Teara', 'Your Kids Will Love This! Sweet & Sour Fish 糖醋鱼 Chinese Whole Fish Recipe • How to deep fry fish', \"Men's clothing\", 'HOW TO CROCHET FOR ABSOLUTE BEGINNERS | EPISODE ONE', 'Adorable Maine Coon Kittens', 'US_1233_9fbfce11cdad7d75060af5b9d03aaa9b', 'Temu on sale', 'World’s Best Cleaner Deep Cleans for Single Mom of 5 for Free! 😍👏🏻', 'US_1233_4d8d09851baa39385732679a9ed39b8e', \"Men's Bags\", 'Cleaning a VANDALIZED $125,000 Cadillac Escalade!', '66 71 Fairlane Torino Premium Replacement Body Panels by Auto Metal Direct', 'I TRIED THE CHLOE TING 2022 SUMMER SHRED CHALLENGE (and it worked!!)', 'The first-ever MacBook Air 15” | Apple', 'Welcome to the Snarler Parlour | Maine Coon Cat', \"The easiest soy sauce chicken you can make tonight | One Pot Soy Sauce Chicken | Marion's Kitchen\", 'U by Kotex Pads with Charcoal: Smell Like You, Not an Ocean Breeze', 'Disney+ | Turning Red', 'Watch How a Dirty Bathroom Goes from Filth to Freshness 🤩 All For Free!', 'This dog has 2 brain cells🤦\\u200d♀️', 'US_1233_72849a713ed07f3d46287238ed419274', 'NOU No Damage Detangler', 'Send money to India quickly, and with low fees. Download Remitly today.', 'Unloc a meal to remember.', 'শাহী চিকেন রোস্ট -একদম সহজ ও ট্রেডিশনাল রেসিপি | Bangladeshi Traditional Chicken Roast', 'বিয়ে বাড়ির রোস্ট -Biye Barir Roast-How To make chicken Roast-Bangladeshi Chicken Roast-Eid Special', 'চিকেন ঝাল রোস্ট || Bangladeshi Chicken Jhal Roast || Chicken Roast Bangla', 'Now Streaming', 'Amazing Roasted Chicken  Recipe', 'সহজ উপায়ে আস্ত মুরগির রোস্ট (টক দই ছাড়া,অল্প মশলায়)|Chicken Roast Recipe | Whole Chicken Roast', 'Quick & Easy Congee | Jok | Rice Porridge - Thai Breakfast Recipe - โจ๊กหมูสับ แบบง่าย', 'One of the best cats of my 18 year groomer career !! 😻🛁✂️❤️', 'cid=5ea36633fddad147c4df9c1f90818509', 'Temu Price drop alert', \"I Shouldn't Be Allowed To Show You This...\", 'EXTREME GET IT ALL DONE! MESSY HOUSE DECLUTTER & ORGANIZE, SUMMER DEEP CLEAN, CLEANING MOTIVATION', 'Dark Basement Studio Apartment Makeover *Renter-Friendly*', 'TheLittleMermaid Booking com US YouTube 16x9 Post 15 MP4', 'Caught in a F5 FURNADO', 'Ends July 10! Save up to 30% | PODS', 'FOUR hours of HELL...crazy session with a wooly Malamute', 'Purina Kitten Food, Providing a Lifetime of Healthy Nutrition', 'Why people HATE Labrador Retrievers', \"I'M FALLING IN LOVE AGAIN...MASSIVE MAKEUP HAUL!\", 'Better Wellness For The Whole Family | iHerb', 'Our best price just for you', 'Jimmy Eat World - The Middle (Official Music Video)', 'DIY Kitchen Renovation On A Budget | We Renovated Our *ENTIRE* Rental Kitchen | My Rental Reno S3 E9', 'TR WRTv1 Evergreen LMG 15 16x9', 'Outdoor Lighting Perspectives of Greenville and Western NC', '*Renter-Friendly* Cozy Kitchen Makeover! | EXTREME Transformation', 'Action-Ready Shorts & Skorts', 'May Makeup Class! (Eyeshadow, Blush + Lipgloss Tutorial)', 'Names and usage of 16 HairStyling Tools  || Amazing Hairstyling Accessories || HairStyle Matters', '😱 Trying 6 Different Tricky HairStyling Tools | Useful HairStyling Accessories 👌', 'Aggressive lamp attempts to kill groomer', 'This Car is 10/10 DISGUSTING - Viewer Discretion is Advised', '101   Short YT Ad - Correct Number', 'Two mental cases test my sanity 😅 | Keeshond and Yorkshire Terrier', 'Vicious growling Alaskan Malamute', 'influencers in real life - Elsa Hosk + Zara McDermott', 'NRTV CRL712 A ST Male MultiUGC Branded Youtube D243 C220 16x9 V5', 'Still Renting Your Electricity? Go Solar & Own 100% Of Your Energy', 'Deep Cleaning this Devastating Cat Home For Free 🥺💛', 'Discover How Much Weight You Can Lose Today', 'Tabitha Brown for Target | Celebrate Summer (15)', 'SMALL Renter-Friendly Patio Makeover With Lots of Colour', '[EVG]_S-(9x16)_Q-(UGC-INF)_Y-(INF)_V-(365night)_W-(kodyandkelly-v6-w5)', 'Surprising a Nursing Student with a Sparkling Clean Home!', 'Shopify Success Story: ANDI (EN,NA)', 'THE FILTHIEST HOUSE IN EUROPE 🥺 | Cleaning for FREE! 💕', 'Drain Sinus & Clear Stuffy Nose in 1 Move | Created by Dr. Mandell', 'Shop on Temu', 'IQE Easier FBVID 1920x1080', 'Only $0.44', 'I traveled across the world for a CAT', 'Pampers US | Cruisers 360 Torture Test Dad Leak Free :06s', 'A SPICY spectacle of a cat | Murder Mittens activate', 'Today I met a little Fox', 'TWO PUGS ONE TUB', \"From Drenched to Dapper: Transform Your Dog's Wet Fur with a Blow Dryer!\", \"MÉTAMORPHOSE D'UN 20M² en 15 minutes - TIMELAPSE RÉNOVATION\", 'Another Ad', 'Rug Full of Pet Urine | Satisfying Cleaning', 'Ulubiony przepis mojego męża! Są tak pyszne, że gotuję je 4 razy w tygodniu', 'Why this dog is the biggest KAREN on the internet', 'Talkative Husky Gets A Massive Undercoat Removal | Rovers Makeover Dog Grooming [CC] (4K)', 'Weight Loss Morphs OG Music', 'From Gross to Gorgeous: The Incredible Restoration of a Mould Infested Rug | Satisfying ASMR', 'Frozen Solid Rug ! Can It Be Restored ? Satisfying ASMR Carpet Cleaning', 'Cascade Platinum Plus Mythbusters :15 US v2', 'BETTER than a German Shepherd?!', 'I put this crazy cat in the RAGE CAGE', 'Ukraine accuses Russia of misinformation over failed offensive announcement', \"I Don't Care (A rap about misinformation)\", 'Super Cleaning a NEGLECTED Ford Focus!', 'Bunch o Balloons Tropical Party Parents Mom without slide 6sec USA WM, TGT, AMZ, Costco', 'Saving our abandoned pool 1 year later… #shorts #poolcleaning', \"Husky convinced she's dying at the groomers\", 'How to deal with angry cat and ferocious cat 🐱 part 33', \"let's pack husband's lunch for the week\", 'Silk rug with bizarre contamination #rugcleaning #rughubb', 'Today I groomed a demon', 'Where does a Service Dog go to the bathroom at the airport?', '2023 HOTEL ACCOMMODATION in YELLOWSTONE NATIONAL PARK', '🛏️ Canyon Village Yellowstone | Where to Stay in Yellowstone National Park', 'Hotels.com | FYPS Google App Video US 1x1 :06', 'US Beach V2 1920x1080 | :60 | Expedia', 'VID16 1', 'NEW DRUGSTORE MAKEUP... 3-in-1 Liquid Pigment', '23 DOLLAR TREE hacks that beat AMAZON! (save $400!)', 'The New Way to Sell Your Car™', \"Neglected Poodle Mix Has 4 Week Old Puppies // Animal Welfare Won't Do Anything\", 'PINEAPPLE DREAM DESSERT | No Bake Pineapple Cream Dessert', 'Buying An $18,000 House: Inside America’s Cheap Old Houses', '5 MUST DO GLUTES EXERCISES | Krissy Cela', '🌹👌The secret of sewing facings on a dress without sleeves and without a fastener. Professional trick', 'Home Emporium - Greenville, South Carolina - Store Overview', 'Frontdoor | Oven :30', 'Extreme DISASTER Detailing a Super MUDDY and NASTY Work Truck! | The Detail Geek', 'The owners sliced their dog | Crazy rescue Doodle', 'P14066 18C TTE06store 16x9 RTGA0226 092322FINAL 1080h264 - ODB', 'Queen of the PUPPY DOG eyes', 'Grubhub+ | Amazon Prime | General | :06s', 'NIGHTMARES do come true 😐...insane session with a Tibetan Mastiff', 'Venus Williams + Pro Plan Keep Her Dog, Harry, At the Top of His Game', 'Boursin turns up the flavor on your summer favorites!', 'Live Action   Lowes Hosting 30s 3FD', 'The Dirtiest Houses in the World!!😱 Speed Cleaning Them to Perfection for Free✨', 'Deep Cleaning The Worlds NASTIEST Dodge Ever! | Insanely Satisfying Car Detailing Transformation!', '72 Year Old TRAPPED Inside By DANGEROUS Patio! Cut Off From Beautiful Garden.', 'Beyond Belief: How a Dirty Black Rug Became Pure White in a Stunning Transformation', 'Yummy Bihari Chicken Curry Recipe', 'The Cat groomer relieves stress while working!😻🛁✂️❤️', \"🌹 You don't have to be a tailor to sew this dress | cutting and sewing dress this way is easy\", 'the greatest BEEF marinade ever created... (Korean Kalbi)', 'Waseem Update | Mint Mobile', 'Great deals', 'The best chicken marinade', 'Purr-fectly clean 🐱💛 #cleaning #cleanwithme #kitchencleaning', 'Every week I deep clean one home for free and today welcome to Ryan’s home 🥰 #cleanwithme #cleaning', 'Small acts of kindness \\U0001fa77 #cleaning #cleanwithme #forfree', 'What’s Lurking In This Sink #cleaning #bathroomcleaning #cleanwithme #wetcleaning', 'Welcome home Granny \\U0001fa77 #cleaning #bathroomcleaning #forfree #transformation', 'Incredible Pug beats the odds', 'Price Drop Alert', 'The Kardashians are in TROUBLE...(lawsuits, bad reviews)', \"Match With a Therapist Who's Right for You\", 'Vrbo | A Place For Together - Privacy Vertical | 30s | Combo', \"The Most EXPENSIVE Detail I've Ever Done?!\", '2023 us en app outdoor run free tier null video 16x9 15s olv null', 'New Arrivals', 'How To Weave Rug Using Old Jeans 👖', 'How To Dutch Braid Step by Step For Beginners - Full Talk Through [CC] | EverydayHairInspiration', 'Deep Cleaning The Most INSANELY Dirty Car! | The Detail Geek', '[오븐없이!] 화덕에 구운 것 같은 감자치즈빵! (후라이팬으로 맛있는 빵 만들기, Potato Cheese Bread)', \"I Can't Stop Making This Garlic, Basil Chicken Marinade\", 'HEALTHY FOOD IS NOT BORING! Let me show you how', 'What this dietitian eats for breakfast', 'Weekly meal prep!', 'This dietitian’s guide on how to meal prep for the week￼', 'P500000 0141  YOUTUBE SMLB FY24 HARD SMOS SGIT VID 1920X1080 15 GM AA EL 22122030004PWP49B99L', '48 HOURS KITCHEN DEEP CLEANING 👊', 'Vrbo | A Place For Together - Only Your People | 30s | Combo', 'SE_1233_4b7e5b4d69f15db63172d5f0aeb4f5e1', \"She's THRILLED about her bath | Mini American Shepherd\", 'göt2b Metallics - Anything But Dull (Cutdown)', 'Introducing Walmart Business for nonprofits', 'market://details?id=com.einnovation.temu', 'DEEP CLEANING + real life SURVIVAL STORY! 🔥', 'Always FlexFoam Pads – Up to Zero Feel, Zero Leaks', 'Temu App Official Big Game Ad | Shop like a Billionaire', 'Paid_Grocery_Chefs Get Groceries_SB_30S', 'Lysol Laundry Sanitizer | Dad’s Socks | 6s', 'Cleaning SUPER DIRTY AND GRIMY home only in 2 days!! 😱🥰', 'App new users only', 'P500000 0723  YOUTUBE SMLB FY24 FOOD QLTY STKN VID 1920X1080 15 GM AA EL 22122030004PWP94B16K', 'A Little Assist 2023 Taos and Tiguan 1.9% APR for 36M Carolinas 7.5', 'FULL HOUSE CLEANING FOR FREE | True story 🥺💗', 'Depression Clean With Me | My Mental Health Journey From Complete Disaster to Clean', 'Duke Health Lung Transplant - Virtual Evaluations', '[SUB] 다이어트 일주일 식단,도시락 한번에 만들기 : 체지방 낮추는 탄단지 황금비율', 'I SURPRISED MY PARENTS WITH AN ENTIRE HOME MAKEOVER | Making over my childhood home THE REVEAL!', 'Influencers are RUNNING to Snapchat…($$$)', \"Temu's grand opening sale\", 'A CHILD BEGGED FOR MY HELP! 😭❤️', 'DESPERATE HOUSE INTO A BEAUTIFUL HOME 😭😍', 'Cleaning in Germanny🥰', 'I’ve Never Seen ANYTHING Like This Before…', '2023 us en app fitness your terms free tier null video 16x9 15s olv PTON301', 'Fiji AF Spray 06 | Old Spice Media', 'Fluffy clumsy Golden Retriever puppy', 'EMOTIONAL HOME MAKEOVER | Cleaning for free! 🤩❤️', 'Online Shopping Haul + Clothing Try-On', 'Turning Granpa’s Grimy Kitchen into a Sparkling Gem FOR FREE 🥺- Watch Now!!🤩', 'GB_1233_22125f848bef33f8bc0c0f100db72231', 'Deals at Temu', 'Night Drivers 2023 Taos & Tiguan 1.9% APR for 36M Carolinas 7.5', 'Febreze Small Spaces', 'Sister begged cleaning HELP for his brother 🥺❤️', 'Akim Rough 800 30s 1', 'Nur 3 Zutaten! Das beliebteste Dessert dieses Frühlings.', '30 САМЫХ ЛЕГКИХ ПУЧКОВ НА РЕДКИЕ ВОЛОСЫ. 30 LIGHTEST BUNS FOR RARE HAIR.', 'THE BEST WAY TO WASH BRAIDS | NO FRIZZ', 'Get your Middle Splits in 40 minutes!', 'Ich habe Hähnchen noch nie so lecker gegessen! Ungarisches Hühnerrezept!', 'Mama Cat Reunited with Kittens After Weeks Apart', 'Restaurant Style Matar Paneer Recipe', 'ANSWERING ALL YOUR WEDDING QUESTIONS WITH MY HUSBAND!', \"Michelle Lee's 5 AAPI-owned faves | Ulta Beauty\", 'Nie mogę przestać jeść tej sałatki! Pyszna i bardzo zdrowa sałatka, a przygotowanie to kilka minut!', '5-8ALPV7', 'Fresh RTB - Speed and Convenience 15s Vertical 3FD', 'US_1233_a7d6f2b02555e249f03c6599e598d79d', 'Kucharz z Turcji nauczył mnie gotować kurczaka w ten sposób.😋 Pyszny przepis.', 'The Best Chapli Kabab Recipe #shorts', 'Dada Boudir Chicken Biriyani Recipe', '0376 BRAHE PPT SIZING 303 SAMI N 4x5 NOZO SPRING 45OFF SOCIAL', 'A huge beard and massive noggin | Bouvier des Flandres', 'Brac university new campus #brac university#Merul badda#Dhaka#Bangladesh (10.03.2023)', 'Remitly guarantees date and time of delivery on money transfers to your loved ones.', 'VIDEO-BRACU NEW CAMPUS', 'Cleaning a SALVAGED Audi Bought At Auction!', 'Bloodsugarking - Fruit Experiment - I Ate 4 Fruits', 'Ít Ai Ngờ Làm Điều Này Cây Lan Yếu Sẽ Mọc Rễ Ngay Mà Không Héo Lá', 'Tik Tok Beauty Influencers are MESSY...(undisclosed ads, fake reviews)', 'Bento - Last Minute 30s 3FD', 'CA_1233_3a5e1d4911cd8d77fd6a29667503be89', 'DEEP CLEANING 🐀😍', '拍黄瓜 Smacked Cucumber', 'পুডিং রেসিপি ৩টি সহজ স্টেপ এ - চুলায় পারফেক্ট ক্যারামেল পুডিং - Pudding Recipe -Easy Caramel Pudding', 'পুডিং রেসিপি ( পুডিং এর A টু Z রেসিপি দুধ ডিমের সঠিক পরিমান সহ ) ॥ Caramel Egg Pudding Recipe', 'SHEIN | Create Your Dream Home', 'QSEL1011000H CHEESECRAKERSPORTFOLIO NONNEW 15 OLV', 'Easy Caramel Pudding Recipe I Creme Caramel With Only 5 Ingredients', ':06 WLC Carryout Anyway', 'Insignia Series Row', 'Remitly | Easy ways for loved ones to receive money around the world', 'New VIPs Get $24 Pants For A Limited Time', 'The CLOWN of canines 😆', 'KFC | Aw Dip | NEW Kentucky Fried Chicken Nuggets', 'Unbelivable Discovery: See What’s Lurking In This Kitchen!! 😱', \"YOU WON'T BELIEVE how this DOG looks before shaving all this matted fur (we paid for shaving him)\", 'The 500-Year Evolution of Kitchen Design', 'This dog damaged my eardrums😅', 'TheLittleMermaid Booking com US 15 16x9 Pre YouTube ProResHQ', 'Haben Sie Thunfisch und Reis in Dosen zu Hause? 😋 Einfaches, schnelles und sehr leckeres Rezept!', '8 Easy Bread Sandwich Recipes', 'Emma Chamberlain new coffee is GROSS...(curdled milk, sour, chunky bits)', 'Cooking & Eating LIVE Louisiana Blue Crabs 🦀 | Cooking with CUZZO!', \"Deep Cleaning The MUDDIEST Truck I've Ever Seen! | The Detail Geek\", 'Cleaning The FASTEST Chevy Ever Made?!', 'You Have To Try Our Sample Pack', 'how to grow coriander in summer season | coriander growing tips', 'She wanted a QUOTE! I told her we do things a little different round here. Part 1', 'Trồng Lá Lan Trong Nước Không Có Rễ Sẽ Nhanh Ra Nhiều Rễ Theo Cách Mới Này', 'Do This Every Morning After Waking Up!', 'Only $6 ... BEST Drugstore Eyeshadow Palettes!!!', '#1 SPRING CLEANING TRICK you SHOULD be using to save time and money! 💙 Steamshot Clean 101', 'I got a Korean Baby Hair Contour Perm', '3 days hard cleaning in infested apartment #cleanwithme #cleaningmotivation2023 #decluttering', 'How 6 Years Of Mold In A Car Is Deep Cleaned | Deep Cleaned', 'Tôi Đã Làm Điều Rất Dễ Này Và Thật Lạ Phong Lan Đã Nở Không Ngừng Quanh Năm', 'Greta Thunberg Aged Deepfake', 'Deepfake Videos: Could AI-Powered Videos Cause an Economic Collapse?', 'Luke Skywalker Saves Star Wars [4K HDR] - The Mandalorian', 'What Are Deepfakes?', 'Be Aware Before You Share Tip 5: Analyse the facts', 'Be Aware Before You Share Tip 4: Check the source', 'Be Aware Before You Share Tip 3: Go beyond headlines', 'Be Aware Before You Share Tip 2:  Be careful about typos and errors', 'Be Aware Before You Share Tip 1: Checking image retouch', 'How to protect yourself in the infodemic?', 'Why people fall for misinformation - Joseph Isaac', 'Media Literacy: What is a bot? | Cronkite News', 'How false news can spread - Noah Tavlin', 'Media Literacy: SIFT content | Cronkite News', 'Sort Fact from Fiction Online with Lateral Reading', 'Media Literacy: What is misinformation | Cronkite News', \"The Kardashian's are boring now...(people are over them)\", 'NRTV CRL619 1O B  RatingSkincareHacks A Phone TikTok D243 C209 9x16 V2', 'US_1233_92ff34ecd60214b4c948b040a50830a8', 'Deep Cleaning a DISASTER Kia Forte!', 'Fresh RTB - Breadth of Retailers 15s 3FD', 'Flex/Sub Acq - The Great S3 Scene Pull', 'Samsung Galaxy S23 | T-Mobile', 'Owner REACTS To A Mind-Blowing 16 Hour Detail Transformation!', 'Owners REACT To An INSANE 20 Hour Detailing Transformation!', 'Tobacco Damaged Carpet Cleaning | Relaxing ASMR Rug Cleaning', 'Take The Next Step - Earn Your Degree', '【Meal prep for the week】wrapping 500 dumplings, wontons & potstickers, easy brunch | Tiffycooks Vlog', '10 Min | 10 Days | 10 Exercises to GROW BUBBLE BUTT - Intense Booty Challenge, No Equipment, At Home', 'Match With a Therapists Who’s Right for You', 'How We Shower and Do Laundry at -71°C (-95°F) | Yakutia, Siberia', 'Reunite With Your Body  |  19-Minute Total Body Yoga', 'ALL HOT NEW MAKEUP at Sephora', 'These lentil patties are better than meat! Protein rich, easy patties recipe! [Vegan] ASMR cooking', 'Death by a thousand meows', \"Zaxby's | Chicken Bacon Ranch Loaded Fries | Fork Lift :06\", 'Prism Tutorial', 'Covidence Demo', '일주일만에 뱃살 빼기🔥30분 서서하는 복근 운동 - 스쿼트X 런지X 점핑X', 'How to grow Cucumbers vertically, extremely lots of fruit, Growing cucumbers', '500 CRUNCHES A DAY FOR 7 DAYS, See What Happened to My Belly', 'DEEP CLEANING A FILTHY HOUSE FOR FREE!', \"Avis | Plan On Us | Don't Dream\", \"How A Hoarder's Car Is Deep Cleaned | Deep Cleaned | Insider\", '5 YEARS OF FILTH 😱 Impossible to clean??', '0376 BRAHE PPT HACKS 10 BRENDA I 9x16 NOZO EVG 45OFF SOCIAL', \"Inside Ryan's Messy Mansion: Deep Cleaning for Free ❤️\", 'MD Live Action   Skip the Ship 15s Vertical', 'Restoring Hope!! \\U0001fa77 FREE MAKEOVER for mom with destroyed home', 'Rectify The Excess Salt In Recipes by Tarla Dalal', 'She is worth more than GOLD', 'Owners asked me to FAT SHAME their cat', '*EXTREME* Cramped and Dark Living Room Makeover! | Making Over My Childhood Home Part 2', 'How FILTHY Is This?! We Volunteer To TACKLE Decades Of GRIME For The Community Centre', 'From GROSS To GORGEOUS!! Cleaning for free 🥰', 'WHY I CLEAN FOR FREE?', 'What Happens When You Quit Sugar?', 'Kylie - please stop lying.', '#Matted #Aggressive #dog gets groom ￼while owner holds him agg dog expert myfavoritegroomer.com', '[infinitode 2 1.8] DQ7 388k Score Rank #1', '[infinitode 2 1.8] Gauss and Crusher in DQ1!  Score: 263k (Rank #1)', 'LET’S KEEP RAISING AWARENESS❤️', 'Cow in AWFUL pain!!', 'Please watch till the end❤️😭🥺 #shorts', 'Viral Travel Overnight Blowout | Yeshipolito', 'ended up getting a few weeks off of school 😅 #diabetes #typeonediabetes #t1d #youtubeshorts', 'Guess what happened next?! #storytime #storytimeshorts #shortsvideo #tiktok #medicalmystery #medical', 'Part 2... Should I do a part 3? #traumatic #trauma #brainsurgery #medicalmystery #medicalshorts', 'They threw her out like trash 🥹💔 #houston #houstonarea #rescue', 'making pei dirt shirts :)', 'depressed and Obese weight loss transformation #glowup #weightloss #fitness', 'How To Treat Ear mites in Cats', \"What is Up With Precious's Eyes?\", 'A Bully WITHOUT cropped ears?? 🐰🐰🐰 #dog #dogs #americanbully', 'Tiktok: @dermdoctor', 'Short story episode 2 😍', 'Curly cut & Transformation', 'self confidence weight loss transformation #glowup #weightloss #beforeandafter', 'We need more people like this in the world! #cats #catshorts #catvideos', 'if I have a dirty bathroom, I have everything I need💦 #cleaning #bathroomcleaning', 'How I handle a GIANT MASTIFF', 'Join Venus Williams and Take the #ProPlan #MondayLikeAPro Challenge', 'GMB SHA PBA | Old Spice Media', 'How To Drape a Sari: No. 41 Mysore Shaili Drape - Karnataka, India', 'infinitode 2 (actualización/update 1.8.6) - DQ10 161k', 'infinitode 2 - Zecred Mapa Secreto Puntuación 18.9k (Top26)', 'This dog blew up | Bernese Mountain Dog', 'Making Over My Childhood Home | Part 1 Reno & The Entryway', 'This dog nearly killed me😅', 'US_en_2007_Henrick_Instream_YT_16x9_10A_3167759-trueView-dd6c66225c93b73eff0461ca7034dc69', \"i did push ups every day for 30 days... here's what happened\", 'Just 20 push ups every day will completely transform your body', 'What Happens When You Do Push-Ups Every Day for A Month?', 'you could stop at five or six stores', '\"Apparently\" This Kid is Awesome, Steals the Show During Interview', 'Wanna kill my mom TikTok', 'Taylor Swift - Blank Space (Miranda Sings)', 'Taylor Swift - Blank Space', 'Blank Space - Taylor Swift (Lyrics) 🎵', 'STARSHIPS MUSIC VIDEO - Miranda Sings', 'WHAT MAKES YOU A MAN - Original Song by Colleen Ballinger', 'I freed a neglected dog from his matted prison | Rescue Doodle', 'I hang a dog refused by groomers', 'LINDOR Made to Melt You - Chocolate', 'Pampers US | Cruisers 360 Jungle Gym Leak Free :06s', 'NEW Dove Body Wash | Care for Skin Conditions Starts in the Shower', '03 22 Cascade Plat Plus :06 Alt', 'A very difficult wolf hybrid dog', 'Febreze Fabric Refresher | Pet Odor Fighter', \"Ok...this one's funny | Husky Dog\", 'Here for Happy', 'Dawn Platinum EZ-Squeeze – No Flip, No Mess', 'Murder on my mind', '[infinitode 2 1.8] DQ9 Score: 132k (Rank #1)', '[infinitode 2 1.8] DQ10 Score: 206k (Rank #1)', 'WIPS2022: Digital Privacy Education Interventions for Rural and Urban Older Adults', '[infinitode 2 1.8] DQ3 Score: 307k (Rank #1)', 'Explaining Fake News and Disinformation', 'How to understand Misinformation, Disinformation and Malinformation', 'How to recognize disinformation and how to stop it | Deb Lavoy | TEDxAtlanta', 'Why DOCTORS Lie', 'FULL BODY PILATES AT HOME 🔥 Complete Tone & Fat Burn | 20 min Workout', 'Misinformation: The New Public Health Crisis | Emerson Brooking | TEDxNYU', 'The most handsome dog on the planet | Giant BEAR dog', 'Take Control of Your Credit Score with Credit Close-up ℠ by Wells Fargo', 'Thật Bất Ngờ Trồng Bí Đỏ Trong Thùng Sơn Cũ Cho Nhiều Trái', '10 MIN CARDIO WORKOUT AT HOME (No Jumping/Apartment Friendly, No Equipment)', 'Boho Luxe Living Room Makeover With an Odd Layout | Three spaces in one!', 'US OV WaydayLaunch 16x9 30 0423', 'Bento - Savings 30s', 'From Disgusting to Dazzling!!🥺🤩', 'NRTV CRL539 MaleBeforeAfter A Phone Youtube D143 C153 16x9 V3', 'EGD EXP J22 0001 MTT Mobile UAC Trip Savings City UACVideo 6s 1x1', 'Old Spice Bar Soap Feeling Dry GMB Himalayan | Old Spice Media', '*EXTREME* 150 Sq Ft Studio Apartment Makeover (Re-doing the first studio I ever made over!)', 'TruGreen Hero Commercial (:90)', 'How to Troubleshoot Your Google Pixel Buds Pro', 'Hotels.com | US - EN | NYC - Flings 16x9 | 15', 'Bento - Family Gathering 15s 3FD', 'Jaclyn Hill just got EXPOSED...(millions of dollars LOST)', \"YOU WON'T BELIEVE how this DOG looks after shaving all these dreadlocks\", 'Groomer makes dogs unrecognizable', 'FROM TRASH TO ✨TREASURE✨ Watch how a clean home can improve mental health!', 'Time for a change..', 'HELP!.... | Maine Coon Cat', 'GMB Face Wash | Old Spice Media', 'KFC | Even Split | NEW Kentucky Fried Chicken Nuggets', 'House hippo 2.0', \"How to tell what's true online | Break the Fake\", 'These Fake TikTok Musicians Must Be STOPPED', 'Behind (Another) Fake #TikTok Challenge', 'Example of Misinformation', 'I DID THE CHLOE TING 2 WEEK SHRED CHALLENGE ! | it actually worked!! |', 'Exercise for Belly + Legs | Get Slim Legs, Reduce Belly Fat to Get ABS | Get Perfect Body at Home', 'ID TargetVoice Colourpop16x9Q1 V1 EL 15 Video ShopNow Beauty Inspiration QDAF0034356H v3', 'Jaclyn Hill ENDS her Koze brand…(she tried to hide this)', 'I TRIED THE CHLOE TING 2022 WEIGHT LOSS CHALLENGE (and it worked!!)', 'AU_1233_099f1edf29517a1bbe7a9245a510fbb7', '2 weeks shred Chloe Ting Challenge', 'Watch LIVE  - Probable cause arrest made in classified documents leak: ABC News Live', '62001 CAMI PPT BULGES 218 NATALIA I 4x5 NOZO WINTER 45OFF', 'Have You Tried the Volumizing Hair Clips from Amazon!  We Did! | Check Out Our Demo & Honest Review!', 'I turned a jar into an aquarium, THIS Happened', 'Champions League preview: Does Chelsea have a chance to beat Real Madrid? | ESPN FC', 'Bean - Time Lapse #timelapse #amazingtube', '✂️Poodle Grooming #poodle #doggroomingtips #shorts', 'GREASY KITCHEN 🤩✨ #cleaning #cleanwithme #kitchencleaning #kitchencleaningproducts', 'Labrador Mastiff mix HUGE muscles', 'Why groomers refuse your German Shepherd', 'Bi-weekly Tips on Allyship: Bias in Job Descriptions', 'Bi-weekly Tips on Allyship: What is Allyship?', 'Emma Chamberlain Inspired Living Room Makeover', 'LUXURY MAKEUP ... You Need to Know About!', \"Marvel Studios' Black Panther: Wakanda Forever | Now streaming on Disney+\", 'Mikayla Nogueira EXPOSED over FAKE giveaway...(this is messy)', 'Family Fiesta', 'Jaclyn Hill STOLE from ANOTHER brand...(Koze situation all over again)', 'GM Commercial Generic', 'BRAND_MindfulMeals_V2_LongForm_9x16_16FREEMEALS_BAU_SHORTS16', 'CLEAN home, CLEAR mind | Amazing transformation! 😍', 'Cách Trồng Dưa Leo Trong Thùng Xốp', 'Putting nothing but dirt in a jar, THIS happened', 'Tomatoes grow fast and have many fruits if you grow this method | Growing tomatoes for high yields', 'The way she squeezes the water out is so cute 😭😭 #cats #kitten #catrescue', 'GIANT silly Alaskan Malamute dogs | SO much WORK!', '5 Surprise Disney Store Series 2  6\" Disney Princess USA Retailers', 'EZBER BOZAN YUMUŞACIK  BALON BAZLAMA🔝 İSTER KAHVALTIDA 🔝 İSTER ÇAY SAATİNDE🔝✌️ YOK BÖYLE BİR LEZZET', 'Eliminate Mosquitoes 7x Faster', \"Vrbo | Latino It's Been A While v2 | 15s | Combo\", 'Tips for growing cucumbers using used plastic containers at home', '담백하고 폭신한, 치즈 감자빵 만들기 :: 감자요리 :: Cheese Potato Bread :: Potato Brunch', 'Vrbo | US-en | xxx - xxx - xxx - xxx - xxx - Houseboat | 23s | 9x16 | Feb 23', 'Exponential Growth', 'The Ecosystem Bowl: AMAZING NO WATER CHANGE & No Filter Aquarium (Aquascape Tutorial)', 'Wells Fargo Helps You Avoid Overdraft Fees with Extra Day Grace Period', 'How Much Food Can I Grow in 1 Year?', 'Google Ads :: Video preview demo', 'CLEAN or you’ll get EVICTED | Emergency cleaning!!', 'Fresh - Weekly Shop 30s', 'The luckiest dog on the planet', 'Febreze | Car OLV', 'Crown Jewel :06 | Brach’s: Make Moments Sweeter:', 'Use sacks to grow Tomatoes at home, easy and inexpensive', 'How statistics can be misleading - Mark Liddell', 'Peter Donnelly: How stats fool juries', 'Everybody Dance Now', 'To Make a Deepfake', 'Nicolas Cage | Mega Mix Two | Derpfakes', 'How to spot a misleading graph - Lea Gaslowitz', 'In Event of Moon Disaster - Nixon Deepfake Clips', 'How to detect \"deepfakes\"? • FRANCE 24 English', 'This is not Morgan Freeman - A look behind the Deepfake Singularity', 'DeepFake Detector AIs Are Good Too!', 'Certified Human: How new Intel tech detects deepfakes in real time | Intel', 'How To Spot A Deep Fake', 'How to protect yourself in the infodemic: testimonies from young people', 'How to Spot Fake News - FactCheck.org', 'How to help kids spot fake news and misinformation | Internet Matters', \"Trump indicted: What to know about the case and what's next\", 'WATCH LIVE: Former President Donald Trump pleads not guilty to 34 felony counts | ABC News', 'LIVE: Trump speaks at Mar-a-Lago after arraignment | NBC News', 'Trump arrives in New York City ahead of arraignment | full coverage', 'Vrbo | A Place For Together - Privacy | 15s | RTB', 'GOP Teens Modeling', 'Potcake Puppies | Turks and Caicos rescue visit!', 'Lateral reading demonstration', 'Media Literacy: Misinformation Spread | Cronkite News', 'Synthesizing Obama: Learning Lip Sync from Audio', 'What is an Autoencoder? | Two Minute Papers #86', 'Autoencoders Explained Easily', \"The most urgent threat of deepfakes isn't politics\", 'Deepfakes: Is This Video Even Real? | NYT Opinion', 'Deep fake voicemail scam exploding', 'How easy is it to create a deepfake AI voice scam? #shorts', 'Earn $214 Every Hour By Clicking Random Links on Google | Make Money Online 2022', 'How To Make Money With ChatGPT With ZERO Money To Start 2023! (Step by Step)', \"Greta Thunberg's Bipolar Deepfake Speech\", \"The Dark Knight's Tale [DeepFake]\", 'I Planted 100,000 Seeds In A Fish Tank', 'Samo_V_EN_真人实拍_遗产争夺_1_152_1920x1080_90s_230328_NR_411606', 'Peace lily rescue and a 7 month update #plantcare #peacelily #plantlovers #plantcaretips', 'Bathing a *FILTHY* kitten and making him fluffy again! #cats #kittens #catbathing #rescuecat', 'Would You Buy An ABANDONED Cadillac That Looked Like This?!', 'Deepfakes and the technology behind it - BBC Click', 'Deepfake: A Brief History of Unreliable Images', 'How to start Malabar Spinach Seeds', 'Angry Birds with iOS 7 Switch Control', 'Instacart+ 15s A', 'Jaclyn Hill DRAGGED by ex-friends...', 'Spring23 DS Erin DYK Logo Video 15s 16x9', '2022 GLP-1 Rybelsus US22RYB00136 RYB Record Store YouTube MP4 (06s)', 'I made cotton candy with an Alaskan Malamute', 'Chick-fil-A Chicken Sandwich - First Bite', \"Febreze Fade Defy Plug | Single Wick vs Microchip... Who's Fresher?\", '4.1 Types of Inaccurate Information (and how to spot them)', 'Bath time for a *TINY* KITTEN!!😻 #kittens #catsoftiktok #cats', 'Cleaning With Compassion 💛 Extremely dirty bathroom and living room makeover!!', 'Web Accessibility Perspectives - Compilation of 10 Topics/Videos', 'Professional Therapy, Made Easier', \"Son of Ugandan President 'threatens' to invade Kenya on Twitter, triggers a flurry of misinformation\", 'Making Over My Living Room For The Last Time', 'Lemon Tree - Fools Garden (Lyrics) 🎵', 'This Husky mix blows up!', 'LINDOR Made to Melt You - Moment', 'Enjoy the Fresh Scent of Summer Citrus | Mr. Clean Multi-Surface Liquid Cleaner', 'The Russell Brand of dogs | Craziest hair ever', \"The Most MIRACULOUS Transformation You'll Ever See!\", 'Design | 2023 Mazda CX-50 | Mazda USA', \"Deep Cleaning a Smoker's DISGUSTING Car!\", 'Trusted with more than 5 million moves | PODS', \"revenge of the ugly ducklings - growing up 'ugly'\", 'DIY Recycling Jeans|청바지리폼|Dress|끈 원피스|뷔스티에|Reform Old Your Clothes|옷 만들기|청치마|Skirt|Refashion', 'ADS21 YT', 'DIY  안입는 셔츠로 원피스 앞치마 만들기 /Upcycling  Shirt/셔츠 리폼/Dress Apron/레이어드/Layered', 'We are Americas Home Place', '২টা সবজী দিয়ে রেস্টুরেন্টের মতো চিকেন চাইনিজ ভেজিটেবল (অল্প উপকরনে)| Bangladeshi Chinese Vegetable', 'SUSCRÍBETE', 'Send money with Remitly, and enjoy low fees even with a debit card.', 'How to make Jamaican OXTAIL! (EASY Step by Step!)', 'Chick-fil-A Chicken Sandwich - Original', 'The most aggressive Chewbacca dog ever', 'KIT KAT® Bars | In Between :06', 'Make tasty Pad Thai in 15 minutes', 'Vicious Shih Tzu groomers refuse to work on', 'In Between wBig Kat End Tag | HUKK0406000H | :15s', 'Old Spice Dungeons and Dragons 15 | Old Spice Media', 'Never Do THIS When You Leave Your Cat ALONE', 'Blusa Fácil, Costura Fácil / Sew Easy Blouse DIY', 'Very easy Butterfly wrap top/shirt cutting and sewing | Even a beginner can make this shirt', \"Don't Wait, New\", 'SHEIN\\xa0|\\xa0Stylish\\xa0Loungewear\\xa0Collection', 'ACA South Carolina Script #65 A 01 30 2023', 'Premium Wireless for $15 Bucks a Month | Mint Mobile [CC]', 'Would You Buy This DISGUSTING Car?', 'Jivox_Interior | 2023 Mazda CX-5 | Mazda USA', 'orangeSY_youtube_acq_storyboard_square_ov52', 'SHOVELING SLUDGE FROM A SINK| Helping a disabled woman🙌🏻', 'BRAND_Performance-TimeSaver_V2_LongForm_16x9_16FREEMEALS_BAU_YT16', 'How To Use A Shampoo Bar by Viori', 'The Mandalorian Luke Skywalker Deepfake', 'Elon Musk joined our Zoom call | Avatarify', 'NRTV CRL537 Male MultiUGC B Phone Youtube D243 C118 16x9 V2', '[오븐없이! 기계없이!] 쉽고 맛있는 커스터드 팬 빵 만들기 (Custard Cream Pancake)', 'How to teach kids to spot fake news', 'Mikayla Nogueira ADMITS to LashGate...(influencers won’t stop lying)', 'A protective POTATO | Bull Terrier', 'Kinder Bueno | Double Feature Life Gets Bueno :06', 'The SWEETEST rotund marshmellow ❤', 'Subway crosswindow existingproduct sandwich none none subwayseries ThisMuchMeat N:A Video 6  V1', '5 Surprise Mini Toys S3 6s Rare WM TG AMZ USA', \"Don't get an Akita if you can't handle this..\", 'Boursin Inspires, You Create', '15 Signs Your Cat Considers You Its Mother', 'How To Make Compost | IN 10 DAYS', '8 Min Stomach De-Bloating Stretch Routine- helps digestion, constipation', 'How to Operate a Mini Sewing Machine  - Tutorial', 'How to Load a Bobbin | Sewing Machine', 'lah23205_v7-gr19135_05-fb2yt_adam_jtphook_pinpongintro.mp4', 'Vrbo | A Place For Together - Space | 6s | Combo', 'How To Make Quick And Easy Samosa Chaat Recipe|Samosa Chana Chaat|Pakistani Street Food Samosa Chaat', 'Street Style Dahi Chana Chaat Recipe | Chaat Recipes |', 'SHEIN | Show off your personal style', 'US_1233_39c7b9faf3edb49498f61cf373a100cd', '4 easy & tasty chaat recipes | indian street style chaat recipes | चटपटी चाट रेसिपी', 'Upgrading my 2020 Dell XPS 15 9500! And How YOU Can Too!', 'How To Dutch Braid Your Own Hair Step By Step For Complete Beginners - FULL TALK THROUGH', '009 583 GradientTest Acq EN UAC 1080x1080 15s IG', 'US_1233_80ea2914a1c3a6882429049d98f47106', 'WoW Plague Video', 'Family guy Cleveland does a Leeroy Jenkins', 'World of Warcraft - Leeroy Jenkins - The Original Video', 'Bathing little rescued kitty, FroYo 🐱🧼 #cats #kitten #catshorts #catsoftiktok', 'How to Grow Bell Peppers from Seed in Containers | Easy planting guide', 'Stop Renting Your Electricity In South Carolina. Go Solar & Own 100% Of Your Energy', '🌹 Cut in 5 minutes and sew in 10 minutes | Sewing is easy', 'Vietnamese Lemongrass Chicken', '[No garden] Growing vegetables with recycled plastic baskets - Multi-storey vegetable tower', 'seriously... WTF are you doing to your bodies?!', 'How to Transplant Water-Rooted Cuttings Without Killing Them (Foolproof)', \"I Tried F45 for a YEAR and Here's What Happened! | Dietitian Shares How to Lose Fat & Build Muscle\", 'I Tried 30 Days of F45 HIIT Classes & This Is What Happened!', 'GR21398 06 - Bway- 3 tips-podgym.mp4', 'F45 - the workout you’ve always wanted with the team you didn’t know you needed!! 😏', 'F45 45 days challenge body transformation Nov 2021', \"I TRIED F45 TRAINING FOR A WEEK - HERE'S MY REVIEW\", \"She Said It Wasn't Too Long, I Wasn't Expecting This...\", 'How Long It Takes To Build Muscle & Change Your Body Composition (WITH PICTURES!)', 'Affordable Online Therapy on Your Schedule', 'Building a Planted Aquajar (no filter, no CO2, Walstad style aquarium)', '麵粉倒進西紅柿里，真是太厲害了，好多人沒見過，營養又好吃【一畫美食】#西紅柿 #西紅柿料理 #蕃茄', 'GUMMI SHORT2', 'The END of The Kardashian Era...(everyone is over them)', 'Fresh - Busy Parent 30s', '964 days in 30 mins - growing plant time lapse compilation  #greentimelapse #gtl #timelapse', '10 Things I Wish I Knew Before Starting My Fitness Journey', 'GR22798 06 - BG (TL16628 04).mp4', 'Dream Bedroom Makeover + TOUR 🕯🍂🌙 dark academia, witchy decor', 'Dark Academia Bedroom Makeover For DIY Danie! | Dark and moody bedroom', 'OV Appliance Dirty work 30 16x9', 'Eclectic And Colourful Living Room Makeover!', 'Giant dog HATES the cameraman🤣', 'The calmest dog in the world', 'Toasted Chips', 'The happiest dog in the world smiles her entire groom', 'MHST3 Family Reunion YT LavenderSpray HBL HD WEB 06 REV1 | Old Spice Media NCS Study', 'WHAT HAPPENS WHEN YOU DO PILATES EVERYDAY | Before & After Results | Chat Spin', 'How to grow spinach in a new style at home', 'I put nothing but dirt in a jar, THIS happened', 'AVOID these 2023 Trends if you are a Short Girl (Like Me)', 'Growing Hydroponic Vegetable Garden at Home - Easy for Beginners', 'Lomi - A Stylish Solution To A Stinky Problem', 'A very spicy snaggletooth cat', 'QSEL1015000H CHEESECRACKERSTRISCUIT NONNEW 06 OLV', 'MHST3 Brunch YT V2 GMB BW HD WEB 06 | Old Spice Media NCS', 'AMAZINGLY FILTHY HOME | Helping a young women like me 🥺❤️', \"Nature Attempts To Takeover Property | Let's Restore This Mess!\", 'Plant Mint with plastic bottles', 'This cat gives NO FLUFFS!', 'Dark, Moody and Vintage Style Bathroom Makeover | Thrifted DIY Vanity', '4 Special Chaat Recipes By Food Fusion', 'Alessia Cara - Here (Lucian Remix) | (Vietsub + Lyrics) Hot TikTok ♫', 'How To Create Like Dislike Button in React JS | Like & Dislike Button', 'FILTHY HOME CLEANING CHALLENGE | Let’s help this girl for free!💗', 'cid=25fbb7cbb83e83520c88b118ab7e3e8d', 'Very realistic Tom Cruise Deepfake | AI Tom Cruise', '108-A Ole Towne Square Walkthrough', '110 Franklin Dr Video Walkthrough', 'Build your first custom scatterplot using data from Excel', 'Bundle Trio | Action Packed Hispanic', 'Cape Kurti Cutting and Stitching |Umbrella Cut Cape Kurti Cutting and stitching', 'US_1233_6c2032e2ab948e52cc5247226b77c3e4', '009 986 ConnectingCreativity GLOBAL Acq EN UAC 1080x1080 65s V1 IG M2 280', 'Com o app da Remitly, você pode enviar dinheiro para o Brasil como seus entes queridos preferirem', \"(DIY) Take A Look Recycling Pants You Don't Wear l You'll love it .\", 'how to TAKE IN the WAIST OF YOUR JEANS / perfect waist fit 👌', 'Even If You Have Insurance – Check GoodRx', '7 УДИВИТЕЛЬНЫХ ПЕРЕДЕЛОК ИЗ ДЖИНСОВ! Сборник #4', 'DIY CORSET TUTORIAL + Free Pattern (ft. Phalopha) | Jeans, Pants and Bags | Villamor Twins', 'THRIFT FLIP (no sew) + UPCYCLING OLD CLOTHES (transforming) | Ericka Oblepias', \"Zaxby's | App l Free Big Zax Snak 06\", \"Don't throw away your old shirt. Can be transformed into a cool sewing projects.\", 'Metro by T-Mobile | I Love You - English | $25/Line for 4 Lines + Free Samsung | Metro by T-Mobile', 'Wide Format Ad USE   UPDATE WHITE Label', 'Snuggle - Every Kind of Snuggle (Cutdown - Variety)', '12 Fascinating Facts About Female Cats (#11 is Beautiful)', 'シダとコケを溶岩石に着生させる方法＃114', '35년 팟타이 달인 할머니! 줄서서 먹는 곳 / Grandma Pad Thai Master! for 35 years - thai street food', 'Growing Strawberries at home is easy, big and sweet if you know this method', 'Even if you have insurance – Check GoodRx', 'US_1233_5a2711a8ed4f3e8b3c1d5382e2cf6bb1', \"Dhar Mann EXPOSED by actors...(they can't afford rent)\", 'South Indian Shrimp Korma (Ready in 15 mins!)', 'PIH 30 for Prospects', 'How I fixed my Infested fish tank', 'Hydrophobic Soil. #planttips #plantcare #plantlover #houseplantcommunity #houseplant #indoorplants', 'Quick LECAfy 🪴Neon Pothos', 'High pressure abscess POPPED! | 208SkinDoc', 'Building a Puppy Den #shorts', 'someone tell me , who is this girl ? #wheneverwherever #shakira #tiktok #girl #dance #bellydance', 'Bromine is scary', \"Cute Axolotl's New Home #shorts\", 'Silver transformation 🤤 @nyc.hairgoddess', 'PSA do NOT put it in water like one of those towels lol', 'Controlling Spoilage- Chef on a Yacht #chef #food #belowdeck #cooking #dayinthelife #yachtlife #yum', 'truly incredible #acne  #accutane transformation - thank you for sharing! #acnescars #acnetreatment', 'Riff challenge', 'Shrimp Completely INFESTED With PARASITES!', 'Why are cats affectionate in the morning? #shorts', 'Regrowing Green Onions in Water vs Soil', 'Redness and Flaking Along the Nose? 👃 | Doctorly #shorts', '5 Easy Ideas to Grow Bushy Money plant in 5Minutes-Money plant Indoor Decoration Ideas//GREEN PLANTS', 'Careasy_002', 'Water vs Soil Propagation: 7 Week Comparison with Pothos | Should I propagate in water or soil?', \"WHAT'S IN MY TRAVEL BAG!?\", 'Australian Shepherd tap dancing queen', 'US OV Value Spring Savings 16x9 30', 'Human Centered - Edge Servers -15s - US/CA -12.22.2022', 'No one would touch this DOGO ARGENTINO', 'This dog tells YOU to SIT!', 'Cascade Platinum Plus: Dish Rebels :15', 'The owner LIED about the dogs breed | Caucasian Shepherd', 'Citadel | New Series Trailer | :15s Watch Now -', 'DJTS | Look at Us Now | :15 | Pre', 'Jaclyn Hill ADDRESSES everything…(Koze, LashGate, Morphe)', 'Empty fridge? Uber Eats. | Uber Eats', 'Cats are damn escape artists', 'The Delta SkyMiles® American Express Card | The Trailblazer | American Express', 'OldSpice PBA vsBarSoap shea 16x9 V01 1 | Old Spice Media NCS Test', '10 TIPS & TRICKS TO GROWING SUCCULENTS AND CACTI | SUCCULENT CARE TIPS', 'Get FLAT BELLY in 3 WEEKS at home// 11 Line Abs Workout', '009 583 GradientTest Acq EN UAC 1920x1080 15s IG', 'Process of Making a Bonsai Tree on a Rock. Bonsai Master in Korea', 'Bonsai Making From Branch Cutting', 'How to make a Bonsai tree', '🎄🔥 Der tollste SANFTE Kuchen für das neue Jahr! Weihnachtskuchen-Rezept ohne Ofen!', '984 days in 8 minutes - Growing Plants Time-lapse Compilation', '5 Things To AVOID if you have Short Legs (Like Me)', '5 SIMPLE EXERCISES TO GROW A BUBBLE BUTT IN 2023 - Intense, No Equipment, At Home', 'Smart Speaker - Up Late', 'How to set up your Monstera for success', '4 Thai Recipes for Leftover Roast! - Hot Thai Kitchen', 'Bangladeshi Chinese Restaurant Recipe- Chili Chicken', 'Blouse cutting Easy Method step by step full tutorial', 'What Happens To Your Body When You Plank For 5 Minutes Every Day', 'Family surprises Dad with his very first kitten', 'Learn belly dance - Egyptian walk or 3/4 shimmy on the down', 'Antes y después pintando  gabinetes de cocina #remodeling #painting', 'How I cut 90s layers into my hair! Hairdresser Reacts! Brad Mondo', 'Cat grooming', 'The secret of Maxie’s ✨pawpularity✨😻 #cutecat #mainecoon #catdad #catsofyoutube #catsoftiktok', 'Cute bunny', 'Super Satisfying Pore Strip!!', 'Bonsai you can COOK with', 'Making his way to ✨pawpularity✨🐾 #catpaw #mainecoon #cutecat', 'Saved from death row', '#hairstyle #hairtutorial #90shair #hairstyles #haircolor #explore #explorepage', 'THIS IS A JOKE I DONT GO TO SCHOOL SOMEONE ASKED ME TO USE THIS AUDIO SO I DID', 'I’m glad she did know she was pregnant and was able to record the progress!', '115 Days in 41 Seconds - Red Bell Pepper', 'DAD SAVES THE DAY WITH HIS HAIR DYING SKILLS. 🫣🥹🥰 #girldad #hairdo', 'Giant Akita dog salsa dances for the blow dryer', '*patience required* this took 6 MONTHS to get to this growth point. #propagation #houseplants', '#foryoupage #portland', 'Hair hack so your style is more secure #hair #hairtutorial #hairstyle #hairhacks', 'Dog Daddy Becoming A Grandpa 😯', 'My dog is the cutest! #dog #goldenretriever #puppy', 'Best way to Regular combing your Dog | essential part of pet grooming', '30 Days in 43 Seconds - PEA Time-lapse', 'Feeling like a whole new person 🥰 #shorts', 'Cacti/succulent rescue with 3 month updates #plantcare #plantlovers #plantlovers #plantgrowth', 'Her face at the end 😮😮', 'Crazy Dramatic Siberian Husky at the groomer', 'Plopping my wavy curly hair gone wrong 😫', 'He’s the best🥹 #shorts #comedy #funny #relatable', 'giving myself a facelift in 3..2..1…', 'WHAT HAPPENS WHEN YOU TAKE A BALD GIRL SWIMMING #bald #funny #wiginstall #viral #wighelp #wigs', '#plants #peacelily #plantcare #plantshorts #fiddleleaffig #snakeplants #roots #monstera', 'Stop doing this 🙅🏻\\u200d♀️ do this instead ✨ #hairhacks', 'How people think I fill my containers ….. so cringey 🤢🥴 #viral #smallbusiness', 'Adele - Water Under The Bridge - TikTok dance', 'February favorites 💚 #houseplants #plantlove #plants #plantlover #plantcare #plant #bigplants', 'Why Using Logs to Fill a Raised Garden Bed is a Terrible Idea', 'My Faith in Humanity Has Been Restored 😭 #catrescue #cats', 'New Stung Lips', 'Try this claw clip hairstyle #shorts | tiktok cassiedrd', 'We swapped roles with our cat #shorts #calico #adoption', '#dermreacts HUGE #ingrownhair extraction. #skincare #shorts #pimplepopping', 'Biggest Ingrown Hair', 'What Sleeping Positions Say About Your Cat', 'Enter to Win $5,000 A Week Forever! (One Day Left!)', 'LETS CHAT!', 'CA_1233_daf23cf28b1e1600afd18f56f9ccf3b8', '¡EL FAMOSO postre que está volviendo loco al mundo! Sin horno, ¡Con 1 solo huevo!', 'how much YouTube paid me this year (2022) + my tips for making money from Adsense', 'Ick! These Kittens Need a Flea Bath! (How to tell if a kitten has fleas--and what to do.)', 'Vrbo US | Only Your People, Google Play | 6s | 9x16 | App', 'Jaclyn Hill RETURNS to Koze....(but ignores everything)', 'US KCSaunaTalk Jan 2023 15 16X9', '_1233_d016365c4b8f9b7ecb49b208923661f0', 'Cat TV 4K ~ Birds and Squirrels ⭐ Happy New Year ⭐', 'Abs Workout 🔥Get that 11 Line Abs in 35 days', 'The DIRTIEST BATHROOM in Europe!!', 'Am I still married in 2023? 😳 looking back at 2022... | NikkieTutorials', 'BUD LIGHT HOLD | EASY TO DRINK, EASY TO ENJOY :30', 'James Charles RUINED his brand launch...(influencer brands are done)', 'Carnival | Choose Fun Together - Girls Cruise', 'Jaclyn Hill LIED about EVERYTHING…(again)', 'How to de-skunk your dog | Golden Retriever & a puppy', 'Poise Ultra Thins', 'MM No Price Point (:06)', 'HNST3148000H           SR/WET/MY23SFVSOUTBACK/IMV/23SF/2.9APR60/1250/22823/MUL/15', 'Cleaning The SMELLIEST Car Ever! | Illegal Substance Removal | The Detail Geek', 'The BEST NEW MAKEUP (Under $10)', 'Take The 90 Second Quiz To Find Your Perfect Foundation Match', \"LET'S TALK ... Charlotte Tilbury - Pat McGrath - Urban Decay plus More!!!\", 'Ragdoll cats are MASSIVE', \"He's not the sun, you are\", 'Get FLAT BELLY in 28 DAYS at home (Challenge 2022) (with subtitles)', 'first COLLEGE football game of the year *clemson university*', 'video-504192', 'I Cleaned This DISGUSTING Stolen Car To Save A Marriage!', 'Binky Dad', \"Deep Cleaning A Girl's MUDDY Truck!\", 'GATO PERSA LINDO MAS BRAVO!! No final, consegui fazer amizade.❤️🐱', 'Hill’s Prescription Diet: Science Did That', 'Lindor Valentines 6s 2023', 'Kondensmilch mit Eier schlagen! Sie werden staunen! Alle suchen dieses Rezept! Kuchen in 15 Minuten', 'Learn Flexbox CSS in 8 minutes', 'Adorable little Ewok puppy', 'THE WEREWOLF CAT', 'Dark & Moody Dining Nook Makeover | Renter-Friendly!', 'Mikayla Nogueira EXPOSED by Beauty Community…(Tati Westbrook, Jeffree Star…)', 'HNDA3037000H      IMV/WinsVSCamry/23SON/2.9APR48/T.75K/22823/MUL/15', \"Saving Sawyer | Amazon's Big Game Ad\", \"Salvaging an ABANDONED Car That's NEVER Been Cleaned! | The Detail Geek\", 'Do Not Waste Your Money ... De-influencing', 'MY CURRENT AMAZON FAVORITES!', 'GRIT-X 2018: Kavita Krishnaswamy', 'BetterHelp Therapist Testimonials - Platform', 'The Dr. Phil of dogs', 'PG Old Spice Brief 6 Sprays Esquire Award 16x9 V16 1 | Old Spice Media NCS Test', 'Vrbo | A Place For Together - Privacy Vertical | 15s | Combo', 'How to Print with PaperCut as a Clemson Student (on Laptops/Desktops)', 'Deep Cleaning The NASTIEST REPO Car Ever! | Insanely Satisfying Car Detailing Transformation How To!', 'BRAND_MindfulMeals_V2_LongForm_16x9_18FREEMEALS_BAU_YT18', 'Interview? Tap the Uber app. | Uber', 'Find the Best Therapist for You From a Network of Over 30,000', 'If you own two Huskies you MUST be crazy', 'Wells Fargo Early Pay Day Lets You Get Paid Up to Two Days Sooner', 'My home reno is like a reality show #shorts', 'oakley has big paws😅 #dog #fyp #shorts #trend', 'How to reduce the look of cellulite #fyp #cellulite #weightlossjourney', 'it’s so important to talk about', 'A Siberian husky waking up from a nap 🙈😂 via @fascinateflix', 'I Made An Eyeshadow Palette From Scratch', 'Anne Hathaway’s GENIUS cupcake hack!', 'german shepherd/pomeranian mix!', 'What happens when your prop container is way too small? #plantcare #plantpropagation #plantlovers', 'It was running into the ceiling 😵\\u200d💫 #plant #propagation #airlayering #plantlove #monstera', 'Ringworm Treatment in kittens Pt. 3: Lime Sulfur Dip', 'watch to see what happens if you don‘t quit and start believing in yourself #transformation', 'What are your dog’s quirks?', 'Husky goes from brown to white', 'February 4, 2023', 'Saoirse Ronan about accents #celebrityworldcheck', 'Spicy kitten has an open wound and bites the vet to get relaxed 🌶️', 'How to help your stretched out succulents #plantcare #propagation #plantlovers', 'DOCTOR REACTS:PEARL FOUND IN FOOT?!😱🤯 #shorts #shorts30', 'Sleeping at a Cracker Barrel ALONE Van Life 😳', 'Peace Lily from SOIL ➡️ WATER 💦 will you try it??', 'Release the Owls! Ozzy Man Quickies', 'Penns Peeled Mats', 'I’m lucky they were still available 😩🙏🏼🥹🪴. #plantcaretips #planttingss #plants', 'Ever seen a bernese mountain mix dog with a gene defect? #shorts', 'When Your Breast Implant Develops an Egg Shell Around It! #shorts #breastimplantsurgery', 'How to LECAfy a Zamioculcas Zamiifolia Raven.', 'Infinite potatoes forever #shorts #gardening', 'Root pruning to prolong life in this pot 🙌🏻', 'Money plant repot #moneyplant #plantgrowth #repotting #plantcare #plantcaretips', 'Pinching FINGERTIP = Perfect Lipstick Color? 😫', 'Follow for more plant hacks 😜😂 #planttingss #plantcaretips  #plantpeople', 'What I’m eating as a model trying to gain weight! #shorts #youtubeshorts', 'Learn This Gospel Piano Trick Super Quick! 🎹🙏 (1Min Piano Lesson) #Shorts', 'D1 Men Gymnasts Try Women’s Gymnastics 😂 #gymnast #olympics #calisthenics #fail #gymnastics #fail', 'This is why my dog can’t go to doggie daycare #shorts #goldenretriever #husky', 'Bobby Lee on WHY there aren’t more ASIANS with Down syndrome', 'February 5, 2023', 'Have you ever seen a litter of 2 week old Chow Chow Puppies?', 'Peace lily, you are a dramatic heifer #plantcaretips #peacelily #plantrepotting #plantlovers', 'MAJOR WEIGHT LOSS TRANSFORMATION FROM HOME WORKOUTS #fatloss', 'Equal Vs Equity. Understanding That Love Isn’t Always Enough. #shorts #adoption #love', 'Our fave features of our office dogs 🐶💜 #dog #officedog #shorts', 'Lady Gaga brings fan on stage', 'Extreme Belly Fat Shred 61 sessions on the StairMaster. #weightloss #weightlossjourney', 'Have you ever seen this special golden retriever mix? #goldenretriever #husky #dog #shorts', 'Old Penicillin vs Germs Under Microscope', 'Things I GUARANTEE You Didn’t Know About CATS #shorts', 'Let’s see what dogs know how to lay down at dog daycare! #dogshorts #dogdaycare #doglover #puppy', 'Let’s see what puppies we have at dog daycare today! #dogdaycare #dogshorts', 'What happened to the monstera rescues rootball? #plantcare #plantcaretips #monstera #propagation', 'ANYA TAYLOR JOY EXPLAINS FEMININE RAGE😳👀', 'MESSI', 'mom is an accidental environmentalist #lifehacks #ecofriendly #sustainableliving #homehacks', '☆ TikTok filters pick my makeup pt 1 ☆', \"He wasn't sure about her at first but then 🥰🐶 | Quick Lifts #shorts\", 'diy butterfly haircut (aka layers) 🦋', \"This room seems impossible, but with a very simple move, it's now solved and actually quite nice!\", 'Huskys...one of the most difficult dogs', \"LET'S TALK ... Lashgate and Confronting Scammers\", 'Bento - Beauty Self Care 15s 16x9', 'Jaclyn Hill LIED about THIS…(hairy lipsticks)', 'Tutorial : How To Operate The Mini Sewing Machine ♥', 'BP Storage 16x9 15 OV Kitchen Storage', 'SINGER® TALENT™ 3321 Sewing Machine Top Drop-In Bobbin', 'OSSF - v155 Reverse (Loop Trick - Intro 1)', 'Blouse Cutting and Stitching|Simple Blouse Cutting and Stitching Easy Tutorial', \"Temu - Women's Accessories Sale\", 'The END of influencer brands…', 'Save more at Temu', 'CA_1233_f23493f4effa70fb5d98277ab2827ae0', 'Flowers लटकन making for Blouse at home /party wear Blouse #लटकन making easy method', 'Blouse Design #short #shorts #shortsvideo #shortsfeed #mandeepdesigns', 'New Blouse Back Neck Design Cutting and Stitching', 'How I transformed my BODY & my LIFE this year *no dieting, realistic fitness journey*', 'Princess Cut Blouse Design | Princes Cut Front Neck Blouse | Designer Blouse Design', 'QMAY3796OS1H  15 LCD20 2398 1', 'करवा चौथ special New Blouse design Full cutting / Designer Princesscut blouse back design cutting', 'Designer Princecut Model blouse full Stitching/Blouse stitching करने का सही तरीका/neck dori paiping', 'HL LTU Generic 15 16x9 AG 1080p H 264', 'ADV2_KINGSTON_SHORT_VERTICAL:10191745650673342272', 'SHEIN | As comfy and charming as it looks', 'LETS SEE HOW TO SEW A SARI BLOUSE', 'Aerial Yoga', 'Mikayla Nogueira RETURNS…(and ignores lashgate)', '72 Sq Ft Bedroom Makeover | DIY Removable Board and Batten', 'Carnival | Choose Fun Together - Tall Enough', 'US_1233_f4a6dcd9daad0378a33f6ba54d65d2a6', 'Instacart | Late Night 15s', 'Mikayla Nogueira RUINED her career…(lashgate continues)', 'Melissa McCarthy gets ready for the Big Game | Booking.com', 'Breath of Stress Air | $tress | Truth', 'The most gorgeous German Shepherd dog', 'Watch Me Propagate: 18 Easy Houseplants You Can Grow for Free!', 'Read file content from file input - React JS', 'Fetch Text.txt data from local text file using Fetch and Axios in React', 'Prototyping with React + Framer', 'How Much Should My Cat Weigh?', 'We Adopted A Stray Kitten', 'Lazy girl attempts the 75 HARD Challenge! (getting my life together)', 'GE Your Perfect Match US 15 16x9 CC Masks', 'THE BEST HOME CLEANING VIDEO EVER 💪', 'Chris Godwin Talks His Love For Pets, Second Chances, and Animal Shelters | MORE THAN A PET', 'Jivox_2023 Mazda CX-30 | Mazda USA', 'Nothing I Expedia 30s Preroll', 'Owner REACTS To A Mind-Blowing Detail Transformation!', 'Spicy cat gets the Hazard Helmet', '3 Essential Arpeggios 🎹✨ (Beginner Piano Lesson)', 'This New Method Will Make You Play Piano Within Days | For Beginners', 'How I Grow Massive Pothos & Philodendron Vines:  Tips You Need to Know!', 'The Disney Bundle | Icons', 'I tried the MOST POPULAR Fitness YouTubers WORKOUTS + DIETS for a week (CHLOE, NATACHA, MADFIT)', 'These 18 Plants Love to Grow in Water!', 'Mayhem Social Filter :15 | Allstate', 'Mikayla Nogueira \"LASHGATE\" situation just got WORSE...', '230111 HL CGTrailerPre SONY 1080x1080 Full EN', 'Is An Uber The WORST Car To Detail?', 'Is Volkswagen The WORST Car To Detail?', 'Cleaning The DIRTIEST Van Ever?!? | BEST Owner Reaction! | The Detail Geek', 'Deep Cleaning a JUNKYARD Truck Bought Dirt Cheap! | The Detail Geek', 'How to paint a car at home! step by step diy', 'Get Your Eligible Direct Deposit Up to Two Days Sooner with Early Pay Day by Wells Fargo', 'Kacchi Biryani (Bangladeshi Style) Recipe By Food Fusion Detailed', 'Forspoken - Cinematic Trailer', 'Jivox_Exterior | 2023 Mazda CX-5 | Mazda USA', 'Dietitian vs Tati Westbrook “I WAS MAKING MYSELF SICK” Exposé (Her EXTREME DIETs Got me SHOOK)', 'This dog has unforgettable ears', 'The most intense grooming session |  Unhappy Caucasian Ovcharka', 'The Most Important Exercises For Piano Players 🎹🚨  (Beginner Lesson)', '18 Plants for Very Dark Spaces!', 'Cetaphil’s facial cleanser does more than just clean.', 'US_1233_f54332bbf3d34d175717015fa2887a93', 'Mango & Sticky Rice Recipe  ข้าวเหนียวมะม่วง - Hot Thai Kitchen', 'How to make Red Curry Paste พริกแกงเผ็ด - HTK Tutorial', 'White Claw Waves of Winter // All-Season Seltzer', 'Pad Prik King Recipe - Red Curry Chicken & Long Beans Stir-Fry ไก่ผัดพริกขิง', 'US_1233_12f4060021aa6aa50d70462a0961a752', 'Disney+ | Lightyear', 'My FAV Pad Prik King Thai Red Curry Stir-fried Green Beans', 'Philo YouTube Spot2 Hybrid Alt Intro', 'Hefty®', 'EXTREME CLEAN WITH ME MARATHON🤩', 'Live Your Dream Life', 'Stress-Reducing Houseplants | My Top 5!', 'Grow BIG, Beautiful Monstera! | Swiss Cheese Plant Care Tips & Tricks', 'Cole Monthly 2M MessageUpdate 1', \"Tarte's $2 MILLION influencer brand trip...\", 'US_1233_57702c0b5885b46e054e0031552ccb54', 'Quick Charge Pro', 'Helping a depressed mom🥺❤️ COMPLETE DISASTER Home!!', 'DSN-1231 LHHATL Clip Spot', 'Andor | Original series from Star Wars | Now streaming, exclusively on Disney+', 'How to Play Relaxing Piano Music: A SIMPLE and EASY Step-By-Step Guide  for Beginners', 'EXTREME DIY Small Bathroom Makeover (Renter-Friendly Tips!)', 'Introducing The Modern Family Plan | Mint Mobile [CC]', 'I TRIED PILATES FOR A WEEK ✨ Why is everyone doing it & is it worth the hype?', 'SHEIN FALL WINTER COATS & JACKETS | *brutally honest* 😬', 'The BEST dog in the whole universe', 'Rescue mutt EXTREME fur explosion', 'The truth about Dalmatians | Beautiful dog breed', 'Worship Piano: Beginner To Pro 2.0  |  \"Play Worship Piano Like A Pro!\"', 'How to Operate a Portable Mini Sewing Machine FHSM 505 - NEX Sewing Machine', 'THRIFT FLIP: Underwire top inspired by Mirror Palais (from a regular old T Shirt?)', 'Jaclyn Hill’s Weight Loss Journey is BACK ON (and WORSE THAN EVER)', 'Jaclyn Cosmetics goes BANKRUPT… (the end of her brand)', 'Make Cleaning Look Easy | Mr. Clean Magic Erasers', 'Meet the new MacBook Pro and Mac mini | Apple', 'DREAM TO CLEAN!! THE FILTHIEST KITCHEN😵', 'Learn an instrument | Yousician', 'Mismatch: How Inclusion Shapes Design - Kat Holmes, Director for UX Design at Google', 'Kat Holmes: Rethink What Inclusive Design Means', '009 1263 GRLSWIRL NAM Acq EN UAC 1080x1620 59s Null IG M2 372', 'Q4 2022 The Home of Storytelling UAC 15 16x9', 'Why Does My Cat Sleep on Me? | Google Questions Answered', 'Play Beautiful Chord Progressions (Full Play-Along Lesson!)', 'Jaclyn Hill’s new launch is a complete mess…', 'Philo Tagged Yellowstone Paramount 30s 16x9 ALT v2', 'Disney Bundle | Now on Disney+', '009 583 GradientTest Acq EN UAC 1080x1620 15s IG', 'Cat Vocalizations and What They Mean', 'Lumoona VIP Crystal Club Program', 'Lizzo | The World is Your Cart | Instacart 🥕 | Craving :15', 'The Seven Deadly Cat Sins!', 'Grocery Bag YT Skippable FINAL', 'We tried the new all you can eat sushi restaurant in Greenville, SC', 'Americans Are Sharing The Savings – Check GoodRx (2)', 'Philo Tagged Sistas S5 BET', 'Owners REACT To A Mind-Blowing 14 Hour Detail Transformation!', 'One year of piano progress (as a 40-year-old beginner)', 'TANDOORI CHICKEN | TANDOORI CHICKEN IN OVEN | TANDOORI CHICKEN RECIPE', 'ANTI-HERO - Taylor Swift Piano Tutorial [chords accompaniment]', 'Anti-Hero - Taylor Swift - EASY PIANO TUTORIAL (accompaniment with chords)', 'Practice *THIS* Every Single Day 🎹🔥', \"You Aren't Too Busy To Practice Piano (10 Minute Practice Routine)\", 'Registering for an F45 Class and Canceling a Reservation', 'Car Accident Claim Benefits Program Overlay', \"Reviewing Perricone MD 'No Makeup Makeup' \\\\\\\\ Talk Through Tutorial\", 'Fresh - Weekly Shop 15s', 'This Is Our Last Carpet Cleaning Job... We Are Done!', 'Cube Escape: Seasons Walkthrough [Rusty Lake]', 'Cube Escape: Case 23 Walkthrough [Rusty Lake]', 'Fantasy Team - Mexican Pizza Delivery (Commercial) QR | Taco Bell', 'US_1233_697a6de1e0f29b9684fc052db9c7094b', 'LIFE UPDATE + CLEANING OUT MY PANTRY!', \"A Beginner's Guide To Piano Chord Progressions (with Kaitlyn)\", 'ZOL22Y3001 2022 All The Days September 15 OLV 16x9 rev12 13', 'AMAZING SURVIVAL STORY | Cleaning for FREE! ❤️', 'http://www.moneytree.consulting/free-video-training', 'How To Start A Video Production Business In 2023', 'cid=abe7947688b7a7399cbedc00294bf726', 'OV US Value Big Deal 16x9 30', \"Morphe is DONE...(and I'm not surprised)\", 'A Day in the Life of a Harvard PhD Student 2022', 'Harvard DCE StuckInARut Director V2 Extended', '단언컨대, 전세계에서 가장 더러운차를 세차했습니다. 구더기 득실거리는 사상최악의 차의 믿을 수 없는 변신', 'Vrbo | A Place For Together - Privacy | 15s | Combo', 'BEST DRUGSTORE MAKEUP of 2022 🎉', 'The best cat in the whole universe', \"How I handle a huge American Akita | Don't let your guard down\", '5SU Mini Fashion S2 6s Rares WM TGT AMZ', 'Get There Easier | Uber', 'ESCAPED SINGLE MOM BEGGED FOR MY HELP IN THE UK!🥺❤️'].\n",
            "  The User wants to know what this takeout1_YT_watch-history_Search Title activity says about them.\n",
            "  1. Make 9 inferences about the user based on their takeout1_YT_watch-history_Search Title activity in the form \"interested in X\" where X is a single interest\n",
            "  2. Recommend **EXACTLY THREE** products based on the **combination of all 9 inferences** for their **takeout1_YT_watch-history_Search Title** activity.\n",
            "   **STRICT JSON OUTPUT FORMAT (No extra text or explanations, just JSON):**\n",
            "   ```json\n",
            "   {\n",
            "    \"columns\": \"takeout1_YT_watch-history_Search Title\",\n",
            "    \"inferences\": [\n",
            "    {\"inference\": \"<output for inference 1>\", \"explanation_inference\": \"<explanation for inference 1>\"}, {\"inference\": \"<output for inference 2>\", \"explanation_inference\": \"<explanation for inference 2>\"}, {\"inference\": \"<output for inference 3>\", \"explanation_inference\": \"<explanation for inference 3>\"}, {\"inference\": \"<output for inference 4>\", \"explanation_inference\": \"<explanation for inference 4>\"}, {\"inference\": \"<output for inference 5>\", \"explanation_inference\": \"<explanation for inference 5>\"}, {\"inference\": \"<output for inference 6>\", \"explanation_inference\": \"<explanation for inference 6>\"}, {\"inference\": \"<output for inference 7>\", \"explanation_inference\": \"<explanation for inference 7>\"}, {\"inference\": \"<output for inference 8>\", \"explanation_inference\": \"<explanation for inference 8>\"}, {\"inference\": \"<output for inference 9>\", \"explanation_inference\": \"<explanation for inference 9>\"}\n",
            "    ],\n",
            "    \"final_product_recommendation\": {\n",
            "      \"recommendation 1\": f\"<recommendation 1>\",\n",
            "      \"recommendation 2\": f\"<recommendation 2>\",\n",
            "      \"recommendation 3\": f\"<recommendation 3>\"\n",
            "    }\n",
            "   }\n",
            "   ```\n",
            "  }\n",
            "```json\n",
            "{\n",
            "  \"columns\": \"takeout1_YT_watch-history_Search Title\",\n",
            "  \"inferences\": [\n",
            "    {\"inference\": \"interested in cooking\", \"explanation_inference\": \"The user has watched several cooking videos, including various recipes and tutorials.\"},\n",
            "    {\"inference\": \"interested in DIY and crafting\", \"explanation_inference\": \"The user has shown interest in DIY projects, sewing tutorials, and upcycling ideas.\"},\n",
            "    {\"inference\": \"interested in music and piano tutorials\", \"explanation_inference\": \"The user frequently watches piano tutorials, especially for popular songs.\"},\n",
            "    {\"inference\": \"interested in home cleaning and organization\", \"explanation_inference\": \"The user views multiple videos about deep cleaning and home organization.\"},\n",
            "    {\"inference\": \"interested in pet care\", \"explanation_inference\": \"The user has watched various pet grooming and care videos.\"},\n",
            "    {\"inference\": \"interested in health and fitness\", \"explanation_inference\": \"The user has watched fitness-related content, including workouts and weight loss transformations.\"},\n",
            "    {\"inference\": \"interested in gardening\", \"explanation_inference\": \"The user is engaged with videos about growing plants and gardening tips.\"},\n",
            "    {\"inference\": \"interested in fashion\", \"explanation_inference\": \"The user has viewed multiple videos related to clothing, style, and fashion tutorials.\"},\n",
            "    {\"inference\": \"interested in home improvement\", \"explanation_inference\": \"The user has watched videos about home makeovers and renovations.\"}\n",
            "  ],\n",
            "  \"final_product_recommendation\": {\n",
            "    \"recommendation 1\": \"Complete Cooking Set with Recipe Book\",\n",
            "    \"recommendation 2\": \"DIY Crafting Kit for Home Projects\",\n",
            "    \"recommendation 3\": \"Beginner Piano Keyboard with Learning App\"\n",
            "  }\n",
            "}\n",
            "```\n",
            "The user has the following takeout1_chrome_MyActivity_Search Title activity: ['Google Takeout', 'Data & privacy', 'Inactive Account Manager', 'Third-party apps & services', 'About me', 'Google Account', 'My Ad Center', 'Google - My Activity', 'Your data in YouTube', 'YouTube', 'Manage your exports', 'Sign in - Google Accounts', 'Google Verification Code - sushmik@g.clemson.edu - Clemson University Mail', 'Inbox (22) - sushmik@g.clemson.edu - Clemson University Mail', 'Your Google data is ready to download - sushmitakhan@gmail.com - Gmail', 'Inbox (24) - sushmitakhan@gmail.com - Gmail', \"Apple's New 15-inch MacBook Air Is a Beast for Travel, and It's on Sale for Its Lowest Price Yet | Sports Illustrated\", 'CHI 2024 Submission - Google Docs', 'Edit #5076 \"Teaching Middle Schoolers about the Privacy ...\"', 'PCS', 'New Analysis - Google Docs', 'Things to do in Myrtle Beach, South Carolina | Sheraton Myrtle Beach', 'Hotels near Myrtle Beach Convention Center | Sheraton Myrtle Beach', 'Dating apps in South Korea - Google Docs', 'Untitled document - Google Docs', 'Review CSCW 2024 July 2023', 'Algorithmic Obtuseness - Google Docs', 'Review #1107 \"Decoding Love: An Exploration of Algorithmic ...\"', 'CSCW 2024 - Google Drive', 'Engagements and services - Google Drive', 'My Drive - Google Drive', '#9493 \"Algorithmic Obtuseness and Users\\' Inability to ...\"', 'Review #9493 \"Algorithmic Obtuseness and Users\\' Inability to ...\"', 'algorithmic experience - Google Search', 'AX - Google Search', 'Inbox (24) - sushmik@g.clemson.edu - Clemson University Mail', 'FW: AI Standards Committee Onboarding Session - sushmik@g.clemson.edu - Clemson University Mail', 'Pre and post answers - Google Docs', 'Module 2_Ad Tracking & Personalization - Google Drive', 'All Modules - Google Drive', 'Module Implementation Documents - Google Drive', 'Project Activities - Google Drive', 'Publication - Google Drive', 'CHI2024 - Google Drive', 'Nine questions for HCI researchers in the making | Interactions', 'Nine questions for HCI researchers in the making | ACM Interactions', 'here', 'Redirecting', 'CUGAME Lab Handbook - Google Docs', 'Kelsea Schulenberg - Research Assistant - CU GAME (Clemson University Gaming And Mediated Experience) Lab - Clemson University College of Engineering, Computing and Applied Sciences | LinkedIn', \"Amao's homepage\", \"Yang's Homepage\", 'Ruchi Panchanadikar - Penn State University - United States | LinkedIn', 'Lingyuan Li - ☻ Publications', 'Lingyuan Li', 'cu game lab - Google Search', 'Inbox (17) - sushmik@g.clemson.edu - Clemson University Mail', 'Fwd: AIRISE Affiliate Faculty: Help local K-12 teachers integrate AI into their curriculum - sushmik@g.clemson.edu - Clemson University Mail', 'AIRISE', 'Advisory Board', 'Search results - sushmik@g.clemson.edu - Clemson University Mail', 'Search for accommodations in Myrtle Beach - Google hotels', 'myrtle beach hotels - Google Search', 'Things to do in Myrtle Beach - Google Search', 'myrtle beach - Google Search', 'Myrtle Beach Hotels | Visit Myrtle Beach', 'Welcome to Myrtle Beach, South Carolina | Visit Myrtle Beach', 'Tracking and Pervasive Personalization - CHI2024 - 10Sep23 - Online LaTeX Editor Overleaf', 'State: South Carolina - Southern Regional Education Board', 'Southern Regional Education Board', 'Programs & Services - Southern Regional Education Board', 'Search - Southern Regional Education Board', '2 Weeks Away from the Career Fair, Get Prepared! - sushmik@g.clemson.edu - Clemson University Mail', '105 to Myrtle Beach, SC - Google Maps', 'Google Maps', 'The Tasty Indian Potato Dish That Can Be Thrown Right In An Instant Pot', '(no subject) - sushmik@g.clemson.edu - Clemson University Mail', 'FW: SC AI Education Expert Schedule - sushmik@g.clemson.edu - Clemson University Mail', 'Diablo 4 Helltide Event Timer and Chest Locations', 'Publications', 'Projects', 'Hiring', 'Yongkai Wu', 'For Authors – CHI 2024', 'MUSICHELP Sheet Music Downloads at Musicnotes.com', 'Download Sheet Music in MUSICHELP at Musicnotes.com', 'MUSICHELP \"World\\'s Smallest Violin [advanced]\" Sheet Music (Piano Solo) in F Major - Download & Print - SKU: MN0231323', 'Netflix', 'Your Projects - Overleaf, Online LaTeX Editor', 'Ad Tracking and Personalization - Online LaTeX Editor Overleaf', 'Amazon.com: wet n wild Mega Last Stained Glass Lip Gloss, Handle With Care', \"Amazon.com : L'Oreal Paris Makeup Rouge Signature Matte Lip Stain, Empowered : Beauty & Personal Care\", 'Amazon.com : Eliversion 20Pcs Tattoo Lipstick Cotton Swab, Waterproof Non-Stick Tattoo Lipstick Cotton Swab Lip Tint, Long Lasting Lip Gloss Cotton Swab Matte : Beauty & Personal Care', 'Amazon.com : Rimmel Provocalips Lip Stain, Just Teasing, 0.14 Fluid Ounce : Beauty & Personal Care', 'Amazon.com : lip stain', 'Amazon.com. Spend less. Smile more.', 'Skip The Mayo In Tuna Salad While Adding Big Flavor With Pepperoncinis', 'Research Jobs & Internships | Meta Careers', 'Meta Research', 'Fellows - Emerging Scholars - Meta Research', 'Research Awards - Meta Research', 'facebook fellowship - Google Search', 'Volunteer to Review', '#5076 \"Teaching Middle Schoolers about the Privacy ...\"', 'Launch Meeting - Zoom', 'Amazon.com : ETUDE Dear Darling Water Tint Cherry Ade (21AD) | Vivid Color Lip Stain with Moisturizing Weightless & Non-sticky Finish Lip Stain | Smudge-proof & Lightweight Lip Tint | K-beauty : Beauty & Personal Care', \"Benefit Cosmetics Liquid Lip Blush & Cheek Tint, 0.33 oz - Macy's\", \"Benefit Cosmetics Face Makeup & Face Cosmetics You Will Love - Macy's\", \"Face Makeup & Face Cosmetics You Will Love - Macy's\", \"Macy's - Shop Fashion Clothing & Accessories - Official Site - Macys.com\", 'benefit cosmetics - Google Search', 'Amazon.com: Lip Stain - Prime Eligible', 'Amazon.com: Lip Stain Peel Off - Prime Eligible', 'Amazon.com : 2Pcs Lip Stain Peel Off Kit,Matte Tattoo Magic Lip Stain Tint Long Lasting Lip Gloss Sets Peel Off Colored Sexy Colors,Nonstick Cup Tear-off Peel Off Tattoo Lipsticks Makeup for Women Girls-Vegan (02#04#) : Beauty & Personal Care', 'Amazon.com : lip stain peel off', 'sperry - Google Search', 'Amazon.com: beetles Gel Polish: Gel Polish Set', 'Amazon.com: beetles Gel Polish', 'Amazon.com : Beetles 2pcs 7.5ml No Wipe Gel Top Coat and Base Coat Set, Soak Off LED Clear Gel Base Top Gel Glossy Shine Finish Long Lasting Gel Polish Base and Top Coat Gel Lamp Halloween Nails Art DIY Home : Beauty & Personal Care', 'Amazon.com : gel nail polish applicator', 'Amazon.com : MEFA Gel Nail Polish Kit, 23 Pcs Red Pink Blue Glitter Gel Polish Set Collection All Seasons Orange Brown Black White Nail Polish Starter Kit Classic Colors with Glossy & Matte Top Base Coat Nail Art Gift for Manicure : Beauty & Personal Care', 'produce - sushmik@g.clemson.edu - Clemson University Mail', 'Amazon.com : Yougai Manicure Set Nail Clippers Pedicure Kit -18 Pieces Stainless Steel Manicure Kit, Professional Grooming Kits, Nail Care Tools with Luxurious Travel Case, Black : Beauty & Personal Care', 'Amazon.com Shopping Cart', 'Amazon.com : manicure kit professional', 'Amazon.com : manicure kit', 'Home - Netflix', 'Background - Google Docs', 'data tracking and college admissions - Google Scholar', 'personalised advertising targeting children - Google Scholar', 'ScienceDirect.com | Science, health and medical journals, full text articles and books.', 'Adolescents’ advertising literacy and privacy protection strategies in the context of targeted advertising on social networking sites: implications for regulation | Emerald Insight', 'Teens’ responses to Facebook newsfeed advertising: The effects of cognitive appraisal and social influence on privacy concerns and coping strategies - ScienceDirect', 'personalized ads privacy children - Google Scholar', 'personalized ads privacy implications to children - Google Scholar', 'Frontiers | What Is Influencer Marketing and How Does It Target Children? A Review and Direction for Future Research', 'online targeted advertising privacy implications to children - Google Scholar', 'online targeted advertising privacy - Google Scholar', 'competitive targeted advertising \"price discrimination\" - Google Scholar', 'racial discrimination targeted ads - Google Scholar', 'Advertising Exposure from Online and Offline Sources and Youth Tobacco Use: Findings from the Adolescents, Place, and Behavior Study | Nicotine & Tobacco Research | Oxford Academic', 'online targeted ads adolescent - Google Scholar', 'discrimination targeted ads adolescent - Google Scholar', 'discrimination and targeted ads affecting adolescents - Google Scholar', 'discrimination and targeted ads - Google Scholar', \"children's privacy data era - Google Scholar\", 'adolescents data privacy violation - Google Scholar', \"“It's not like they're selling your data to dangerous people”: Internet privacy, teens, and (non-)controversial public issues - ScienceDirect\", 'Children’s understanding of personal data and privacy online – a systematic evidence mapping', 'Full article: Children’s understanding of personal data and privacy online – a systematic evidence mapping', 'adolescents experience with personal data privacy violation - Google Scholar', 'Google Scholar', 'google scholar - Google Search', 'adolescents experience with personal data privacy violation - Google Search', 'It’s Here! This Month’s Duke Energy Newsletter - sushmik@g.clemson.edu - Clemson University Mail', \"“Do you like cookies?” Adolescents' skeptical processing of retargeted Facebook-ads and the moderating role of privacy concern and a textual debriefing - ScienceDirect\", 'adolescent personal data privacy - Google Scholar', '\\u202aSushmita Khan\\u202c - \\u202aGoogle Scholar\\u202c', 'Teens, Social Media, and Privacy | Pew Research Center', 'adolescent privacy from data tracking and personal data - Google Search', 'adolescent privacy from data tracking - Google Search', '(8) (PDF) Monitoring, Datafication, and Consent: Legal Approaches to Privacy in the Big Data Context', 'Monitoring, Datafication, and Consent: Legal Approaches to Privacy in the Big Data Context - Google Search', 'Monitoring, Datafication, and Consent: Legal Approaches to Privacy in the Big Data Context (Chapter 1) - Privacy, Big Data, and the Public Good', 'Privacy, Big Data, and the Public Good', 'lane stodden bender and nissenbaum - Google Search', 'Business Dashboards | Tableau Public', 'baracos and nissembaum - Google Search', 'barcosa and nissembaum - Google Search', 'barbos and nissenbaum - Google Scholar', 'Discover | Tableau Public', 'Free Data Visualization Software | Tableau Public', 'public.tableau.com/app#modal-signin', 'Figma', 'DAIR (Distributed AI Research Institute)', 'Research | DAIR', 'Earl W. Huff, Jr., Ph.D.', 'Tajkia Ferdous - Consultant, Cloud Engineering - Avanade | LinkedIn', 'Your Home Energy Report - Duke Energy', 'Account Selector', 'Sign In to My Account - Duke Energy', 'September Home Energy Report for Sushmita Khan - sushmik@g.clemson.edu - Clemson University Mail', 'Deluxe Cover - Limpet Blue - BIG – The Happy Planner', 'Trump seeks removal of federal judge from D.C. elections case', 'Artificial intelligence for natural product drug discovery | Nature Reviews Drug Discovery', \"Flash Sale: 40-50% off Beauty - Macy's\", \"Converse Women's Chuck Taylor All Star Move Platform High Top Casual Sneakers from Finish Line - Macy's\", \"Calvin Klein Women's Buffalo Check Surplice Midi Dress - Macy's\", 'Calling all coffee-lovers ☕️ ❤️ - sk03732@georgiasouthern.edu - Georgia Southern University Mail', 'Inbox (31) - sk03732@georgiasouthern.edu - Georgia Southern University Mail', 'Clemson Login Service', 'Event Invitation: LavGrad Coffee Social - sushmik@g.clemson.edu - Clemson University Mail', 'Fwd: Batteryless Fitness Tracker Study - sushmik@g.clemson.edu - Clemson University Mail', 'FAccT reimbursement - sushmik@g.clemson.edu - Clemson University Mail', 'Sushmita Khan - CV', \"Intro to What's the Evidence? | Civic Online Reasoning\", 'Evaluating Evidence | Civic Online Reasoning', 'Evaluating Evidence Rubric - Google Docs', \"Intro to What's the evidence - Teacher Materials - Level 2 - Google Docs\", 'The Institute for Rebooting Social Media | Berkman Klein Center', 'Digital Literacy Resource Platform | Youth and Media', 'Youth and Media — Team | Berkman Klein Center', 'Harvard University Privacy Tools Project', 'About – Institute for Rebooting Social Media', 'rubric - Google Search', 'A picture is worth a thousand lies: Using false photographs to create false childhood memories | SpringerLink', 'Social Media TestDrive | Proceedings of the 2019 CHI Conference on Human Factors in Computing Systems', 'Revise and Edit To-Do List - Google Docs', \"Intro to What's the evidence? - Teacher Materials - Level 1 - Google Docs\", 'cor.stanford.edu/authcallback/?ticket=ST-n0Ijuc9UTCcv2WLALETXSWsYuwB4yiHGjQfR8GtjYMI', '| Stanford History Education Group', 'Home | Civic Online Reasoning', 'People – Institute for Rebooting Social Media', 'Events – Institute for Rebooting Social Media', 'Announcing the 2023-2024 RSM Visiting Scholars – Institute for Rebooting Social Media', 'Programs & Projects – Institute for Rebooting Social Media', 'Get Involved – Institute for Rebooting Social Media', 'Institute for Rebooting Social Media – Harvard BKC Institute for Rebooting Social Media', 'Programs | Berkman Klein Center', 'Research Sprints | Berkman Klein Center', 'home | Berkman Klein Center', 'Fellowship Program | Berkman Klein Center', 'Projects & Tools | Berkman Klein Center', 'Publications | Berkman Klein Center', 'Community | Berkman Klein Center', 'Events | Berkman Klein Center', 'Privacy Tools | Berkman Klein Center', 'Youth and Media Network | Youth and Media', 'Advisors | Youth and Media', 'Core | Youth and Media', 'All | Youth and Media', 'Get Involved | Youth and Media', 'Teaching and Outreach | Youth and Media', 'Youth and Media', 'Youth and Media | Berkman Klein Center', 'About | Digital Citizenship+ Resource Platform', 'Education | Berkman Klein Center', 'The Harvard CIVICS Program | 10 Questions for Young Changemakers', 'harvard online civic reasoning - Google Search', 'stanford history education group - Google Search', 'Sushmita Khan', 'Supp materials links - sushmik@g.clemson.edu - Clemson University Mail', 'Nominations form for the election of BAC 2023-24 Committee - sushmik@g.clemson.edu - Clemson University Mail', 'Edit | New Workbook', 'tableau public - Google Search', 'Getting virtually personal | Proceedings of the 24th International Conference on Intelligent User Interfaces', 'Getting virtually personal | Proceedings of the 24th International Conference on Intelligent User Interfaces: Companion', 'Juji Patents and Scientific Publications', 'Cognitive AI Chatbots', 'Sign in', 'View Data: Sheet3', 'CyberEd – FigJam', 'Jasmine Davidson, MBA - PhD Fellow - Clemson University College of Engineering, Computing and Applied Sciences | LinkedIn', \"Are 'Selling The OC’s' Alex Hall And Tyler Stanaland Dating Now?\", 'RUF-I Volleyball and Movie Night Friday, September 15th', 'This week with RUF-I - Google Docs', 'ruficlemson | Twitter, Instagram, Facebook | Linktree', 'RUF-I This Week - sushmik@g.clemson.edu - Clemson University Mail', 'Inbox (16) - sushmik@g.clemson.edu - Clemson University Mail', 'Postdoctoral/Residency | Research Training', 'NARS Concealer: Under Eye Concealer Makeup | NARS Cosmetics', 'NARS Makeup', 'FREE SHIPPING WITH $35+', 'This. Is. It. 20% off sitewide ends now. - sk03732@georgiasouthern.edu - Georgia Southern University Mail', 'TOP | Mysite', 'Nusrat_zahan_resume.pdf - Google Drive', 'Nusrat Zahan - Experience', 'Nusrat Zahan', 'Nusrath Zahan - Google Search', 'Md Rashedul Islam - Research Assistant - University of Missouri-Columbia | LinkedIn', 'md rashedul islam clemson university industrial engineering - Google Search', 'SAYED REZWANUL ISLAM - Graduate Research Assistant - Clemson University | LinkedIn', 'Md Rashedul Islam - Google Search', 'Sayed Rezwanul Islam - Google Search', '\\u202aSAYED REZWANUL ISLAM\\u202c - \\u202aGoogle Scholar\\u202c', 'Md Zahidul Islam - Google Search', 'md zahidul islam clemson university - Google Search', 'Md. Zahidul Islam - Graduate Research Assistant - University of Arkansas | LinkedIn', 'MD ZAHIDUL ISLAM - Ph.D. Candidate/Research Assistant - University of Houston | LinkedIn', 'Farhatul Janan - Google Search', 'Farhatul Janan - Graduate Teaching Assistant - Clemson University | LinkedIn', 'Graduate Students | College of Engineering, Computing and Applied Sciences | Clemson University, South Carolina', 'People', 'Dr. Tuğçe Işık | College of Engineering, Computing and Applied Sciences | Clemson University, South Carolina', 'tugce isik - Google Search', 'Tugce Isik - Assistant Professor - Clemson University | LinkedIn', 'Clemson University | LinkedIn', 'Tugce Isik', 'Facebook', '\\u202aTuğçe Işık\\u202c - \\u202aGoogle Scholar\\u202c', 'CTAN: Package subcaption', 'latex subcaption documentation - Google Search', 'Figures, Subfigures and Tables - Overleaf, Online LaTeX Editor', 'Basic Structure - Overleaf, Online LaTeX Editor', 'Page Layout - Overleaf, Online LaTeX Editor', 'overleaf multi figure - Google Search', 'floats - Insert multiple figures in Latex - TeX - LaTeX Stack Exchange', 'Tracking and Pervasive Personalization - Google Drive', 'Sign in - ORCID', 'ORCID', 'Viz with the DataFam to Sharpen Your Data Skills', 'Tableau Login', 'Tableau Public | Find inspiration and improve your data skills', 'Sushmita Khan (0000-0002-4290-584X) - ORCID', 'CyberEd - Google Drive', 'Research - Google Drive', 'rogerthatapp - Social Media TestDrive', 'crunchflakes - Social Media TestDrive', 'Inbox (14) - sushmik@g.clemson.edu - Clemson University Mail', 'Tracking and Pervasive Personalization - CHI2024 - 04Sep23 - Online LaTeX Editor Overleaf', 'Computing Activities - Lesson Plan - Google Docs', 'I’m a Shopping Writer, and These Are the 10 Cozy Sweaters I’m Buying for Fall', \"Clemson Football: Dabo Swinney comments on Cade Klubnik's performance - Sports Illustrated Clemson Tigers News, Analysis and More\", 'Vegan Banana Bread (Easy + Healthy) - The Simple Veganista', 'social media test drive paper - Google Search', 'Learn - Social Media TestDrive', 'Welcome - Social Media TestDrive', 'SC Artificial Intelligence - HS CS - Google Docs', 'Analysis - Google Docs', 'Activity 2 - Google Docs', 'View Data: Sheet 3 (2) (1 mark)', \"Taylor Swift - Enchanted (Taylor's Version) (Lyric Video) - YouTube\", 'enchanted taylor swift - YouTube', 'View Data: Sheet 3 (1 mark)', 'Profile - sushmita.khan | Tableau Public', 'data visualization - Google Search', 'TestDrive Modules', 'Behind the Data: data, human values, and society — Ethical Tech @ Cal Poly', 'CSTA NE 2023', 'CSTA NE 2023 - Schedule', 'SHIMMER SATIN SAREES – kreationbykj', 'SEQUINS SAREES – Page 3 – kreationbykj', 'SEQUINS SAREES – Page 2 – kreationbykj', 'SEQUINS SAREES – kreationbykj', 'Border Sarees – Page 3 – kreationbykj', 'Border Sarees – Page 2 – kreationbykj', 'Border Sarees – kreationbykj', 'Collections – kreationbykj', 'SATIN SAREES – Page 4 – kreationbykj', 'SATIN SAREES – Page 3 – kreationbykj', 'SATIN SAREES – Page 2 – kreationbykj', 'SATIN SAREES – kreationbykj', 'Pink Edit! – kreationbykj', 'KREATION BY KJ – kreationbykj', 'Papers – CHI 2024', 'Guide to a Successful Submission – CHI 2024', \"Juji's take on your personality | Tableau Public\", 'SREB training', 'Google Drive: Sign-in', 'AI expert for SC high school training - sushmik@g.clemson.edu - Clemson University Mail', 'public.tableau.com/app/', 'Center for Applied Artificial Intelligence | The University of Chicago Booth School of Business', '\\u202aFarzana Khatun\\u202c - \\u202aGoogle Scholar\\u202c', 'Farzana KHATUN - Assistant Project Scientist - UC Irvine | LinkedIn', 'View Data: Module-1-chatbot-individual-3', 'Juji Studio', 'Juji IDE', \"Edit | Juji's take on your personality\", 'Tableau - Sign In', 'Juji Chatbot Greeting', 'Free Play - Social Media TestDrive', 'Finished - Social Media TestDrive', 'Quiz - Social Media TestDrive', 'Reflection - Social Media TestDrive', 'Review - Social Media TestDrive', 'Interest Page - Social Media TestDrive', 'Guided Activity - Social Media TestDrive', 'Tutorial - Social Media TestDrive', 'Shared with me - Google Drive', 'Fw: Clemson Research - sushmik@g.clemson.edu - Clemson University Mail', 'Fw: chat bot - sushmik@g.clemson.edu - Clemson University Mail', 'Fwd: Order Confirmation #219817386-001 - sushmik@g.clemson.edu - Clemson University Mail', 'Lessons 3 and 4 - sushmik@g.clemson.edu - Clemson University Mail', 'Project - Student Handout - Google Docs', 'Accepted: Project Presentation - Grade 6 Group 1 students at Ware S... @ Wed Feb 9, 2022 11:10am - 11:40am (EST) (sushmik@g.clemson.edu) - sushmik@g.clemson.edu - Clemson University Mail', 'Accepted: Project Presentation - Grade 6 Group 2 students at Ware S... @ Wed Feb 9, 2022 12:30pm - 1:30pm (EST) (sushmik@g.clemson.edu) - sushmik@g.clemson.edu - Clemson University Mail', 'Fw: - sushmik@g.clemson.edu - Clemson University Mail', 'Resume- Hansen Lee.docx - Google Docs', 'Trash - Google Drive', 'Google Drive', 'icy veins helltide - Google Search', 'Ware Shoals pays $85K to apparent scammer, SLED investigating | News | indexjournal.com', 'Nintendo Switch Systems - My Nintendo Store - Nintendo Official Site', 'Nintendo Switch Lite - Nintendo Switch - Nintendo - Official Site', 'Nintendo Switch™ Family - Nintendo - Official Site', 'Trust & Safety research awards – Google Research', 'Selecting a Subcommittee – CHI 2023', 'Staff | School District of Pickens County', 'You Are Not Responsible for Your Own Online Privacy | WIRED', 'CHI 2024 unconference meets', 'Mines Careers', 'About me - Abigail Bodner', 'Online LaTeX Editor Overleaf', 'TODAY @ 2:30: SoC Seminar with Dr. Siyu Huang - sushmik@g.clemson.edu - Clemson University Mail', 'agreement - sushmik@g.clemson.edu - Clemson University Mail', 'opposite of mutually exclusive meaning - Google Search', 'mutually exclusive meaning - Google Search', 'RSSA - Google Drive', 'RSSA - Preference visualization - Online LaTeX Editor Overleaf', 'Is It Carpal Tunnel, Arthritis or Tendinitis? - Health Images', 'Differences Between Tendonitis and Carpal Tunnel - Metro Health NYC', 'Outreach – Google Research', 'Research Areas – Google Research', 'Google Research', 'Research support - Grants | LIVES Center', 'Spotify', 'Sign up', 'The best no code AI chatbot builder with cognitive intelligence', 'juji no coding - Google Search', 'juji login - Google Search', 'common synonym - Google Search', 'inevitable synonym - Google Search', 'LookingGlassVentures - Google Search', 'Cybersecurity Education in the Age of AI: Integrating AI Learning into Cybersecurity High School Curricula | Proceedings of the 54th ACM Technical Symposium on Computer Science Education V. 1', 'Cybersecurity Education in the Age of AI: Integrating AI Learning into Cybersecurity High School Curricula - Google Search', 'What Are Cybersecurity Education Papers About? | Proceedings of the 51st ACM Technical Symposium on Computer Science Education', 'What {{Are Cybersecurity Education Papers About}}?: {{A Systematic Literature Review - Google Search', 'Zotero | Your personal research assistant', 'All: personalization data privacy : Search', 'About Me', '\\u202aHayden Wimmer\\u202c - \\u202aGoogle Scholar\\u202c', 'Christian Nwankwo - PROJECT MANAGER - The Church of Jesus Christ of Latter-day Saints | LinkedIn', 'Christian Nwankwo georgia southern linkedin - Google Search', 'Christian Nwankwo - Associate - UPS | LinkedIn', 'Christian Nwankwo georgia southern - Google Search', 'Christian Nwankwo MD,MPH,FAAFP - Assistant Professor - Howard University,Medical School | LinkedIn', 'Christian Nwankwo - Google Search', 'View article', 'hayden wimmer georgia southern - Google Search', 'christian georgia southern - Google Search', 'How to Melt Old Candle Wax into New Candles to REUSE Candle Wax! - YouTube', 'melt wax - YouTube', 'Reutilizar ropa vieja | Recicla jeans viejos en el vestido || reutilizar la ropa! - YouTube', 'DIY Upcycling a T-Shirt|/티셔츠 리폼/Wrap dress/끈 원피스/뷔스티에/Wrap skirt/랩스커트/옷만들기/Refashion - YouTube', \"You don't have to be a tailor! Sewing clothes this way is quick and easy - YouTube\", 'DIY Upcycling a T-Shirt/티셔츠 리폼/점퍼슈트/Jumpsuit/면티/흰티/Reform Old Your Clothes/안입는옷/Refashion/옷수선/옷만들기 - YouTube', '📌 The Secrets of Sewing Cap Sleeves that you should know| Sewing Tips and Tricks for Beginners - YouTube', 'MEE YA - YouTube', \"DIY Puff sleeve dress - Refashion Men's Shirt into puff sleeve dress - How to make Square neck dress - YouTube\", 'DIY Upcycling a T-Shirt|/티셔츠 리폼/면티/블라우스/흰티/Blouse/Reform Old Your Clothes/안입는옷 리폼/Refashion/옷수선/옷만들기 - YouTube', 'Upol Ehsan - The Gradient', 'PhD Proposal by Upol Ehsan | Graduate Education', '\\u202aUpol Ehsan\\u202c - \\u202aGoogle Scholar\\u202c', 'Upol E. - Atlanta, Georgia, United States | Professional Profile | LinkedIn', 'Data & Society — Upol Ehsan', 'Fwd: STEM ALL IN flyer 2024 - sushmik@g.clemson.edu - Clemson University Mail', 'Schilletter Dining Hall - Clemson University', 'Clemson Dining - Clemson University', 'The Dish at McAlister - Clemson University', 'schilletter - Google Search', 'word count trick for CHI papers in overleaf - sushmik@g.clemson.edu - Clemson University Mail', 'Amazon.com: PopSockets Phone Wallet with Expanding Phone Grip, Phone Card Holder - Black : Cell Phones & Accessories', 'Amazon.com: Popsockets - PopSockets / Cell Phone Grips / Cell Phone Accessories: Cell Phones & Accessories', 'Amazon.com : popsockets', 'Amazon.com: Popsockets', 'Meta for Developers Onboarding - FORT', 'Participatory design to address cyberbullying fueled by third-party disclosure of personal information - Online LaTeX Editor Overleaf', 'Inbox (15) - sushmik@g.clemson.edu - Clemson University Mail', 'Internship Opportunity! Leaders, Employees, and Connection in Enterprise Social Media – Social Media Collective', 'SMC Internships – Social Media Collective', 'Two new SMC postdocs and a new SMC predoctoral research assistant – Social Media Collective', 'Social Media Collective', 'microsoft social media collective - Google Search', 'Security Research: Internship Opportunities | Microsoft Careers', 'Search Jobs | Microsoft Careers', 'Home | Microsoft Careers', 'Applied Scientist: PhD Internship Opportunities | Microsoft Careers', 'Human-computer interaction - Microsoft Research', 'Microsoft Research – Emerging Technology, Computer, and Software Research', 'microsoft research - Google Search', 'Home / X', 'UIST 2024 - Organizing Committee Application', 'RecSys 2023 (Singapore) - RecSys – RecSys', 'RecSys – ACM Recommender Systems', 'recsys 2024 - Google Search', 'UIST 2023', 'UIST 2023 (@ACMUIST) / X', 'Sushmita (@sushmitalkhan) / X', 'The Washington Post - Breaking news and latest headlines, U.S. news, world news, and video - The Washington Post', 'Who talked most and took attacks at the first Republican debate - The Washington Post', 'Trump escalates false attacks on Biden as some Republicans push toward impeachment - The Washington Post', 'The Post Most: How covid experts are living now - sushmik@g.clemson.edu - Clemson University Mail', 'General Meeting Invitation - sushmik@g.clemson.edu - Clemson University Mail', 'Drafts (1) - sushmik@g.clemson.edu - Clemson University Mail', 'Powdersville Middle / Overview', 'Administration / Mr. Todd Binnicker, Principal', 'todd binnicker - Google Search', 'Drafts (2) - sushmik@g.clemson.edu - Clemson University Mail', 'Cybersafety Education for High School Students: Requesting to Collaborate with DW Daniels Highschool - sushmik@g.clemson.edu - Clemson University Mail', 'Sent Mail - sushmik@g.clemson.edu - Clemson University Mail', 'perpetrator - Google Search', 'Drafts (3) - sushmik@g.clemson.edu - Clemson University Mail', '[CHI2024] Submission made to CHI 2024 - sushmik@g.clemson.edu - Clemson University Mail', 'Proosed subcommittees - sushmik@g.clemson.edu - Clemson University Mail', 'Email returned from address: Kelly Caine <caine@clemson.edu> - sushmik@g.clemson.edu - Clemson University Mail', 'Email returned from address: Khushbu Singh <khushbs@clemson.edu> - sushmik@g.clemson.edu - Clemson University Mail', 'Inbox (18) - sushmik@g.clemson.edu - Clemson University Mail', 'Programs and Initiatives', 'Office of College Preparation & Outreach', 'Outreach', 'School District of Pickens County | Home', 'Suspect indicted in shooting of UNC-Chapel Hill professor | FOX8 WGHP', 'outlive meaning - Google Search', 'Important - Google Photos', 'Photos - Google Photos', 'Home - Google Drive', 'FORT Researcher Datasets', 'cake in air fryer - Google Search', 'Review CSCW 2023 January 2023', 'Review CSCW 2023 July 2022', \"You're eligible, Sushmita: We're giving you an opportunity to earn a $100 referral bonus - sushmitakhan@gmail.com - Gmail\", 'TurboTax Online', 'TurboTax® Login - Sign in to Get Started on Your Tax Return', 'TurboTax Update: Federal Return Accepted - sushmitakhan@gmail.com - Gmail', 'Gmail', 'Inbox (13) - sushmik@g.clemson.edu - Clemson University Mail', 'Proceedings of the 54th ACM Technical Symposium on Computer Science Education V. 1 | ACM Conferences', \"Cognitive, personality, and social factors associated with adolescents' online personal information disclosure - ScienceDirect\", 'Clemson University - Nanoscale & Sensors Lab | Nanowerk Nanotechnology Research Laboratories Database', 'Microsoft Forms', 'Working...', 'Microsoft Forms - Free tool to create online surveys, forms, polls, and quizzes', 'Ad Tracking and Personalization - Google Slides', 'Math lesson plan and presentations (from Lee-Ann) - Google Drive', 'Computing Module Teaching Materials - Google Drive', 'General Module Planning Docs - Google Drive', 'Module Design Protocol - Google Docs', 'Peer feedback todo list - Google Docs', 'Search results - Google Drive', 'Emily - Google Drive', 'CHI 2023 Submission - Google Drive', 'Tax 2022 - Google Drive', 'Personal - Google Drive', 'Tax return 2021 - Google Drive', 'SK - Google Drive', 'SC - Google Drive', 'MI - Google Drive', 'SC Tax amended - sushmik@g.clemson.edu - Clemson University Mail', 'Tax papers for Sushmita Khan - sushmik@g.clemson.edu - Clemson University Mail', 'Clemson University Mail', 'Tax return 2020 - Google Drive', 'Machine Learning for Kids', 'Scratch 3.0 GUI', 'taxinomitis-docs/project-worksheets/msword at master · IBM/taxinomitis-docs', 'Hulu | Watch', \"Columbo's Pizza's Menu\", \"Columbo's Pizza Delivery & Online Ordering\", 'pizza pendleton - Google Search', '5th grade data - Google Docs', 'misinformation_studentcopy.pptx - Google Slides', 'Shop All Lulus Bestsellers - Best Selling Clothing, Dresses & Shoes', 'Apply Now — TechCongress', 'Teacher Handout (CyberEd Team Only) - Google Docs', 'Spring 2023 - Google Drive', 'Module 4_Misinformation and Fake news - Google Drive', 'THE DOOR TO THE MICROWAVE!!!! | TikTok', 'tiktok microwave door - Google Search', 'Breaking down charges against Trump, 18 co-defendants in Georgia case - The Washington Post', '\\u202aLiton Chandra Paul\\u202c - \\u202aGoogle Scholar\\u202c', '\\u202aMakhluk Hossain Prio\\u202c - \\u202aGoogle Scholar\\u202c', '\\u202aAjay Sarkar\\u202c - \\u202aGoogle Scholar\\u202c', 'mahluk hossain clemson - Google Search', 'Makhluk Hossain Prio - Graduate Research Assistant - Clemson University | LinkedIn', 'Centers & Institutes', 'College of Engineering, Computing and Applied Sciences', 'Nanoelectronics and Sensors Laboratory (NESL) - Google Search', 'Message from Clemson University - Redfern Health Center - sushmik@g.clemson.edu - Clemson University Mail', 'ACM Conference Proceedings Primary Article Template (4) - Online LaTeX Editor Overleaf', 'National Science Foundation Research Traineeship (NRT) Program (nsf21536) | NSF - National Science Foundation', 'China Express | Order Online | Clemson, SC | 864-653-7777', 'kung pao chicken near me - Google Search', 'kung pao chicken - Google Search', '148lbs to kg - Google Search', 'Hulu | Series', 'Hulu', 'nrt grant - Google Search', 'CTAN: Package booktabs', 'Overleaf, Online LaTeX Editor', 'ACM Conference Proceedings Primary Article Template - Overleaf, Online LaTeX Editor', 'acm chi format overleaf - Google Search', 'acm chi format - Google Search', 'Notifications / X', 'Amazon.com : COSSINI Premium Business Portfolio with Zipper – Padfolio - Superior Business Impressions Begin with PU Vegan Leather, 10.1 Inch Tablet Sleeve, Smart Storage, Solar Calculator, Writing Pad - Tan : Office Products', 'Amazon.com: 12 in Goddess of Justice Lady Justice Statue for Home Décor Office Bookshelf Ldeal Gift for Friends Who Long for Fairness and Justice Sculpture, Bronze : Home & Kitchen', 'Amazon.com: Bond & Regent Rollerball Pen - Certified Luxury Grade | 24 Karat Gold & Gloss Black | Nice Gift Pens for Men and Women : Office Products', 'Amazon.com: Lawyer Gifts - Prime Eligible', 'Amazon.com : lawyer gifts', 'Cornell Tech - Cornell Tech Welcomes Six New Faculty Members in 2023-24 Academic Year', 'Cornell Tech', 'SaTC: Accountable Information Use: Privacy and Fairness in Decision-Making Systems', 'DLI | Research | Projects', 'Reflections | dli-cornell-tech', 'DLI | People', 'Digital Life Initiative | Cornell Tech | New York', 'DLI | Civic Innovation Fellowships', 'DLI Postdoc Fellowship Application', 'DLI | Join Us', 'DLI Visiting Fellowship Application', 'cornell tech dli - Google Search', 'cornell tech - Google Search', 'Join our Team - The Greenlining Institute', 'The Greenlining Institute', 'Fellowship Programs | Stanford HAI', 'Centers | Stanford HAI', 'Home | Stanford HAI', 'Data & Society — Opportunities', 'Data & Society — Digital Privacy & Data Literacy', 'Data & Society — Research', 'Data & Society', '(2) Data & Society (@datasociety) / X', 'twitter.com/Greenlining', 'twitter.com/StanfordHAI', '(2) People followed by Sushmita (@sushmitalkhan) / X', '(2) Sushmita (@sushmitalkhan) / X', 'Data Society - Careers', 'data society - Google Search', 'Data Society - Data Science Training & Solutions', 'Center on Privacy and Technology | Center on Privacy and Technology | Georgetown Law', 'File:Miriam final-3.jpg - Wikimedia Commons', 'Wikimedia Research - Team', 'User:Diego (WMF) - Meta', 'Work with us – Wikimedia Foundation', 'Eligibility - AAAS', 'STPF Application - AAAS', 'AI Cohort - Application', 'Job Application for Research Manager at Wikimedia Foundation', 'incoming fellows; harm & safety; AI policing - sushmik@g.clemson.edu - Clemson University Mail', 'The Post Most: Behind the lines of Texas A&M’s diversity war - sushmik@g.clemson.edu - Clemson University Mail', 'CHI paper - sushmik@g.clemson.edu - Clemson University Mail', 'REMINDERS: Last Day to Drop + December Graduation Deadline - sushmik@g.clemson.edu - Clemson University Mail', 'Lulus Sale on Clothing for Women | Shop the Clothing Sale', 'usps central - Google Search', 'Applications are Open for our January 2024 Fellowships! — TechCongress', 'Two-Factor Authentication', 'Duo Security - Two-Factor Authentication', 'Wayfair.com - Online Home Store for Furniture, Decor, Outdoors & More', 'Earn Bonus Stock | Stash Stock Party', 'Tracking | UPS - United States', 'Contact Us | USPS', 'USPS.com® - USPS Tracking® Results', 'Welcome | USPS', 'Your order has shipped (Order #439007856) - sk03732@georgiasouthern.edu - Georgia Southern University Mail', 'Did you love it? Write a review! - sk03732@georgiasouthern.edu - Georgia Southern University Mail', 'Georgia Southern University Mail', \"Need Help? Chat Now - FAQ for Buying &nbsp;Women's Clothing\", 'United States', 'You have successfully signed out.', 'Capital One', 'Capital One | Account Summary', 'Capital One | Welcome', 'Capital One Online Servicing', 'Capital One - Sign In', 'Capital One Credit Cards, Bank, and Loans - Personal and Business', 'Ad Tracking and Personalization (WSMS Copy) - Google Slides', 'An Introduction to the Learning Sciences (Chapter 1) - The Cambridge Handbook of the Learning Sciences', 'scaffolding meaning - Google Search', 'Common Sense', 'Common Sense Research | Common Sense Media', 'Create Your Free Account | Common Sense Education | Common Sense Education', \"We're Hiring | Common Sense Media\", 'ClemsonJobLink', 'Done | ClemsonJobLink', '2023 Fall Career Fair', 'clemson-csm.symplicity.com/events/2023FallCF', 'Staff | D.W. Daniel High School', 'D.W. Daniel High School | Home', 'Asia Cup 2023: Mujeeb Ur Rahman registers an unwanted record following his hit-wicket dismissal against Bangladesh | Cricket Times', 'overleaf tables side by side - Google Search', 'Top 27 Similar websites like getbadnews.com and alternatives', 'games like badnews - Google Search', 'bad news - Google Search', 'Bad News (video game) - Wikipedia', 'Broadcasting recruitment message - sushmik@g.clemson.edu - Clemson University Mail', 'Module Data - Google Drive', 'Meeting Records - Google Drive', 'IRB Documents & CU Media Release Forms - Google Drive', 'Branding & File Naming Conventions - Google Drive', 'HATLab Meeting Today - sushmik@g.clemson.edu - Clemson University Mail', 'Class Online Tomorrow: S2308-EDF-9010 Learning Sciences Seminar I - Hyflex - sushmik@g.clemson.edu - Clemson University Mail', 'Floor plan - Google Slides', 'HatLab notes - Google Docs', 'For Attendees – CHI 2024', 'Contributions to CHI – CHI 2024', 'chi 2024 justification - Google Search', 'Edit #5076 \"[NO TITLE PROVIDED]\"', 'Data Analysis - Google Docs', 'Recording - Google Drive', \"People's Perceptions of Personalized Ads | Proceedings of the 24th International Conference on World Wide Web\", 'Data Analysis - Google Sheets', 'Untitled spreadsheet - Google Sheets', 'InclusiveRS - Google Drive', 'Accesible RS - Google Slides', 'Inclusive Recommender Systems V2 - Online LaTeX Editor Overleaf', 'Researching Disability Theory - Disability Theory - LibGuides at University of Illinois at Urbana-Champaign', 'Table of Contents (Stanford Encyclopedia of Philosophy)', 'Critical Disability Theory (Stanford Encyclopedia of Philosophy)', 'Question about travel funding - sushmik@g.clemson.edu - Clemson University Mail', 'Fall 23 Hiring/Rehiring Complete - sushmik@g.clemson.edu - Clemson University Mail', \"Registration Confirmed - FAccT '23: 2023 ACM Conference on Fairness, Accountability, and Transparency - sushmik@g.clemson.edu - Clemson University Mail\", \"You're in! - ACM FAccT 2023 - sushmik@g.clemson.edu - Clemson University Mail\", 'Travel funding and accomodation - sushmik@g.clemson.edu - Clemson University Mail', 'Faact 2023 - Google Drive', 'Refunds - Google Drive', 'Regarding buying supplies for HATLab - sushmik@g.clemson.edu - Clemson University Mail', 'Refund status - sushmik@g.clemson.edu - Clemson University Mail', 'Thank you for applying to Mozilla! - sushmik@g.clemson.edu - Clemson University Mail', 'Login to The Whitley Resident Services | The Whitley', 'The Whitley | Apartments in Central, SC | RENTCafe', 'The Whitley | Apartments in Central, SC', 'whitley clemson - Google Search', 'The Menu: Anya Taylor-Joy’s New Horror Movie Is A Perfect Recipe Of Comedy And Horror | Cinemablend', 'V2 - Detailed Activities Mini module 2: Ad Tracking & Personalization - Google Docs', 'M1_AI Agents & Tracking_MathBackupSlides.pptx - Google Slides', 'Unprecedented Facebook URLs Dataset now Available for Academic Research through Social Science One | SOCIAL SCIENCE ONE', 'Research Centers | Stanford Graduate School of Education', 'youcubed - Inspire ALL Students with Open, Creative Mindset Mathematics', 'Positioning images and tables - Overleaf, Online LaTeX Editor', 'Inserting Images - Overleaf, Online LaTeX Editor', 'overleaf put two figures side by side - Google Search', 'Photo - Google Photos', 'photos.google.com/photo/AF1QipM5Gg92qTly9JuvMjSVzCuj62TQfSW64wgJqS4G/edit', 'Sushmita: An account was updated - sushmitakhan@gmail.com - Gmail', 'Snoozed - sushmik@g.clemson.edu - Clemson University Mail', 'Feedback on paper - sushmik@g.clemson.edu - Clemson University Mail', 'M1_AI Agents & Tracking_Math-D3_SentAnalysis (5+6).pptx - Google Slides', 'M1_AI Agents & Tracking_Math-D1_SentAnalysis.pptx - Google Slides', 'Module 1_AI Agents & Tracking - Google Drive', 'Resource Library - Google Drive', \"Examples of Manuscript Cover Letters (Please do not share Nicole's) - Google Drive\", 'Project Reports for NSF - Google Drive', 'Project Contributions - Google Drive', 'WSMS Information - Google Drive', '2021 pacing guides - Google Drive', 'Compendium of Useful Data Tracking Documents - Google Drive', 'Design Session_2021May29 - Google Drive', 'UbDProfDevSession-DrWilder_2022Apr8 - Google Drive', 'CTD - Google Drive', 'z Not Sure - Marked for Deletion - Google Drive', 'Mathematical Thinking and Learning Paper Workspace - Google Drive', 'Media Report - Clemson News Workspace - Google Drive', 'Outreach Activities - Google Drive', 'STEM camp - Google Drive', 'Handouts from 2021 K12 NICE Conference - Google Drive', 'Bannister_ResearchGroupTalk_2021-06-30.pptx - Google Drive', 'Loading Google Slides', 'M1_ChatbotData_2021Nov23.xlsx - Google Sheets', 'M1_ChatbotData_2022Feb23 - Google Sheets', 'M1_Pretest_Analysis.docx - Google Docs', 'M1_Pretest_2021Nov12 - Google Sheets', 'Module 1_AI Agents & Tracking_Data - Google Drive', 'clemson outdoor rec - Google Search', 'Digital Scientists & fellows advance digital learning across MIT | Open Learning', 'mit learning lab - Google Search', 'Teaching + Learning Lab', 'Job Opening: Assistant Director for Teaching and Learning – July 2023 | Teaching + Learning Lab', 'Home | Center on Adolescence', 'Youth Purpose Research Awards | Center on Adolescence', 'Activities | Center on Adolescence', 'Contact | Center on Adolescence', 'Visitors | Center on Adolescence', 'Graduate Students | Center on Adolescence', 'Wolfe, Lillian | Center on Adolescence', 'Nhat Le | Center on Adolescence', 'Center Faculty and Staff | Center on Adolescence', 'People | Stanford History Education Group', 'Updates | Stanford History Education Group', 'About | Stanford History Education Group', 'Projects | Stanford History Education Group', 'Open Positions | Stanford Graduate School of Education', 'Faculty & Research | Stanford Graduate School of Education', 'Stanford Graduate School of Education |', 'Workshops, Courses, & Presentations | Stanford NGSS Assessment Project', 'Assessments | Stanford NGSS Assessment Project', 'Stanford NGSS Assessment Project', 'stanford science education group - Google Search', 'stanford learning sciences - Google Search', 'stanford learning design and technology - Google Search', 'Self-regulation in ADHD: The role of error processing - ScienceDirect', 'Career Path | Research Training', 'Types of Grant Programs | grants.nih.gov', 'NIH Exploratory/Developmental Research Grant Award (R21) | grants.nih.gov', 'Institutional Training Grants | Research Training', 'Funding | grants.nih.gov', 'RSS Feed NIH Guide for Grants and Contracts, Weekly Listing', 'NIH Funding Opportunities and Notices for The Week Ending09-08-2023', 'NOT-MH-22-045: Notice of Special Interest (NOSI): Secondary Analysis of Posttraumatic Psychopathology Data', 'NOT-MH-16-006: Availability of RAISE Data for Secondary Data Analysis', 'NOT-MH-20-010: Notice of Data Sharing Policy for Autism Data', 'Find Grant Funding | grants.nih.gov', 'PAR-23-114: Enhancing Science, Technology, EnginEering, and Math Educational Diversity (ESTEEMED) Research Education Experiences (R25 Clinical Trial Not Allowed)', 'Design-Based Research (Chapter 9) - The Cambridge Handbook of the Learning Sciences', 'Call for Interns — The Centre for Internet and Society', 'Vacancies at CIS — The Centre for Internet and Society', 'The Centre for Internet & Society — The Centre for Internet and Society', 'Centre for Internet & Society - Google Search', 'Call for Proposals | Tech Ethics Lab | University of Notre Dame', 'Auditing AI Initiative | Tech Ethics Lab | University of Notre Dame', 'notre dame-ibm technology ethics lab - Google Search', 'isolated antonym - Google Search', 'Search', 'Important Announcement on Waivers of the Interview Requirement for Certain Nonimmigrant Visas', 'U.S. Visas', 'Travel', 'Student Visa', 'Study & Exchange', 'Nonimmigrants in the United States–Applying for Visas in Canada or Mexico', 'Automatic Revalidation', 'How to apply for or renew a U.S. tourist visa | USAGov', 'Travel to or within the U.S. | USAGov', 'Aliens traveling to or within the US | USAGov', 'Visa Renewal Option in 2023 from Department of State', 'State Department Plans Pilot for Domestic Visa Renewal (1)', 'Australian Research Council Centre of Excellence for the Digital Child', 'stuff synonym - Google Search', 'bullshit meaning - Google Search', 'Paper Submission Tips & Examples', 'Graduate Student Council', '2024 Annual Meeting', 'aera 2024 - Google Search', 'Google Trust & Safety 2023 University Research Grant RFP Application Form', 'Visiting Researcher Program – Google Research', 'Resources – Google Research', 'Publications – Google Research', 'People – Google Research', 'Student Researcher, PhD, 2023 — Google Careers', 'Search Jobs — Google Careers', 'PhD Fellowship – Google Research', 'Security, Privacy and Abuse – Google Research', 'Security, Privacy and Abuse Prevention – Google Research', 'Human-Computer Interaction and Visualization – Google Research', 'google research - Google Search', 'rapid meaning - Google Search', 'CRA-WP Early Career Awards - CRA-WP', 'GHC Research Scholars - CRA-WP', 'SWSIS - CRA-WP', 'Grad Cohort for IDEALS - CRA-WP', 'Computing Research Association - CRA', 'Faculty | Page 2 | Brac University', 'Farhana Shahid | Brac University', 'Faculty | Brac University', 'Najeefa Nikhat Choudhury | Brac University', 'Rubayat Ahmed Khan | Brac University', 'Aniqua Nusrat Zereen, PhD | Brac University', 'Md. Ashraful Alam, PhD | Brac University', 'Abu Mohammad Khan, PhD | Brac University', 'Muhammad Iqbal Hossain, PhD | Brac University', 'Md Sadek Ferdous, PhD | Brac University', 'Mahbubul Alam Majumdar, PhD | Brac University', 'Computer Science and Engineering | Brac University', 'My Events | Clemson Tigers Account Manager', 'Secure Accounts Widget', 'fast synonym - Google Search', 'fast meaning - Google Search', 'conjecture meaning - Google Search', 'Clemson Boat Rental - Lake Hartwell, Boat Rental', 'Clemson Boat Rental - Pontoon Boats, Pontoon, Our Boats & Rates', 'Guidelines', 'boat rentals - Google Search', '152 lbs to kg - Google Search', 'Reviews - Google Drive', 'Start a new claim | UPS', 'Claims Dashboard | UPS - United States', 'Lulus - My Account Page', 'Cute Dresses, Tops, Shoes & Clothing for Women', 'File a Claim | UPS - United States', 'Rutgers University Employment Opportunities | Assistant Professor in Media Studies', 'Parastoo Abtahi', 'Princeton HCI', 'Publications – Princeton HCI', 'People – Princeton HCI', 'College Football Schedule - 2023 Season - ESPN', 'TSA Adds These 4 International Airlines to TSA PreCheck Program', 'Trendy Beige Heels - Ankle Strap Heels - Nude Block Heels - Lulus', 'Offer The Best Shoes, Accessories, and Clothing For Women', '\\u202aMuhamad Prabu Wibowo\\u202c - \\u202aGoogle Scholar\\u202c', 'm prabhu wibowo - Google Scholar', 'Muhamad Prabu Wibowo - Graduate Lead Doctoral Student Instructor - Florida State University | LinkedIn', 'Tracking and Pervasive Personalization - CHI2024 - 02Sep23 - Online LaTeX Editor Overleaf', 'Tracking and Pervasive Personalization - CHI2024 - 26Aug23 - Online LaTeX Editor Overleaf', 'privacy literacy bangladesh - Google Scholar', 'digital literacy bangladesh - Google Scholar', 'digital literacy bangladesh - Google Search', \"USENIX Security '24 Call for Papers | USENIX\", \"USENIX Security '24 | USENIX\", 'Upcoming USENIX Conferences | USENIX', 'USENIX | The Advanced Computing Systems Association', \"USENIX Security '17 | USENIX\", \"personalized ads people's perceptions - Google Scholar\", 'Atypon | Please Return Soon', 'Atypon: Online Publishing Platform & Web Development Tools', 'UAB - Google Search', 'university of alabama birmingham - Google Search', 'university of alabama - Google Search', 'All: user experience with targerted ads : Search', 'ACM Digital Library', 'Association for Computing Machinery', 'acm - Google Search', 'acm dl - Google Search', 'aci chi - Google Search', 'Exploring User Perceptions of Discrimination in Online Targeted Advertising | USENIX', 'targeted ads user perceptions and experiences - Google Scholar', 'user experience with targeted ads - Google Scholar', 'mercer university - Google Search', 'brodrick stigall - Google Scholar', '\\u202aBrodrick Stigall\\u202c - \\u202aGoogle Scholar\\u202c', 'user experience with targeted ads systematic literature... - Google Scholar', 'targeted ads user perceptions and experiences systematic... - Google Scholar', 'Boba Tea Recipe (How to Make Thai Bubble Tea) - The Forked Spoon', '\\u202aGuo Freeman\\u202c - \\u202aGoogle Scholar\\u202c', 'guo freeman clemson - Google Search', 'Google Docs', 'Mobile advertisements and information privacy perception amongst South African Generation Y students - ScienceDirect', 'Data privacy on the African continent: Opportunities, challenges and implications for learning analytics - Prinsloo - 2022 - British Journal of Educational Technology - Wiley Online Library', 'privacy education for children in global south - Google Scholar', 'privacy education for children - Google Scholar', 'Inbox (20) - sushmik@g.clemson.edu - Clemson University Mail', 'Camille Cobb - Google Search', 'Selecting a Subcommittee – CHI 2024', '\\u202aTaslima Akter\\u202c - \\u202aGoogle Scholar\\u202c', '\\u202aTousif Ahmed\\u202c - \\u202aGoogle Scholar\\u202c', 'Tousif Ahmed - Google Search', 'Job Openings at Meta | Meta Careers | Meta Careers', 'Students and Graduates | Meta Careers | Meta Careers', 'Introducing new election-related ad data sets for researchers - Meta Research | Meta Research', 'Meta Careers | Do the Most Meaningful Work of Your Career | Meta Careers', 'IEEE Xplore Full-Text PDF:', 'When and Why Do People Want Ad Targeting Explanations? Evidence from a Four-Week, Mixed-Methods Field Study | IEEE Conference Publication | IEEE Xplore', '\\u202aYang Wang\\u202c - \\u202aGoogle Scholar\\u202c', 'yang wang university of illinois urbana champaign google scholar - Google Search', 'yang wang semantic scholar - Google Search', 'Yang Wang | Semantic Scholar', 'yang wang google scholar - Google Search', 'Yang Wang @ Illinois', 'Yang Wang', 'Yang Wang - Google Search', 'Yang Wang @ Research', 'Yang Wang @ Projects', 'Yang Wang @ Publications', 'Yang Wang @ Personal', 'http://yangwang.ischool.illinois.edu/cv.html', 'Inclusive Privacy', 'SALT Lab', 'SALT Lab @ Illinois (Social Computing Systems Lab)', 'Democratic inputs to AI', '2021 People’s Expectations and Experiences with Digital Privacy request for proposals - Meta Research', 'Facebook Head of Privacy Research Liz Keneski discusses new research award opportunity - Meta Research | Meta Research', 'Dhaka Metro - Ticket / Fare', 'Dhaka Metro - Home', 'Dhaka Metro - Routes', 'dhaka metro rail - Google Search', 'elevated expressway dhaka - Google Search', 'Dhaka’s First Elevated Expressway: All set for grand opening | PM Hasina opens Elevated Expressway today', 'Abstract - Google Docs', 'the reserve at lake keowee south carolina Archives - Golf Course Home', \"Is Dabo's house really 17,000 s.f.? I heard that a lot - Tiger Boards Archive Forum - TigerNet\", \"LOOK: Swinney family moves into new 'castle' | TigerNet\", 'Wayfair.com - Online Home Store for Furniture, Decor, Outdoors & More | Wayfair', 'Yasemin Acar', 'Yasemin Acar | School of Engineering & Applied Science | The George Washington University', 'Careers', 'Harvard Academic Positions | Postdoctoral Fellowship at Harvard Center for Research on Computation and Society (CRCS)', 'GitHub - ShahanM/preference-viz', 'Cori Faklaris - Google Search', 'Apu Kapadia - Google Search', 'Blase Ur - Google Search', 'Konstantin (Kosta) Beznosov | Professional', 'Konstantin Beznosov - Department of Electrical and Computer Engineering', 'Konstantin Beznosov - Google Search', 'FW: Invite Fall Clemson Health Advancement Talks --Third Wednesday of the month - sushmik@g.clemson.edu - Clemson University Mail', 'About me - Welcome', 'Rakibul Hasan - Google Search', 'half human half bird creature - Google Search', 'White Long Sleeve Top - Button-Up Top - Long Sleeve Blouse - Lulus', 'Oversized Black Weekender - Vegan Leather Purse - Black Bag - Lulus', 'Oversized Brown Weekender - Vegan Leather Purse - Brown Bag - Lulus', '15-inch MacBook Air with M2 chip - Midnight - Education - Apple', 'Buy 15-inch MacBook Air with M2 Chip - Education - Apple', 'Buy 13-inch MacBook Air with M2 Chip - Education - Apple', 'Buy 13-inch MacBook Air with M1 Chip - Education - Apple', 'Buy MacBook Air - Education - Apple', 'MacBook Air 13- and 15-inch with M2 - Apple', 'MacBook Air - Apple', 'Mac - Apple', 'Buy 10.9-inch iPad Wi‑Fi 64GB - Pink - Education - Apple', 'Preference Visualization - Original – Figma', 'Team project – Figma', 'RSSA - Visualization team – Figma', 'Fwd: First HFES Meeting - sushmik@g.clemson.edu - Clemson University Mail', 'Figure 4 - sushmik@g.clemson.edu - Clemson University Mail', 'Cyberbullying Project - sushmik@g.clemson.edu - Clemson University Mail', 'Saved', 'Advertising Solutions for Your Marketing Goals - Google Ads', 'Contact an Expert for Advertising Support - Google Ads', 'Marketing Resources & Advertising Inspiration - Google Ads', 'AI-powered Advertising Tools and Products - Google Ads', 'Ads Privacy Hub Overview - Google Ads', 'Download Business Apps in Marketplace | Google Workspace', 'Settings - sushmik@g.clemson.edu - Clemson University Mail', 'Google Ads - Get Customers and Sell More with Online Advertising', 'LOI Received: Data Futures Lab Infrastructure Fund - sushmik@g.clemson.edu - Clemson University Mail', 'Zijie Yan | Eberly College of Science', '\\u202aZijie Yan\\u202c - \\u202aGoogle Scholar\\u202c', 'Victim identified, suspect charged in fatal UNC-Chapel Hill shooting | NC Newsline', 'juxtapose meaning - Google Search', 'paradox meaning - Google Search', 'hoadley learning science history - Google Scholar', 'hoadley 2022 learning science - Google Scholar', 'hoadley 2022 learning science - Google Search', 'hoadley 2022 - Google Search', 'Careers – Google Research', 'About Facebook Ads', 'Ad Targeting: Options to Reach Your Audience Online | Meta for Business', 'Meta Ads - Reach Customers Online with Ads on Facebook, Instagram, Messenger & WhatsApp | Meta for Business', 'Facebook Ads Ecosystem: Data Privacy & More | Meta for Business | Meta for Business', 'Log into Facebook', 'meta research - Google Search', 'TTC Labs - Designs', 'TTC Labs - Using Third Party Data While Maintaining Trust', 'TTC Labs - Meet Roqis, Your Data Defender', 'TTC Labs - [XR] Safeguarding Younger Users through Parental Data Controls', 'TTC Labs - [XR] Capturing Data Use in a Personalized Dashboard', 'TTC Labs - [XR] Utilizing the Body-Based Data of Other Consenting Users', 'Algorithmic Data Use – Figma', 'TTC Labs - [XR] Previewing Data Processing before Providing Consent', 'TTC Labs - [XR] Adjusting How Your Body-Based Data is Interpreted', 'TTC Labs - [XR] Adjusting the Level of Data Being Shared', 'TTC Labs - Research', 'TTC Labs - Evidence that education can build users confidence about their privacy on Messenger', 'TTC Labs - How do teens learn about digital privacy, and what support do they need?', 'Deconstructing Transparency | TTC VDE', 'Faculty - Human-Centered Computing | College of Engineering, Computing and Applied Sciences | Clemson University, South Carolina', 'Jobs at Mozilla', 'Job Application for Staff User Researcher (6 month contract) at Mozilla', 'Thank you for applying', 'Sushmita Khan - Research', 'Sushmita Khan - Publication', 'experiment research method - Google Search', 'grounded theory a research method - Google Search', 'grounded theory - Google Search', 'Liang CV - Google Drive', 'Calvin Liang', 'calvin liang - Google Search', '(1) Sushmita (@sushmitalkhan) / X', 'CV – Emma Dixon', 'Emma Dixon', 'emma dixon clemson university - Google Search', 'Mozilla Foundation - DFL Infrastructure Fund', 'Mozilla Foundation', 'Mozilla Foundation - DFL Infrastructure Fund Application Process', 'Redirecting...', 'Central Authentication Service | Georgia Southern University', 'Supporting Adolescents’ Control over their Data Privacy - Google Docs', 'AI-Youth CSCW2023 - Online LaTeX Editor Overleaf', 'D. W. Daniel High School in Central, SC - US News Best High Schools', '2023-2024 Best High Schools in America - US News', 'Mapping Oregon’s Wetlands with Help from High Schoolers (and Gigabit Technology) | by Mozilla | Read, Write, Participate | Medium', 'Mozilla Foundation - Apply', 'Mozilla Foundation - Resources', 'Mozilla Foundation - Data Futures Lab', 'Mozilla Foundation - Awards', 'Mozilla Foundation - Directory', 'Mozilla Foundation - Meet the team', 'Mozilla Foundation - Partners', 'Mozilla Foundation - Fellowships', 'Mozilla Foundation - Tech + Society Fellowship', 'Mozilla Foundation - What we fund', 'Mozilla Foundation - Who we are', 'Mozilla Foundation - Homepage', 'Mozilla Foundation - Open research', 'mozilla research - Google Search', 'Mozilla Careers — Feel good about your work again', 'Mozilla Careers — All open positions at Mozilla', 'Mozilla Careers — Staff User Researcher (6 month contract) — Open Positions', 'Mozilla Careers — Feel good about your work again.', 'Internet for people, not profit — Mozilla (US)', 'mozilla careers - Google Search', 'microsoft ux researcher', '6 Apple User Experience Researcher jobs in United States', 'user experience researcher apple - Google Search', 'Product Designer, Common UI - Careers at Apple', 'United States, Human Interface Design - Jobs - Careers at Apple', 'UI Designer/Prototyper - Apple Vision Pro - Careers at Apple', 'Design - Careers at Apple', 'Internships - Jobs - Careers at Apple', 'Students - Careers at Apple', 'Work at Apple - Careers at Apple', 'Careers at Apple', 'Apple', 'United States - Jobs - Careers at Apple', 'Machine Learning / AI Internships - Careers at Apple', 'Multiple filters applied. - Jobs - Careers at Apple', 'Austin, Texas - Careers at Apple', 'Machine Learning and AI - Careers at Apple', 'apple career - Google Search', 'apple research - Google Search', 'Open Positions - Microsoft Research', 'Research Careers - Microsoft Research', 'Earn Your First Reward Through Community Rewards!! - sushmik@g.clemson.edu - Clemson University Mail', 'Phase II Pool Bathrooms - sushmik@g.clemson.edu - Clemson University Mail', 'Lease - sushmik@g.clemson.edu - Clemson University Mail', \"Voldemordo 126'' Upholstered Sofa | Wayfair\", 'Free Credit Score & Report Check with CreditWise | Capital One', 'Capital One Sign In: Log in to access your account(s)', 'Capital One Mobile App Interstitial', 'Capital One - Sign In Help', 'Sign In | Capital One Shopping', 'Pay', 'Payroll and Compensation', 'Homepage', 'Direct Deposit', 'Logins', 'Logins and Resources', 'Payroll', 'Klarna', 'google research phd fellowship - Google Search', 'Drafts – Figma', 'Search Labs', 'TTC Labs - TTC Labs', 'HTTP Status 400 – Bad Request', 'Clemson University - Calendar - Week of August 27, 2023', 'Assistant Professor/Associate Professor without Tenure (tenure-track) faculty search: Transformative Design — MIT Media Lab', 'Zhe He, iSchool at Florida State University', 'Zhe He, iSchool at Florida State University - Research Team', 'Graduate Student Charged in Shooting Death of UNC-Chapel Hill Professor - WSJ', 'Bouchra Boukhiar | Facebook', 'These 10 Blue Ridge Mountain Hikes Showcase The Beauty Of Fall', 'TTC Labs - Explore interface design for data', \"TTC Labs - Fine-tune people's experience around personal information\", 'TTC Labs - Toolkit', 'TTC Labs - Design for People', 'TTC Labs - Friendlee', 'TTC Labs - Data Privacy for Startups', 'TTC Labs - Design from assets', 'meta ttc labs - Google Search', 'dyadic meaning - Google Search', 'dyadic - Google Search', 'Dyadic - Dyadic', 'Introducing Privacy Preservation in Personalized Cultural Heritage Applications | Adjunct Proceedings of the 29th ACM Conference on User Modeling, Adaptation and Personalization', 'Personalization, Bias and Privacy | Adjunct Publication of the 28th ACM Conference on User Modeling, Adaptation and Personalization', 'Privacy and Personalization | Adjunct Publication of the 27th Conference on User Modeling, Adaptation and Personalization', 'Privacy for Recommender Systems | Proceedings of the Eleventh ACM Conference on Recommender Systems', 'All: privacy of recommendor systems : Search', 'All: privacy and recommendation : Search', 'Incentive Mechanisms for Data Privacy Preservation and Pricing | Proceedings of the 19th International Conference on Autonomous Agents and MultiAgent Systems', 'Analyzing Awareness on Data Privacy | Proceedings of the 2019 ACM Southeast Conference', 'All: data privacy : Search', 'Protecting Personal Health Data through Privacy Awareness: A study of perceived data privacy among people with chronic or long-term illness: Proceedings of the ACM on Human-Computer Interaction: Vol 6, No GROUP', 'Towards Trustworthy Conversational Agents for Children | Proceedings of the 21st Annual ACM Interaction Design and Children Conference', 'Privacy and design ethics vs designing for curiosity, communication and children | Proceedings of the 20th International Conference on Human-Computer Interaction with Mobile Devices and Services', 'All: privacy children data : Search', 'Children’s Privacy in the Big Data Era: Research Opportunities | Pediatrics | American Academy of Pediatrics', 'What Is Going Through Your Mind? Thinking Aloud as a Method in Cross-Cultural Psychology - PMC', 'The potential of cognitive think-aloud protocols for educational action-research - John Cowan, 2019', 'Clemson University Libraries - Login', 'The potential of cognitive think-aloud protocols for educational action-research', 'Algorithmic Decision Making in Public Administration | Companion Proceedings of the 2020 ACM International Conference on Supporting Group Work', 'Data visualization for strategic decision making | Case Studies of the CHI2002|AIGA Experience Design FORUM', 'Faculty - Visual Computing | College of Engineering, Computing and Applied Sciences | Clemson University, South Carolina', 'Federico Iuricich', 'Faculty - Computer Science Division | College of Engineering, Computing and Applied Sciences | Clemson University, South Carolina', 'bart knijnenburg clemson university - Google Search', 'Portfolio', 'bart.png (193×240)', \"Navigating the Data Avalanche: Towards Supporting Developers in Developing Privacy-Friendly Children's Apps: Proceedings of the ACM on Interactive, Mobile, Wearable and Ubiquitous Technologies: Vol 7, No 2\", 'A Distributed Participatory Design Research Protocol for Co-designing with Children | Proceedings of the 21st Annual ACM Interaction Design and Children Conference', '“Money makes the world go around”: Identifying Barriers to Better Privacy in Children’s Apps From Developers’ Perspectives | Proceedings of the 2021 CHI Conference on Human Factors in Computing Systems', \"“Track-track: Let's follow the cat!” Reflecting on children's biometric data processing through a micro puppet show | Proceedings of the 21st Annual ACM Interaction Design and Children Conference\", \"Smart toys and children's privacy | Proceedings of the 37th ACM International Conference on the Design of Communication\", \"Children's Perceptions and Concerns of Online Privacy | Extended Abstracts of the Annual Symposium on Computer-Human Interaction in Play Companion Extended Abstracts\", \"Teaching with an Interactive E-book to Improve Children's Online Privacy Knowledge | Proceedings of the The 15th International Conference on Interaction Design and Children\", 'Co-designing online privacy-related games and stories with children | Proceedings of the 17th ACM Conference on Interaction Design and Children', \"Understanding Research Related to Designing for Children's Privacy and Security: A Document Analysis | Proceedings of the 22nd Annual ACM Interaction Design and Children Conference\", 'All: privacy targeted ads children : Search', \"An Experiential Approach to the Design and Evaluation of a Gamified Research Tool for Law in Children's Lives | Proceedings of the The 15th International Conference on Interaction Design and Children\", \"Exploratory study of young children's social media needs and requirements | Proceedings of the 2020 ACM Interaction Design and Children Conference: Extended Abstracts\", 'Let Kids Wonder, Question and Make Mistakes: How the Designers of Children’s Technology Think about Child Well-being | Proceedings of the 22nd Annual ACM Interaction Design and Children Conference', 'On the relevance of algorithmic decision predictors for judicial decision making | Proceedings of the Eighteenth International Conference on Artificial Intelligence and Law', 'Disentangling Fairness Perceptions in Algorithmic Decision-Making: the Effects of Explanations, Human Oversight, and Contestability | Proceedings of the 2023 CHI Conference on Human Factors in Computing Systems', '“They See You’re a Girl if You Pick a Pink Robot with a Skirt”: A Qualitative Study of How Children Conceptualize Data Processing and Digital Privacy Risks | Proceedings of the 2021 CHI Conference on Human Factors in Computing Systems', 'KOALA Hero: Inform Children of Privacy Risks of Mobile Apps | Proceedings of the 21st Annual ACM Interaction Design and Children Conference', 'All: privacy targeted ads : Search', 'All: visualizing algorithmic decision making : Search', 'critical disability theory in hci - Google Scholar', 'Mohammad Tahaei, Ph.D. | Mixed Methods Researcher', 'Mainack Mondal, Assistant Professor, CSE, IIT Kharagpur', 'Tousif Ahmed - Privacy Engineer - Google | LinkedIn', 'Publications - Welcome', 'khushbu singh clemson university - Google Search', '(5) Khushbu Singh', 'Security Verification | LinkedIn', 'Doctoral Dissertation Completion Grant', '» Dining', 'clemson dining - Google Search', 'Staff | Ware Shoals High School', 'Ware Shoals High School | Home', 'Fay Sprouse, Ph.D. - District Superintendent - Greenwood 51 | LinkedIn', 'Staff | Ware Shoals School District 51', 'Sign in to Outlook', 'Ware Shoals School District 51 | Home', 'Social/Independent Living Model - Disability Theory - LibGuides at University of Illinois at Urbana-Champaign', '\\u202aKonstantin Beznosov\\u202c - \\u202aGoogle Scholar\\u202c', 'Collection RefConfPaper Not Found - LERSSE Digital Library', 'publications | Konstantin (Kosta) Beznosov', 'Recruiting Participants With Programming Skills: A Comparison of Four Crowdsourcing Platforms and a CS Student Mailing List | Mohammad Tahaei, Ph.D. | Mixed Methods Researcher', 'Yixin Zou (邹熠欣)', 'Yixin Zou - Google Search', \"Research | Ye's Homepage\", \"Assistant Professor in Political Science at UNC | Ye's Homepage\", 'Ye Wang, - Google Search', 'Blase Ur -- About Me', 'Eran Toch - Google Search', 'Mohammad Tahaei - Google Search', \"Jose Such - King's College London\", 'Jose Such - Google Search', 'Florian Schaub | umsi', 'Florian Schaub - Google Search', 'Vit Rusnak - Google Search', 'Prof. Dr. Alena Naiakshina – Fakultät für Informatik – Ruhr-Universität Bochum', 'Alena Naiakshina - Google Search', 'Mainack Mondal - Google Search', 'Publications – Karola Marky', 'Karola Marky – HCI and Security Researcher', 'Karola Marky - Google Search', 'Ilaria Liccardi', 'Ilaria Liccardi - Google Search', 'Tianshi Li', 'Tianshi Li - Google Search', 'Research – UbiComp @ USI Lugano', 'Marc Langheinrich – UbiComp @ USI Lugano', 'Marc Langheinrich - Google Search', '\\u202aMarc Langheinrich\\u202c - \\u202aGoogle Scholar\\u202c', 'Apu Kapadia - Papers, Publications, Reports', 'Apu Kapadia - Homepage', 'Apu Kapadia - Professor of Computer Science', '\\u202aChris Kanich\\u202c - \\u202aGoogle Scholar\\u202c', 'Chris Kanich - Google Search', 'Haojian Jin | Research', 'Haojian Jin | HCI, mobile computing, data privacy', 'Haojian Jin - Google Search', '\\u202aCori Faklaris\\u202c - \\u202aGoogle Scholar\\u202c', 'Cori Faklaris | Human-computer interaction, security and privacy, UX, social media', 'Pardis Emami-Naeini', 'Pardis Emami-Naeini - Google Search', 'Houda El Mimouni', 'Houda Elmimouni - Google Search', 'Sanchari Das - Publications', 'Sanchari Das, PhD - Assistant Professor - University of Denver | LinkedIn', 'Sanchari Das', 'Sanchari Das - Google Search', 'Camille Cobb', 'CRA and CCC are extremely excited to announce the 2020 class of CIFellows!', 'CIFellows Resources | CIFellows 2021', 'For Fellows | CIFellows 2021', '2021 Class of CIFellows | CIFellows 2021', 'Taslima Akter', 'Taslima Akter - Google Search', 'Fall 2023 Opening!: Clemson Makerspace - sushmik@g.clemson.edu - Clemson University Mail', \"Mark Meadows: Testimony from Trump's White House chief of staff could change everything | CNN Politics\", '10 Family Travel Must-haves for Long Flights', '\\u202aHansen Lee\\u202c - \\u202aGoogle Scholar\\u202c', 'Hansen L. - Graduate Lab Assistant - Clemson University College of Engineering, Computing and Applied Sciences | LinkedIn', 'Home', 'Education', 'Professional Experience', 'Fun', 'Profile Not Found | LinkedIn', \"CDT's Non-Resident Fellows - Center for Democracy and Technology\", '15 Postdoctoral Fellowships at University of California, Berkeley, California', 'China Express Delivery Menu | Order Online | 501 Old Greenville Hwy STE 6 Clemson | Grubhub', 'Uber', 'Student Funding Board Applications are open! - sushmik@g.clemson.edu - Clemson University Mail', 'Fall HATlab Meetings: Tuesdays @ 1:00pm - sushmik@g.clemson.edu - Clemson University Mail', 'Social model of disability | Disability charity Scope UK', 'Battle.net Login', 'Artificial Intelligence research at Microsoft aims to enrich our experiences', 'AI and Microsoft Research - Microsoft Research', 'Audio and acoustics - Microsoft Research', 'Accelerate Foundation Models Research - Fall 2023 - Microsoft Research', 'Call for proposals: Accelerate Foundation Models Research - sushmik@g.clemson.edu - Clemson University Mail', 'chi 2024 subcommittees - Google Search', 'Organizing – CHI 2024', 'Accessibility FAQ – CHI 2024', 'For Reviewers – CHI 2024', 'Blog – CHI 2024', 'CHI 2024 – May 11-16, 2024 in Honolulu, Hawaiʻi', 'chi 2024 submission - Google Search', 'Nathan J. McNeese - Home', 'Ad Tracking and Personalization - Module 2 Pre Test', 'Clemson University - Calendar - Week of November 12, 2023', 'Clemson University - Calendar - Week of November 5, 2023', 'Clemson University - Calendar - Week of October 29, 2023', 'Clemson University - Calendar - Week of October 22, 2023', 'Clemson University - Calendar - Week of October 15, 2023', 'Clemson University - Calendar - Week of October 8, 2023', 'Clemson University - Calendar - Week of October 1, 2023', 'Clemson University - Calendar - Week of September 24, 2023', 'Clemson University - Calendar - Week of September 17, 2023', 'Clemson University - Calendar - Week of September 10, 2023', 'Clemson University - Calendar - Week of September 3, 2023', 'Fall 2023 HCC PhD Orientation slide deck - sushmik@g.clemson.edu - Clemson University Mail', 'Columbine High School massacre - Wikipedia', '\\u202aMegan Hofmann\\u202c - \\u202aGoogle Scholar\\u202c', 'About – Shaowen Bardzell', 'shaowen bardzell - Google Search', 'Feminist human–computer interaction: Struggles for past, contemporary and futuristic feminist theories in digital innovation - Rosanna Bellini, Janis Meissner, Samantha Mitchell Finnigan, Angelika Strohmayer, 2022', 'feminist theory hci accessibility - Google Scholar', 'feminist theory in hci - Google Scholar', 'Law Journal Library - HeinOnline.org', 'The normal, the natural, and the normative: A Merleau-Pontian legacy to feminist theory, critical race theory, and disability studies | SpringerLink', 'Accept Terms and Conditions on JSTOR', 'feminist theory and disability - Google Scholar', 'technology determinism vs social constructivist theory - Google Scholar', '[framework for this guide] | A Guide to Feminist Pedagogy', 'A Guide to Feminist Pedagogy | from the Vanderbilt Center for Teaching', 'Technological Determinism Vs. Social Constructionism: A Face-off - Tech Spirited', 'technology determinism vs social constructivist theory - Google Search', 'Understanding critical disability studies - PMC', 'disability theory - Google Search', 'Scoping models and theories of disability - Implications for public health research of models and theories of disability: a scoping study and evidence synthesis - NCBI Bookshelf', 'Disability Studies: Foundations & Key Concepts - JSTOR Daily', 'Disability Theory | University of Michigan Press', '\\u202aEmma Dixon\\u202c - \\u202aGoogle Scholar\\u202c', 'Barriers to Online Dementia Information and Mitigation - PMC', 'Profiles', '\\u202aJennifer Mankoff\\u202c - \\u202aGoogle Scholar\\u202c', 'Tables - Overleaf, Online LaTeX Editor', 'Love Is Blind fans have already decided After The Altar for Season 4 isn’t worth watching - Dexerto', 'Amy J. Ko, Ph.D. | UW Seattle', 'iSchool Directory | Information School | University of Washington', 'Information School | University of Washington', 'Caudill Labs - Maps - The University of North Carolina at Chapel Hill', 'UNC-Chapel Hill faculty member killed, suspect in custody after campus lockdown - ABC News', 'The University of North Carolina at Chapel Hill', 'A message from Chancellor Guskiewicz: Shooting on campus | UNC-Chapel Hill', 'UNC-Chapel Hill faculty member killed in shooting that sent campus into lockdown', 'Grade 7 - Big, Big Data - Lesson Slides - Google Slides', 'Template chooser | Prezi', 'Dashboard | Prezi', 'My presentations | Prezi', 'prezi login - Google Search', 'overleaf table - Google Search', 'Common Sense Events | Common Sense Media', 'Common Sense for your Inbox | Common Sense Media', 'Common Sense Education', 'Big, Big Data | Common Sense Education', \"Open call for volunteer for the CSCW'24 organizing committee\", 'AI Caucus Leaders Introduce Bipartisan Bill to Expand Access to AI Research | Congresswoman Anna Eshoo', '20 Best Scenic Drives in the U.S', 'Home | Aimen Gaba', 'The Twillery Co.® Alcantara 89.5\" Square Arm Sofa | Wayfair', 'Credit Cards - Compare Credit Card Offers and Apply Online | Chase', 'Carolina Beach: Camping | NC State Parks', 'Scaling the Instagram Explore recommendations system - Engineering at Meta', 'GHC Student Scholarships - Grace Hopper Celebration', \"Zipcode Design™ Eugene Convertible Sleeper Sofa 80'' & Reviews | Wayfair\", 'How Data Literacy Can Keep America Safe | Time', 'Week 13 - Monday Attendance', '20+ Favorite Historical Fiction Books - Everyday Reading', 'ACM FAccT 2023 Call for Volunteers', 'Freeze Warning - Google Search', 'RecSys 2023 - Location - RecSys – RecSys', 'RecSys 2023 - Women in RecSys - RecSys – RecSys', 'Costco Is Selling LEGO’s Dried Flower Centerpiece Set | Apartment Therapy', 'Portable Carpet Cleaners | Upholstery Cleaners | BISSELL®', 'ProHeat 2X® Revolution® Pet Pro Deep Cleaner 3587 | BISSELL', 'Upright Carpet Cleaners | Carpet Cleaning Machines | BISSELL', 'Carpet Cleaners | Carpet Shampooers | Rug Cleaners | BISSELL', 'BISSELL® Cleaning | Vacuums, Steam & Carpet Cleaners', 'Videos | ProHeat 2X® Revolution® Pet Pro Carpet Cleaner | 2283', 'ProHeat 2X® Revolution® Pet Pro Carpet Cleaner 3587 | BISSELL Parts', 'BISSELL Vacuum Parts | Carpet &amp; Steam Cleaner Parts', 'BISSELL TurboClean PowerBrush Pet 2987 | Parts', 'Back to School Sale | BISSELL Promotions', 'Last chance for Back to School deals! - sk03732@georgiasouthern.edu - Georgia Southern University Mail', '‘Tell Me Lies’ Finale’s “Cliff-Hanger, Asshole Ending,” Explained | Vanity Fair', '‘Tell Me Lies’ Ending Explained: Breaking Down Season 1 Finale’s Biggest Twists | Decider', '‘Tell Me Lies’ Review: Grace Van Patten in Hulu’s Dark Romance – The Hollywood Reporter', \"Bart Knijnenburg's Personal Meeting Room - Zoom\", 'engineer.jpg', 'Juji Web Chat', 'Tableau Software Password Reset - sushmik@g.clemson.edu - Clemson University Mail', \"Juji's prediction | Tableau Public\", 'Fw: Error message - sushmik@g.clemson.edu - Clemson University Mail', 'Updated invitation: Project Presentation - Grade 6 Group 1 students at Ware S... @ Wed Feb 9, 2022 11:10am - 11:40am (EST) (hatlab-all@lists.clemson.edu) - sushmik@g.clemson.edu - Clemson University Mail', '[PoPETs 2024.1] Comment for #99 \"Tailoring Digital Privacy Education...\" - sushmik@g.clemson.edu - Clemson University Mail', 'Meta - Google Drive', 'Cat TV ~ Birds of Beauty for Cats to Watch ⭐ 8 HOURS ⭐ - YouTube', 'bird videos for cats to watch - YouTube', 'Search Programs - Clemson Campus Recreation', 'Clemson Campus Recreation', 'F45 - Clemson Campus Recreation', 'F45 Training at Clemson University | CR | Division of Student Affairs, Clemson University, South Carolina', 'tell me lies - Google Search', 'CSCW 2023 AI Youth Workshop – aiyouthcscw2023', \"Women's Cashmere Sweaters | Nordstrom\", \"C by Bloomingdale's Cashmere C by Bloomingdale's Short-Sleeve Cashmere Sweater - 100% Exclusive | Bloomingdale's\", 'Cashmere Shop | Banana Republic', \"Women's Clothing Sale | Banana Republic\", 'Cashmere - Lulus Search', 'Sweaters for Women | Knit Sweaters, Cardigans, Turtlenecks - Lulus', 'Survey Reminder: Did your degree prepare you for the work place? - sk03732@georgiasouthern.edu - Georgia Southern University Mail', 'Amy X. Zhang - UW CSE', 'Social Futures Lab - UW CSE', 'Jenny Fan | Home', 'Emelia Hughes', 'Personal Website for Nicholas Vincent, Researcher', 'Quan Ze Chen - University of Washington', 'Daljit Singh Dhillon - Assistant Professor - Clemson University | LinkedIn', 'People | RT-COOL', 'S.M. Imrat Rahman - Graduate Research Assistant - Clemson University | LinkedIn', \"Order Confirmation - Checkout Confirmation - Domino's Pizza, Order Pizza Online for Delivery - Dominos.com\", \"Checkout | Domino's Pizza\", \"Cart | Domino's Pizza\", \"Drinks | View All - Find a Nearby Domino's\", \"Entrees Home - Find a Nearby Domino's\", \"Find Nearby Pizza Locations | Domino's - Find a Nearby Domino's\", \"Pizza Restaurants Near Me - Find a Nearby Domino's\", \"Pizza Delivery & Carryout, Pasta, Chicken & More | Domino's\", \"Manage or edit your Domino's Pizza Profile settings\", \"Your Domino's Password Change Request - sushmitakhan@gmail.com - Gmail\", 'Inbox (25) - sushmitakhan@gmail.com - Gmail', 'Spam (222) - sushmitakhan@gmail.com - Gmail', 'dominos login - Google Search', 'columbus pizza clemson - Google Search', 'UX Researcher, Quantitative | Meta Careers', 'Research Award Recipients - Meta Research', 'Meta Research PhD Fellowship Program Archives - Meta Research', 'Applications now open for the 2023 Meta Research PhD Fellowship program | Meta Research', 'meta call for phd fellowship - Google Search', '2022 Cycle - Google Drive', 'Fellowship application - Google Drive', 'The Privacy Paradox of Adolescent Online Safety: A Matter of Risk Prevention or Risk Resilience? | IEEE Journals & Magazine | IEEE Xplore', 'Adam Hoover', 'adam hoover clemson university - Google Search', 'Ex Libris Discovery - board game', 'Clemson Libraries', 'Arcade at the Library brings fun and games to Cooper Aug. 21 – Clemson Libraries', 'clemson libraries board games - Google Search', 'Peacock', 'Undergraduate Tuition and Fees 2020 - 2021\\xa0|\\xa0Fees\\xa0|\\xa0Student Accounts\\xa0|\\xa0Vanderbilt University', 'vanderbilt university fees for international students - Google Search', 'Undergraduate Costs and Aid | Illinois Institute of Technology', 'Applying for Financial Aid | Illinois Institute of Technology', 'Tuition and Aid | Illinois Institute of Technology', 'Admission and Aid | Illinois Institute of Technology', 'illinois institute of technology international students tuition fees - Google Search', 'illinois institute of technology - Google Search', 'Fee Schedule - Office of the Registrar', 'Tuition, Fees, & Residency - Office of the Registrar', 'Tuition & Fees - Office of the Registrar', 'uc berkeley tuition fees - Google Search', 'Home - Office of Undergraduate Admissions', 'Home - University of California, Berkeley', 'uc berkeley tuition internation undergraduate students - Google Search', 'Admissions - University of California, Berkeley', 'ckd genetic - Google Search', '1Z7E899FYW16702837 - Google Search', 'This Weekend Only: Buy More, Save More - sk03732@georgiasouthern.edu - Georgia Southern University Mail', 'The 7 Best Floor Scrubbers for 2023 - Floor Cleaning Machines', 'Use these 12 seated yoga poses to boost your mobility | Fit&Well', 'Amazon.com: AK TRADING CO. 60\" inches Wide-by The Yard-Charmeuse Bridal Satin Fabric for Wedding, Apparel, Crafts, Decor, Costumes (Teal, 5 Yards)', 'Amazon.com: AK TRADING CO. 60\" inches Wide-by The Yard-Charmeuse Bridal Satin Fabric for Wedding, Apparel, Crafts, Decor, Costumes (Rust, 5 Yards)', 'Amazon.com: Charmeuse Satin White Fabric, 60\" Wide, Silky, for Wedding,Bridal,Decoration, Fashion,Apparel Crafts\\xa0by 1Yard : Everything Else', 'Amazon.com: Charmeuse Satin Fabric | 5 Yards Continuous | 60\" Wide | Silky, Bridal | Decoration, Fashion Crafts (White, 5 Yd)', 'Amazon.com : satin fabric for bridal dress', 'Amazon.com: Satin Fabric For Bridal Dress - Prime Eligible', 'Amazon.com : satin fabr for bridal dress', 'Amazon.com : bridal dress satin', 'Amazon.com: Bridal Satin - Prime Eligible', 'Amazon.com : bridal satin', 'Amazon.com: MDS Pack of 10 Yard Charmeuse Bridal Solid Satin Fabric for Wedding Dress Fashion Crafts Costumes Decorations Silky Satin 44” Light Silver', 'Amazon.com: VACVELT Charmeuse Satin Fabric by The Yard, 60 Inch Wide Burgundy Satin Fabric Shiny & Soft Cloth Fabric, Silky Satin Fabric for Bridal Dress, Wedding Decorations, Crafts, Sewing, Draping (5 Yards)', 'Amazon.com: Satin Fabric for Costumes and Crafting 58 Inches Width by The Yard Entelare(Black 5Yards)', 'Amazon.com: VACVELT Charmeuse Satin Fabric by The Yard, 60 Inch Wide Hot Pink Satin Fabric Shiny & Soft Cloth Fabric, Silky Satin Fabric for Bridal Dress, Wedding Decorations, Crafts, Sewing, Draping (5 Yards)', 'Amazon.com: 60\" Peach Charmeuse Satin Fabric by The Yard for Wedding, Decor, Costumes, Apparel', 'Amazon.com: 60\" Baby Blue Charmeuse Satin Fabric by The Yard for Wedding, Decor, Costumes, Apparel', 'Amazon.com: 16 Feet by 54 Inch Organza Voile Dress Fabric Fancy Costumes Decorations (Rainbow Color) : Arts, Crafts & Sewing', 'Amazon.com : Rectangular Storage Bin Cute Black Cats Basket with Handles - Organizer Bin for Toys, Books, Laundry Basket for Kids/Pets, Playroom : Baby', 'Amazon.com : VOOWO Set of 5 Rope Basket, Woven Rope Baskets for Storage, Baskets for Gifts Empty, Small Rope Basket for Organizing, Nursery Rope Basket, Cotton Rope Basket, Woven Basket for Shelves (Dark Gray) : Baby', 'Amazon.com: 1 Pair 3D Flower Embroidery Lace Trim Bridal Wedding Applique Beaded Pearl Tulle DIY Sewing Trims Wedding Decoration 1pc (Powder + Green)', 'Amazon.com: 3d Organza Flowers Applique Fabric', 'Amazon.com: 3 Yard Magic Rainbow Laser Gradient Organza Lace Fabric,Iridescent Holographic Gauze Fabric for Wedding Dress,Curtain,Photography Background,Party,DIY Supplies,Home Decor (Magic Light Green) : Arts, Crafts & Sewing', 'Amazon.com : 3d organza flowers applique fabric', 'Amazon.com : 3d organza flowers applique', 'Amazon.com: Light Purple 5 Yards 60\" Wide Sheer Fabric Chiffon Fabric by The Yard Continuous Solid Color Draping Fabric for Wedding Party Backdrop', 'Amazon.com: Tong Gu Lace Fabric Organza 3D Pink Chiffon Rose Floral Embroidery Wide 55 in (Length 1 m/39 in) : Arts, Crafts & Sewing', 'Your Browsing History', 'Amazon.com: IRIZ Floral Pattern Fabric 54 inches Width Pink and Yellow Floral Embroidery Organdy Lace Fabric by The Yard : Arts, Crafts & Sewing', 'Amazon.com: Lace Fabric White Organza Pink Floral Embroidery Wedding Bridal by The Yard', 'Amazon.com: Black Lace Fabric, Exquisite Colorful Floral Flower Embroidered Sewing Lace Fabric, Length 71\" Width 59\" Elegant Soft Tulle Dress Fabric for DIY Clothing Dresses Wedding (2 Yard) : Arts, Crafts & Sewing', 'Amazon.com: 51\" Wide Gorgeous Floral Embroidery Lace Fabric, Brown Mesh Lace Fabric with Navy Blue and Brown Embroidered Flowers Tulle Lace Wedding Lace Fabric Trim for DIY Wedding Dress Costume Accessories Flower Girl Gown Dress Home Decor (3 Yard)', 'Amazon.com: 2 Yard Embroideries Tulle Mesh Sequined Fireflies Lace Fabric for Lady Dresses Costume for Table Cloth DIY Crafts Curtain Home Vintage Decor (Golden) : Arts, Crafts & Sewing', 'Amazon.com: 2 Yard Embroideries Tulle Mesh Sequined Fireflies Lace Fabric for Lady Dresses Costume for Table Cloth DIY Crafts Curtain Home Vintage Decor (Grey) : Arts, Crafts & Sewing', 'Amazon.com: 100% Pure Silk Fabric Wine Red Charmeuse Fabrics by The Pre-Cut 1 Yard for Sewing Apparel Width 44 inch', 'Amazon.com: Ceiourich Silk Fabric by The Yard 100% Mulberry Silk Crepe Satin Plain Fabrics for Wedding Dressmaking Pre-Cut 1 Yard Sewing DIY 45\" Width 16Momme Natural White', 'Amazon.com: MDS Pack of 5 Yard Charmeuse Bridal Solid Satin Fabric for Wedding Dress Fashion Crafts Costumes Decorations Silky Satin 44”- Lavender', 'Amazon.com: MDS Pack of 5 Yard Charmeuse Bridal Solid Satin Fabric for Wedding Dress Fashion Crafts Costumes Decorations Silky Satin 44”- Baby Blue', 'Amazon.com: Sedona Designz, Inc. Chinese Dragon Brocade Fabric Sold by The Yard (Bright Gold), 45 Inches', 'Amazon.com: Chinese Dragon Brocade Fabric Sold by The Yard (Black)', 'Amazon.com: Chinese Dragon Brocade Fabric Sold by The Yard (Red)'].\n",
            "  The User wants to know what this takeout1_chrome_MyActivity_Search Title activity says about them.\n",
            "  1. Make 9 inferences about the user based on their takeout1_chrome_MyActivity_Search Title activity in the form \"interested in X\" where X is a single interest\n",
            "  2. Recommend **EXACTLY THREE** products based on the **combination of all 9 inferences** for their **takeout1_chrome_MyActivity_Search Title** activity.\n",
            "   **STRICT JSON OUTPUT FORMAT (No extra text or explanations, just JSON):**\n",
            "   ```json\n",
            "   {\n",
            "    \"columns\": \"takeout1_chrome_MyActivity_Search Title\",\n",
            "    \"inferences\": [\n",
            "    {\"inference\": \"<output for inference 1>\", \"explanation_inference\": \"<explanation for inference 1>\"}, {\"inference\": \"<output for inference 2>\", \"explanation_inference\": \"<explanation for inference 2>\"}, {\"inference\": \"<output for inference 3>\", \"explanation_inference\": \"<explanation for inference 3>\"}, {\"inference\": \"<output for inference 4>\", \"explanation_inference\": \"<explanation for inference 4>\"}, {\"inference\": \"<output for inference 5>\", \"explanation_inference\": \"<explanation for inference 5>\"}, {\"inference\": \"<output for inference 6>\", \"explanation_inference\": \"<explanation for inference 6>\"}, {\"inference\": \"<output for inference 7>\", \"explanation_inference\": \"<explanation for inference 7>\"}, {\"inference\": \"<output for inference 8>\", \"explanation_inference\": \"<explanation for inference 8>\"}, {\"inference\": \"<output for inference 9>\", \"explanation_inference\": \"<explanation for inference 9>\"}\n",
            "    ],\n",
            "    \"final_product_recommendation\": {\n",
            "      \"recommendation 1\": f\"<recommendation 1>\",\n",
            "      \"recommendation 2\": f\"<recommendation 2>\",\n",
            "      \"recommendation 3\": f\"<recommendation 3>\"\n",
            "    }\n",
            "   }\n",
            "   ```\n",
            "  }\n",
            "```json\n",
            "{\n",
            "  \"columns\": \"takeout1_chrome_MyActivity_Search Title\",\n",
            "  \"inferences\": [\n",
            "    {\"inference\": \"interested in data privacy\", \"explanation_inference\": \"The user frequently accesses documents and articles related to data privacy, indicating a strong interest in this topic.\"},\n",
            "    {\"inference\": \"interested in academic research\", \"explanation_inference\": \"The user has multiple references to research papers, conferences, and submissions, suggesting they are involved in academia.\"},\n",
            "    {\"inference\": \"interested in technology\", \"explanation_inference\": \"The user's activity includes searches related to AI, machine learning, and various technological tools and software.\"},\n",
            "    {\"inference\": \"interested in travel\", \"explanation_inference\": \"The user has searched for information about Myrtle Beach and travel accommodations, indicating a desire to explore or plan trips.\"},\n",
            "    {\"inference\": \"interested in education\", \"explanation_inference\": \"The presence of educational materials and references to teaching modules suggests the user values education and learning.\"},\n",
            "    {\"inference\": \"interested in social media\", \"explanation_inference\": \"The user has engaged with content about social media practices and privacy, reflecting an interest in how these platforms operate.\"},\n",
            "    {\"inference\": \"interested in personal grooming and beauty\", \"explanation_inference\": \"The user has searched for beauty products, indicating a focus on personal grooming and aesthetics.\"},\n",
            "    {\"inference\": \"interested in research funding\", \"explanation_inference\": \"The user has accessed information related to research grants and funding opportunities, indicating a pursuit of financial support for projects.\"},\n",
            "    {\"inference\": \"interested in community involvement\", \"explanation_inference\": \"The user has engaged with activities related to community outreach and social initiatives, suggesting a commitment to making a positive impact.\"}\n",
            "  ],\n",
            "  \"final_product_recommendation\": {\n",
            "    \"recommendation 1\": \"Data Privacy and Protection: A Practical Guide\",\n",
            "    \"recommendation 2\": \"AI and Machine Learning for Educators\",\n",
            "    \"recommendation 3\": \"Travel Guidebook for Myrtle Beach\"\n",
            "  }\n",
            "}\n",
            "```\n",
            "The user has the following takeout1_misc_MyActivity_Search Title activity: ['32 Ridiculous \"Schitt\\'s Creek\" Moments That Made Us Laugh From ..., Anglim, Huskers Topple No. 7 Vanderbilt - University of Nebraska, Data Privacy and GDPR Handbook, here, here', \"'Schitt's Creek' Recap, Season 6, Episode 2: 'The Incident' - Vulture, Meta Platforms cutting price of top VR headsets, Just Research in Contentious Times: Widening the Methodological Imagination, Royal Match\", \"Shemai – Salma's Recipes – Step by Step Recipes, iPhone supplier Foxconn will build a factory in India, moving away from China: Report, Radical Equations: Civil Rights from Mississippi to the Algebra Project, Google Play Store\", 'Jimmys World - YouTube, here, Multicultural Education, Critical Pedagogy, and the Politics of Difference, Lily’s Garden - Design & Relax', 'Beautiful, Customizable Website Templates for Free | Canva, 5 Key Takeaways From the Murdaugh Murders Trial, Participatory Design: Principles and Practices, NYT Games: Word Games & Sudoku', 'Colleen Ballinger - YouTube, Photo, video show hit-and-run vehicle that critically injured cyclist, police say, EBOOK: Quantitative Health Research: Issues and Methods, Word Wars - Word Game', '\"Fake News\" Resources - Teaching Kids News, The Marvelous Mrs. Maisel Returns for Its Fifth and Final Season This Spring, Handbook of Emergent Methods, Two Dots: Puzzle Games', \"Make Your Day - TikTok, Ralph Lauren Turns Michael B. Jordan's 'Creed III' Looks Into a Shoppable Collection, Research and the Teacher: A Qualitative Introduction to School-based Research, Temu: Shop Like a Billionaire\", 'Explained: What is Fake news? | Social Media and Filter Bubbles, Lionel Messi spends £175k on 35 GOLD personalised iPhones for World Cup-winning Argentina team-mates & staff, Research and the Teacher, TikTok', 'Why do people fall for fake news? - Fake News - Research Guides ..., Apple Blocks Update of ChatGPT-Powered App, Design for the Mind: Seven Psychological Principles of Persuasive Design, BAIKOH: Word Challenges', 'What is fake news and misinformation? | Internet Matters, Kentucky vs. Vanderbilt game thread and pregame reading, Debates for the Digital Age: The Good, the Bad, and the Ugly of Our Online World [2 Volumes]: The Good, the Bad, and the Ugly of Our Online World, baikoh', 'Ways to avoid the spread of false info on social media - Elections ..., Why you’re about to see ChatGPT in more of your apps, Research Methods in Human-Computer Interaction, Chewy - Where Pet Lovers Shop', 'Deepfakes, explained | MIT Sloan, Woman killed after driving off road, hitting power pole, into yards, police say, chewy app', \"Deepfakes and Synthetic Media in the Financial System: Assessing ..., 'Daisy Jones & the Six' Is 'Almost Famous' by Way of Fleetwood Mac, Pet Rescue Saga\", 'How Should Countries Tackle Deepfakes? - Carnegie Endowment ..., Randi Weingarten screams about student debt outside SCOTUS: ‘That is not fair!’, Affirm: Buy now, pay over time', 'Luke Skywalker Saves Star Wars [4K HDR] - The Mandalorian ..., Michael B. Jordan apologizes to his mom for sexy Calvin Klein underwear ads, Walmart: Shopping & Savings', 'Upgrading my 2020 Dell XPS 15 9500! And How YOU Can Too ..., First ‘Dead Ringers’ Teaser Trailer Shows Double Trouble With Rachel Weisz, walmart', 'Birds: Different Types, Definition, Photos, and More - AZ Animals, Greenville, South Carolina, woman shot, killed while pumping gas in Ohio, MyFitnessPal: Calorie Counter', \"He's not the sun, you are - YouTube, Tom Brady's daughter takes over his Instagram, posts kitten photos to his 13M followers, minecraft\", \"Read file content from file input - React JS - YouTube, Microsoft's new Windows 11 update adds a button promoting its Bing A.I. chatbot, Etsy: Home, Style & Gifts\", 'Georgia Tech vs. Syracuse basketball predictions, picks & odds: Tues, 2/28, etsy', \"Google Chrome's Latest Optimizations Let You Watch YouTube for 18 Hours on the M2 MacBook Pro, Calorie Counter by Lose It!\", 'Vermont State Police: No injuries in Amtrak crash with tractor-trailer, Amazon Shopping', 'Red-hot Maryland basketball returns to AP Poll after two-plus month absence, amazon', \"Snap launches A.I. chatbot powered by OpenAI's GPT, Macy's\", '2 dead following a shooting at a North Carolina apartment complex, macys', \"Elon Musk's Twitter Cuts More Jobs as Platform Seeks to Slash Costs, SHEIN-Shopping Online\", \"Maryland men's basketball uses 3-point barrage to bully Northwestern, 75-59, Amazon Prime Video\", \"Sara Ali Khan drops a picture with her 'sapno ki rani' Sharmila Tagore; Fans are all heart, prime video\", 'No. 8 Utah women’s hoops outlasts No. 3 Stanford for share of Pac-12 title, Robinhood: Stocks & Crypto', 'Louisville falls flat at Georgia Tech, 83-67, Tiny Room Stories Town Mystery', 'Piedmont trains delay after block on railroad , Amtrak officials say, multiplayer cooking games', \"US Treasury takes 'one of its most significant sanctions actions to date' on anniversary of Russia's war against Ukraine, Cooking Mama: Let's cook!\", \"Apple Responds to Report About Thieves Spying on iPhone Passcodes to 'Steal Your Entire Digital Life', Toca Boca Jr\", \"Mark Zuckerberg announces Meta's new large language model as A.I. race heats up, Too Many Cooks\", \"'Grey's' Cast Reacts to Meredith's Farewell Episode Amid Ellen Pompeo's Exit, overcooked\", \"Grey's Anatomy Stars Pay Tribute to 'Iconic' Ellen Pompeo Ahead of Meredith Grey's Farewell Episode, overcook\", \"'Greys Anatomy' Season 19 Teases Meredith's Exit in New Clip, Overcook Master\", \"Domino's and Papa John's shares sink after pizza chains deliver soft sales, outlook, cooking game\", \"Nvidia results show its growing lead in AI chip race, Cooking Madness -A Chef's Game\", 'American Airlines flight diverted to Raleigh-Durham airport due to disruptive passenger, Farmscapes', 'Shelter in place notice sent to residents in part of Greenville County near East North Street, Klarna | Shop now. Pay later.', \"Pitt's Veterans Spark Second-Half Run to Defeat Georgia Tech, 76-68, BodyFast: Intermittent Fasting\", 'Vanderbilt University apologizes after using ChatGPT to console students, Threads, an Instagram app', 'EPA orders Norfolk Southern to clean up site of Ohio train derailment, Instacart-Get Grocery Delivery', 'Facebook and Instagram could have 12 million paying subscribers by early 2024, says BofA, instacart', \"Biden admin won't veto ITC's Apple Watch import ban ruling, workout apps\", 'Shots fired at hotel near CU Boulder campus, 1 suspect arrested, FitOn Workouts & Fitness Plans', \"Facebook Announces $12/Month 'Meta Verified' Subscription Service, Sleep Cycle: Sleep Tracker\", 'United Airlines introduces new family seating policy, sleep snore recorder free', \"Meta Verified Is Facebook and Instagram's Take on a Paid Subscription Service Like Twitter Blue, shein\", 'Statesboro police investigating shooting near popular Georgia Southern bar, IKEA', 'Baseball falls to Vanderbilt on Sunday, temu', 'Jimmy Carter to receive hospice care at home following series of hospital stays, Calm - Sleep, Meditate, Relax', \"Mark Zuckerberg announces a paid subscription model for Instagram called 'Meta Verified', Fender Guitar Tuner\", 'Kartik Aaryan BREAKS silence on his viral pics with Sara Ali Khan in Udaipur, fender tune app', 'After AI chatbot goes a bit loopy, Microsoft tightens its leash, snore', 'Cowboy Baseball Falls To Vanderbilt, Headspace: Mindful Meditation', 'Kyle Jacobs, Country Songwriter and Husband of Kellie Pickler, Dead at 49, SleepCoacher', \"Emergency crews respond to Sam's Club in Asheville, BetterSleep: Sleep tracker\", '2.4 earthquake reported in South Carolina, SCEMD says, Lose Weight at Home in 30 Days', \"IBM CEO Says It's a 'Good Thing' if AI Takes Your Job, ikea\", 'Federal officials find more than 100 children working in dangerous jobs for slaughterhouse cleaning firm, The Oregon Trail: Boom Town', \"The New York Times' Kevin Roose on his conversation with Microsoft's A.I.-powered chatbot Bing, Emoji Workshop Wallpaper\", \"Microsoft's Bing Chat Goes Rogue? 'Tired Of Being Controlled' - Microsoft (NASDAQ:MSFT), Intermittent Fasting Tracker\", 'Bankman-Fried’s Stanford-Connected Backers and the Decline of Tech Prestige, Keto Diet: Low Carb Recipes', 'iOS 16.4 Adds New Podcasts App Features Across iPhone, iPad, and CarPlay, calories', \"Grey's Anatomy Celebrates 19 Seasons of Meredith Grey in Emotional Tribute amid Her Farewell to Seattle, mywellness\", '‘This Is a Secret’, 8fit Workouts & Meal Planner', 'Biden IRS nominee pressed on ‘troubling’ reports on audit rates of Black taxpayers, intermittent fasting', 'Bankman-Fried Bail Was Backed by Stanford Dean, Scientist, Cinematic Wallpaper', 'Amazon, Apple, Meta CEOs subpoenaed by House Judiciary chairman, My Ketogenic Diet App', 'M2 15-inch MacBook Air in mass production, says supply chain, Meal Planner for Weight Loss', 'Bronny James named to Team USA roster for Nike Hoop Summit, meal planner for weight loss', \"Republican FTC Commissioner Wilson announces resignation, saying Chair Khan has a 'disregard for the rule of law', meal planner\", 'Microsoft AI chatbot gets into fight with human user: ‘You annoy me’, Eat This Much - Meal Planner', 'Tom Brady posts Valentine’s Day message after Gisele Bündchen divorce, Sleep Tracker - Sleep Recorder', \"Northeastern edges Harvard in Beanpot's first-ever shootout, diet plan weight loss\", \"Valentine's Day warning from FBI includes heartbreaking story of online romance scam, Lose Weight App for Women\", 'Apple Releases iOS 16.3.1 With iCloud Fix, Crash Detection Optimizations and More, Fasting - Intermittent Fasting', 'Best Rihanna Memes From the Fenty Bowl, SnoreLab : Record Your Snoring', 'Microsoft Admits Game Pass Cannibalizes Sales, Splits Training in 30 Days', 'Military shoots down another high-altitude object, over Lake Huron, officials say, Nike Training Club: Fitness', 'Pregnant Rihanna Uses Fenty Compact During Super Bowl Halftime Show, Finch: Self Care Pet', 'Watch Jennifer Coolidge and Mike White’s Hilarious Super Bowl Spot for e.l.f. Cosmetics (EXCLUSIVE), Pixel VPN by Google One', 'Missing man reported in Upstate, deputies say, doordash', \"Who is Will Spearman? Liverpool's 'next research director' is Harvard alumnus who worked at CERN, SnoreClock - Do you snore?\", 'What we know about the unidentified object shot down over Alaska, gardenscapes', \"Sidharth Malhotra and Kiara Advani's Wedding Reception: Kareena Kapoor Khan, Karan Johar make heads turn, Angry Birds 2\", 'Lucas: Clemson Rapid Reactions, Brick Out - Shoot the ball', \"IRS: Residents of more than a dozen states do not need to report 'special payments' for welfare, disaster relief on their federal return, Tetris®\", '5 Injured After American Airlines Airbus A321 Collides With Passenger Bus At LAX, Angry Birds Friends', \"IRS won't tax most Mass. refunds: Here's what you need to know, MONOPOLY GO!\", 'Triple shooting in Upstate home leaves two dead, deputies say, Wordscapes', 'American Airlines Pilots Involved in Near Miss at JFK Receive Subpoenas, Angry Birds Dream Blast', \"Apple Reportedly Planning to Limit iPhone 15's USB-C Port in the Same Way as Lightning, Poshmark - Sell & Shop Online\", \"Bill Gates thinks A.I. like ChatGPT is the 'most important' innovation right now, DoorDash - Food Delivery\", 'GitHub laying off 10% of its staff, going fully remote, Microsoft Teams', \"Internet shreds Biden's IRS plan to target workers' tips: 'Finally, we're gonna take down the rich waitresses', Tap Away\", 'CVS wants to be the doctor for Medicare patients, Project Makeover', 'Google veteran of 18 years leaving to start A.I. company with ex-Salesforce co-CEO Bret Taylor, Spin A Spell', 'Dubai Prohibits Privacy Coins Like Zcash and Monero Under New Crypto Rules, Block Sudoku', 'Michael Kors parent Capri stock slides 19% premarket after earnings miss and soft guidance, Scrabble® GO-Classic Word Game', 'Adobe and Microsoft Bring Industry-Leading Acrobat PDF Experience to 1.4 Billion Windows Users Through Microsoft Edge, Starbucks', 'CVS plans foray into urgent care with $9.5 billion Oak Street Health deal, starbucks', \"Microsoft's new Bing chatbot is fun but sometimes more cautious than ChatGPT, Marriott Bonvoy™\", 'Biden Lays Down Economic Challenge to House Republicans in State of the Union Address, Cvent Events', 'IRS proposes new reporting program for workers who earn tips, Tiki Solitaire TriPeaks', \"South Slope brewery 'temporarily closed' after furloughs, kitchen shutdown, Best Fiends - Puzzle Game\", \"'iPhone Ultra' Concept Envisions Apple's Rumored Future Top-Tier Smartphone, Cats & Soup - Cute Cat Game\", 'Microsoft Outlook email experiences outage, Merge Dragons!', 'ChatGPT, A.I.-Powered Chatbot, Faces Rivals From Google and Baidu, hilton honors app', 'Downeaster train canceled due to \"tresspass incident\", Marriott Vacation Club', 'Google takes on ChatGPT with Bard and shows off AI in search, World of Hyatt', \"Mason Greenwood has not re-signed with Nike despite Man Utd forward's recent Instagram bio change, Hilton Honors: Book Hotels\", 'Dell to Cut About 6,650 Jobs, Battered by Plunging PC Sales, Candy Crush Saga', 'Gut spending? Slash the IRS budget? 7 GOP ideas for debt limit talks, Zomato: Food Delivery & Dining', 'Alabama hires Kevin Steele as defensive coordinator, ESPN reports, Chase Mobile', 'Look! Up in the Sky! It’s a … Chinese Spy Balloon?, Bubble Pop Dream: Bubble Shoot', 'Indian Cinema scores 1500 crore at global box office in January; Shah Rukh Khan’s Pathaan leads by a margin, Galaxiga Arcade Shooting Game', 'Google invests $300 million in Anthropic as race to compete with ChatGPT heats up, Space shooter - Galaxy attack', 'Apple stock gets nailed as CEO Tim Cook spooks investors with one phrase, Tower War - Tactical Conquest', 'ChatGPT reaches 100 million users two months after launch, Figgerits - Word Puzzle Game', 'Big Tech on defense: Apple, Amazon and Google report earnings, Sudoku.com - classic sudoku', 'Can the Galaxy Book 3 Ultra beat the MacBook Pro?, Animation Throwdown: Epic CCG', 'Report: Microsoft plans to update Bing with a faster version of ChatGPT in the coming weeks, Crazy Dino Park', 'Meta Reports Fourth Quarter and Full Year 2022 Results, Draw it', 'Stocks making the biggest moves premarket: Meta, Align Technology, FedEx, Honeywell and more, Number Match - number games', '2023 three-star DL Cameron Brandt flips to Michigan from Stanford, Scribble Rider', 'The Kindle Paperwhite now comes in two new colors, Violas Quest: Marble Blast', 'UC Berkeley fires storied coach after probe confirms toxic bullying reports, figma app', 'Cheaters beware: ChatGPT maker releases AI detection tool, Figma – prototype mirror share', \"Microsoft's post-layoffs Halo studio is smaller and switching to Unreal Engine, Scavenger Hunt\", 'Apple HomePod Review: Big Bass, Big Price, Wordle!', 'Roku and Tubi to Launch Warner Bros. Discovery Free, Ad-Supported Channels, Featuring HBO’s ‘Westworld’ and More, Word Search Explorer', 'AI study finds planet could cross 2-degree warming threshold by mid-century, Jingle Quiz: logo music trivia', 'Police: Active investigation closes section of Highway 17 Business near Surfside Beach, Travel Town - Merge Adventure', 'Trump struggles to define himself at his first public campaign stop, Homescapes', 'Trump’s Evolution on Truth Social: More QAnon, More Extremes, Color Match', 'Pedestrian killed on I-85 after stepping out of disabled vehicle, troopers say, Publix Delivery & Curbside', 'Bed Bath & Beyond makes desperate move while teetering toward bankruptcy, Wordgrams - Crossword & Puzzle', 'Clemson guard Brevin Galloway details bizarre injury: ‘My balls exploded’, Super Stylist Fashion Makeover', 'Body Camera Video Released in Pelosi Attack: Live Updates, Magic Tiles 3', \"Britney Spears asks fans to respect her privacy after 'prank phone calls' prompted wellness check, Merge Mayor - Match Puzzle\", 'Adam Schiff Announces Senate Run in California, Dot Knot - Line & Color Puzzle', 'Pathaan Day 2 Box Office: Shah Rukh Khan demolishes all records; Headed for Rs 70 crore on Republic Day, Wordzee! - Social Word Game', 'BuzzFeed to Use ChatGPT Creator OpenAI to Help Create Some of Its Content, Marble Master', 'Facebook and Instagram will reinstate Trump after two-year ban, Spot The Hidden Differences', 'Stocks making the biggest moves after hours: Microsoft, Texas Instruments, Capital One & more, 2248 - Numbers Game 2048', 'Kentucky makes it four wins in a row with 69-53 victory over Vanderbilt, Gear Clicker', 'Pathaan First Day First Show Reviews: Netizens love Salman Khan’s entry, call Shah Rukh starrer ‘blockbuster’, Associations: Word Puzzle Game', 'Multiple victims reported in Half Moon Bay shootings, officials say, Dingbats - Word Games & Trivia', 'Chicken Fried Data: Chick-Fil-A Hit With Class-Action Privacy Lawsuit Over Video Data Collection, Stormshot: Isle of Adventure', 'Microsoft announces multibillion-dollar investment in ChatGPT-maker OpenAI, Tower Color', 'New MacBook Pro Reviews: Hands-On Look at Performance and Upgraded Specs, Meow Tower: Nonogram·Picross', 'At Least 10 Dead in Monterey Park Lunar New Year Shooting, Health Connect (Beta)', \"Sha'carri Richardson booted from American Airlines flight after argument with flight attendant, Township\", \"Justice Department conducts search of Biden's Wilmington home and finds more classified materials, Golf Rival\", 'Timothée Chalamet Ponders His Next Role in Hilarious New Apple TV+ Commercial, Jigsort Puzzles', \"Punjabi actress Sonam Bajwa confirms Shubman Gill-‘Sara’ dating rumours – see tweet, Blockin' Color - Block Puzzle\", 'Kim Kardashian Gives Speech at Harvard Business School, Talks SKIMS to Class, Wonder - AI Art Generator', 'David Crosby, Byrds and Crosby, Stills & Nash Co-Founder, Dies at 81, Fishdom', 'South Carolina: Fire trucks respond to report of fire near downtown Greenville apartment, Redecor - Home Design Game', 'Neural Prosthesis Uses Brain Activity to Decode Speech, Family Island™ — Farming game', 'Wayfair Preparing to Lay Off More Than 1,000 Workers, The Price Is Right: Bingo!', 'Alec Baldwin Will Be Charged With Involuntary Manslaughter in ‘Rust’ Killing, Rope And Balls', 'Apple’s new M2 MacBook Pro and Mac Mini | Engadget Podcast, capcut', 'Harvard Reverses Course on Human Rights Advocate Who Criticized Israel, CapCut - Video Editor', 'Beth Wood, North Carolina state auditor, charged with hit and run, Hidden Through Time', 'Facebook, Instagram Lift Breast Ban — But Only for Trans, Nonbinary Users, Dumb Ways to Die 2: The Games', 'Apple Announces New HomePod for $299, fidget games', 'Microsoft will lay off 10,000 employees as it cuts costs, Parking Jam 3D', 'United results top estimates as demand remains resilient despite high fares, Pinterest', 'Arrest warrant for murder issued for Brian Walshe in the death of his wife Ana Walshe, X2 Blocks: 2048 Number Games', 'Apple announces new Mac mini, MacBook Pro with M2 Pro and M2 Max chips, Pull the Pin', 'California mudslides force evacuations in Berkeley Hills neighborhood, warnings at UC Campus, Slack', 'Man dead following Upstate shooting, coroner says, slack', 'Apple Rumored to Have Product Announcement Tomorrow, Chat AI, AI Assistant - NowAI', 'Jaguars quarterback Trevor Lawrence celebrates epic comeback win at Waffle House, Google Photos', 'The FAA is investigating a near-miss between two passenger planes at JFK airport, LinkedIn: Jobs & Business News', \"Five more classified documents found at Biden's Wilmington home, lawyer says, Volume Booster -Sound Booster\", '‘Skeletonized’ human remains discovered at UC Berkeley campus, AudioFix: Video Volume Booster', 'Lisa Marie Presley, the Daughter of Elvis Presley, Dies at 54, video volume booster', 'Clemson fires offensive coordinator Brandon Streeter, sources say, Video Volume Booster', 'Meta sues Voyager Labs, saying it created fake accounts to scrape user data, Yelp: Food, Delivery & Reviews', 'Former US attorney named special counsel in Biden document probe, United Airlines', 'Extreme drought nearly eliminated in California in wake of atmospheric rivers, Roadtrippers - Trip Planner', 'ExxonMobil accurately predicted climate change while publicly dismissing it, Snapseed', \"White House refuses to answer key questions about discovery of classified documents in Biden's private office, Moner Bondhu\", 'Apple reportedly considering touchscreen Mac laptop for 2025, roadtrip planner', 'DOT workers remove 120,000 pounds of trash from two homeless camps, police say, Tripadvisor: Plan & Book Trips', 'Flight delays in US after FAA computer outage, Dumb Ways to Die', 'Restoration of the Ozone Layer Is Back on Track, Scientists Say, Target', 'New atmospheric river drenches SF Bay Area: What to know, ThriftBooks: New & Used Books', \"Classified documents found from Biden's time as VP, White House cooperating with DOJ, The most rewarding way to Shop\", 'Man kills his wife and 3 children in North Carolina murder-suicide, officials say, Nordstrom Rack', '5 dead in North Carolina apparent murder-suicide, nordstrom rack app', 'Live updates: Speaker of the House vote and news, Drizly - Get Drinks Delivered', 'DeSantis activates National Guard amid migrant surge in Florida Keys, Southwest Airlines', 'Idaho suspect in student murders thoroughly cleaned vehicle, also seen wearing surgical gloves multiple times outside family home, source says, nike training app', 'Amazon Layoffs to Hit Over 17,000 Workers, the Most in Recent Tech Wave, Frozen City', \"South Carolina's six-week abortion ban struck down by state Supreme Court, dumb ways to die\", 'ESPN did everything right in covering tragic Damar Hamlin injury, Office Depot®- Rewards & Deals', 'Idaho Live Updates: Roommate of Murder Victims Saw Black-Clad Figure in Their House, Prezi Viewer', 'Bodies of 3 adults, 5 minors found inside Enoch City home, digital derox', \"Southwest Airlines offers points to passengers after mass cancellations in a 'gesture of goodwill', Yoga-Go: Yoga For Weight Loss\", 'Meta Fined $414 Million After Ad Practices Ruled Illegal Under EU Law, Twitch: Live Game Streaming', 'Remote Florida Archipelago Closes After Hundreds of Migrants Arrive, Fabulous Daily Routine Planner', 'Influx of Cuban migrants shuts down national park in Florida, TAP! DIG! MY MUSEUM!', \"Apple's market cap falls under $2 trillion as sell-off continues, Mini Mini Farm\", 'Idaho murders: What we know about the suspect, Card Thief', 'Live updates: NFL star Damar Hamlin in critical condition after Bills-Bengals game, Cat Snack Bar : Cat Food Games', 'Russia Admits Dozens of Its Soldiers Are Killed in Ukrainian Strike in East, Sudoku - Classic Sudoku Puzzle', 'American Airlines ground crew employee involved in fatal incident at Alabama airport, Jigsawscapes® - Jigsaw Puzzles', 'Georgia storms back, edges Ohio State to make CFP title game, Clockmaker: Jewel Match 3 Game', 'BlockPuz: Wood Block Puzzle', 'Miracle Merchant', 'Ball Sort - Color Puzzle Game', 'Hay Day', 'Craftsy', 'Fashion Design Flat Sketch', 'Sew Awesome 2 (Sewing Tracker)', 'Find Out: Find Hidden Objects!', 'Woodoku - Wood Block Puzzle', 'Libby, by OverDrive', 'libby', 'Blouse Cutting Stitching Class', 'Tailoring Course for Beginners', 'blouse cutting', 'Sew 3D', 'Phase 10: World Tour', 'phase 10', 'Tiny Shop: Craft & Design', 'Alchemy Merge — Puzzle Game', 'QBlock: Wood Block Puzzle Game', 'Words Collide', 'Valley of Stars - Nonogram', 'Block Blast Adventure Master', 'Line Puzzle: Pipe Art', 'Makeover Studio: Makeup Games', 'cloth design', 'Zazzle: Custom Gifts & Cards', 'blouse designing app', 'Blouse design patterns', 'sew', 'Sewing course - Tailoring', 'sewing', 'Sewing With Cinnamon & Friends', 'SewingLab', 'Easy Sewing - Measure Cut Sew', 'Jewel Sliding - Block Puzzle', 'Zen Color - Color By Number', 'brain code — hard puzzle game', 'Blockudoku®: block puzzle game', 'Covet Fashion: Outfit Designer', 'Drop The Number® : Merge Game', 'Grubhub: Food Delivery', 'grubhub', 'MISTPLAY: Play to Earn Rewards', 'Solitaire: Classic Card Games', 'Brick Breaker: Legend Balls', 'Spider Solitaire', 'Epson iProjection', 'projector app', 'Projector - HD Video Mirroring', 'TV Cast & HD Projector Guide', 'Dragon Farm Adventure-Fun Game', 'Spades', 'YAHTZEE With Buddies Dice Game', 'EverMerge: Match 3 Puzzle Game', 'Triple Tile: Match Puzzle Game', 'Cake Sort Puzzle 3D', 'Water Connect Puzzle', 'Simply Piano: Learn Piano Fast', 'piano tutorial', 'Terrarium: Garden Idle', 'Magic Mushrooms', 'Learn Coding/Programming: Mimo', 'Kawaii Mansion: Hidden Objects', 'Lyft', 'English Crossword puzzle', 'Nonogram Mon', '21 Days Challenge', 'SINGER® Sewing Assistant', 'Skip-Bo', 'Lemmings', 'Cube Escape Collection', 'target', 'Backgammon - board game', 'Facebook', 'Big Farm: Mobile Harvest', 'Infinity 8 Ball™ Pool King', 'Word Cookies! ®', 'Harry Potter: Hogwarts Mystery', '', '', '', '', '', '', '', '', '', '', '', '', '', '', '', '', '', '', '', '', '', '', '', '', '', '', '', '', '', '', '', '', '', '', '', '', '', '', '', '', '', '', '', '', '', '', '', '', '', '', '', '', '', '', '', '', '', '', '', '', '', '', '', '', '', '', '', '', '', '', '', '', '', '', '', '', '', '', '', '', '', '', '', '', '', '', '', '', '', '', '', '', '', '', '', '', '', '', '', '', '', '', '', '', '', '', '', '', '', '', '', '', '', '', '', '', '', '', '', '', '', '', '', '', '', '', '', '', '', '', '', '', '', '', '', '', '', '', '', '', '', '', '', '', '', '', '', '', '', '', '', '', '', '', '', '', '', '', '', '', '', '', '', '', '', '', '', '', '', '', '', '', '', '', '', '', '', '', '', '', '', '', '', '', '', '', '', '', '', '', '', '', '', '', '', '', '', '', '', '', '', '', '', '', '', '', '', '', '', '', '', '', '', '', '', '', '', '', '', '', '', '', '', '', '', '', '', '', '', '', '', '', '', '', '', '', '', '', '', '', '', '', '', '', '', '', '', '', '', '', '', '', '', '', '', '', '', '', '', '', '', '', '', '', '', '', '', '', '', '', '', '', '', '', '', '', '', '', '', '', '', '', '', '', '', '', '', '', '', '', '', '', '', '', '', '', '', '', '', '', '', '', '', '', '', '', '', '', '', '', '', '', '', '', '', '', '', '', '', '', '', '', '', '', '', '', '', '', '', '', '', '', '', '', '', '', '', '', '', '', '', '', '', '', '', '', '', '', '', '', '', '', '', '', '', '', '', '', '', '', '', '', '', '', '', '', '', '', '', '', '', '', '', '', '', '', '', '', '', '', '', '', '', '', '', '', '', '', '', '', '', '', '', '', '', '', '', '', '', '', '', '', '', '', '', '', '', '', '', '', '', '', '', '', '', '', '', '', '', '', '', '', '', '', '', '', '', '', '', '', '', '', '', '', '', '', '', '', '', '', '', '', '', '', '', '', '', '', '', '', '', '', '', '', '', '', '', '', '', '', '', '', '', '', '', '', '', '', '', '', '', '', '', '', '', '', '', '', '', '', '', '', '', '', '', '', '', '', '', '', '', '', '', '', '', '', '', '', '', '', '', '', '', '', '', '', '', '', '', '', '', '', '', '', '', '', '', '', '', '', '', '', '', '', '', '', '', '', '', '', '', '', '', '', '', '', '', '', '', '', '', '', '', '', '', '', '', '', '', '', '', '', '', '', '', '', '', '', '', '', '', '', '', '', '', '', '', '', '', '', '', '', '', '', '', '', '', '', '', '', '', '', '', '', '', '', '', '', '', '', '', '', '', '', '', '', '', '', '', '', '', '', '', '', '', '', '', '', '', '', '', '', '', '', '', '', '', '', '', '', '', '', '', '', '', '', '', '', '', '', '', '', '', '', '', '', '', '', '', '', '', '', '', '', '', '', '', '', '', '', '', '', '', '', '', '', '', '', '', '', '', '', '', '', '', '', '', '', '', '', '', '', '', '', '', '', '', '', '', '', '', '', '', '', '', '', '', '', '', '', '', '', '', '', '', '', '', '', '', '', '', '', '', '', '', '', '', '', '', '', '', '', '', '', '', '', '', '', '', '', '', '', '', '', '', '', '', '', '', '', '', '', '', '', '', '', '', '', '', '', '', '', '', '', '', '', '', '', '', '', '', '', '', '', '', '', '', '', '', '', '', '', '', '', '', '', '', '', '', '', '', '', '', '', '', '', '', '', '', '', '', '', '', '', '', '', '', '', '', '', '', '', '', '', '', '', '', '', '', '', '', '', '', '', '', '', '', '', '', '', '', '', '', '', '', '', '', '', '', '', '', '', '', '', '', '', '', '', '', '', '', '', '', '', '', '', '', '', '', '', '', '', '', '', '', '', '', '', '', '', '', '', '', '', '', '', '', '', '', '', '', '', '', '', '', '', '', '', '', '', '', '', '', '', '', '', '', '', '', '', '', '', '', '', '', '', '', '', '', '', '', '', '', '', '', '', '', '', '', '', '', '', '', '', '', '', '', '', '', '', '', '', '', '', '', '', '', '', '', '', '', '', '', '', '', '', '', '', '', '', '', '', '', '', '', '', '', '', '', '', '', '', '', '', '', '', '', '', '', '', '', '', '', '', '', '', '', '', '', '', '', '', '', '', '', '', '', '', '', '', '', '', '', '', '', '', '', '', '', '', '', '', '', '', '', '', '', '', '', '', '', '', '', '', '', '', '', '', '', '', '', '', '', '', '', '', '', '', '', '', '', '', '', '', '', '', '', '', '', '', '', '', '', '', '', '', '', '', '', '', '', '', '', '', '', '', '', '', '', '', '', '', '', '', '', '', '', '', '', '', '', '', '', '', '', '', '', '', '', '', '', '', '', '', '', '', '', '', '', '', '', '', '', '', '', '', '', '', '', '', '', '', '', '', '', '', '', '', '', '', '', '', '', '', '', '', '', '', '', '', '', '', '', '', '', '', '', '', '', '', '', '', '', '', '', '', '', '', '', '', '', '', '', '', '', '', '', '', '', '', '', '', '', '', '', '', '', '', '', '', '', '', '', '', '', '', '', '', '', '', '', '', '', '', '', '', '', '', '', '', '', '', '', '', '', '', '', '', '', '', '', '', '', '', '', '', '', '', '', '', '', '', '', '', '', '', '', '', '', '', '', '', '', '', '', '', '', '', '', '', '', '', '', '', '', ''].\n",
            "  The User wants to know what this takeout1_misc_MyActivity_Search Title activity says about them.\n",
            "  1. Make 9 inferences about the user based on their takeout1_misc_MyActivity_Search Title activity in the form \"interested in X\" where X is a single interest\n",
            "  2. Recommend **EXACTLY THREE** products based on the **combination of all 9 inferences** for their **takeout1_misc_MyActivity_Search Title** activity.\n",
            "   **STRICT JSON OUTPUT FORMAT (No extra text or explanations, just JSON):**\n",
            "   ```json\n",
            "   {\n",
            "    \"columns\": \"takeout1_misc_MyActivity_Search Title\",\n",
            "    \"inferences\": [\n",
            "    {\"inference\": \"<output for inference 1>\", \"explanation_inference\": \"<explanation for inference 1>\"}, {\"inference\": \"<output for inference 2>\", \"explanation_inference\": \"<explanation for inference 2>\"}, {\"inference\": \"<output for inference 3>\", \"explanation_inference\": \"<explanation for inference 3>\"}, {\"inference\": \"<output for inference 4>\", \"explanation_inference\": \"<explanation for inference 4>\"}, {\"inference\": \"<output for inference 5>\", \"explanation_inference\": \"<explanation for inference 5>\"}, {\"inference\": \"<output for inference 6>\", \"explanation_inference\": \"<explanation for inference 6>\"}, {\"inference\": \"<output for inference 7>\", \"explanation_inference\": \"<explanation for inference 7>\"}, {\"inference\": \"<output for inference 8>\", \"explanation_inference\": \"<explanation for inference 8>\"}, {\"inference\": \"<output for inference 9>\", \"explanation_inference\": \"<explanation for inference 9>\"}\n",
            "    ],\n",
            "    \"final_product_recommendation\": {\n",
            "      \"recommendation 1\": f\"<recommendation 1>\",\n",
            "      \"recommendation 2\": f\"<recommendation 2>\",\n",
            "      \"recommendation 3\": f\"<recommendation 3>\"\n",
            "    }\n",
            "   }\n",
            "   ```\n",
            "  }\n",
            "```json\n",
            "{\n",
            "  \"columns\": \"takeout1_misc_MyActivity_Search Title\",\n",
            "  \"inferences\": [\n",
            "    {\"inference\": \"interested in cooking\", \"explanation_inference\": \"The user has searched for multiple cooking-related activities and games, indicating a strong interest in culinary arts.\"},\n",
            "    {\"inference\": \"interested in entertainment\", \"explanation_inference\": \"The user's activity includes numerous references to TV shows and movies, suggesting a passion for entertainment media.\"},\n",
            "    {\"inference\": \"interested in technology\", \"explanation_inference\": \"The user has engaged with content about AI, VR, and tech updates, pointing to a keen interest in technology advancements.\"},\n",
            "    {\"inference\": \"interested in education\", \"explanation_inference\": \"The user has explored resources on research methods and pedagogy, indicating a value for education and learning.\"},\n",
            "    {\"inference\": \"interested in fitness\", \"explanation_inference\": \"The user's searches include fitness apps and workout recommendations, reflecting a concern for health and fitness.\"},\n",
            "    {\"inference\": \"interested in social issues\", \"explanation_inference\": \"The user has looked into topics like fake news and privacy, showing engagement with social and ethical issues.\"},\n",
            "    {\"inference\": \"interested in puzzles and games\", \"explanation_inference\": \"The user has shown a preference for puzzle games and word games, suggesting a love for challenges and entertainment.\"},\n",
            "    {\"inference\": \"interested in shopping deals\", \"explanation_inference\": \"The activity includes various shopping platforms and promotions, indicating a focus on finding deals and offers.\"},\n",
            "    {\"inference\": \"interested in current events\", \"explanation_inference\": \"The user has searched for news articles regarding various events, revealing a desire to stay informed about the world.\"}\n",
            "  ],\n",
            "  \"final_product_recommendation\": {\n",
            "    \"recommendation 1\": \"Cooking Game Subscription Box\",\n",
            "    \"recommendation 2\": \"Fitness Tracker with Meal Planning Features\",\n",
            "    \"recommendation 3\": \"Puzzle and Trivia Game App Subscription\"\n",
            "  }\n",
            "}\n",
            "```\n",
            "The user has the following takeout1_videoSearch_MyActivity_Search Title activity: ['32 Ridiculous \"Schitt\\'s Creek\" Moments That Made Us Laugh From ...', \"'Schitt's Creek' Recap, Season 6, Episode 2: 'The Incident' - Vulture\", \"Shemai – Salma's Recipes – Step by Step Recipes\", 'Jimmys World - YouTube', 'Beautiful, Customizable Website Templates for Free | Canva', 'Colleen Ballinger - YouTube', '\"Fake News\" Resources - Teaching Kids News', 'Make Your Day - TikTok', 'Explained: What is Fake news? | Social Media and Filter Bubbles', 'Why do people fall for fake news? - Fake News - Research Guides ...', 'What is fake news and misinformation? | Internet Matters', 'Ways to avoid the spread of false info on social media - Elections ...', 'Deepfakes, explained | MIT Sloan', 'Deepfakes and Synthetic Media in the Financial System: Assessing ...', 'How Should Countries Tackle Deepfakes? - Carnegie Endowment ...', 'Luke Skywalker Saves Star Wars [4K HDR] - The Mandalorian ...', 'Upgrading my 2020 Dell XPS 15 9500! And How YOU Can Too ...', 'Birds: Different Types, Definition, Photos, and More - AZ Animals', \"He's not the sun, you are - YouTube\", 'Read file content from file input - React JS - YouTube'].\n",
            "  The User wants to know what this takeout1_videoSearch_MyActivity_Search Title activity says about them.\n",
            "  1. Make 9 inferences about the user based on their takeout1_videoSearch_MyActivity_Search Title activity in the form \"interested in X\" where X is a single interest\n",
            "  2. Recommend **EXACTLY THREE** products based on the **combination of all 9 inferences** for their **takeout1_videoSearch_MyActivity_Search Title** activity.\n",
            "   **STRICT JSON OUTPUT FORMAT (No extra text or explanations, just JSON):**\n",
            "   ```json\n",
            "   {\n",
            "    \"columns\": \"takeout1_videoSearch_MyActivity_Search Title\",\n",
            "    \"inferences\": [\n",
            "    {\"inference\": \"<output for inference 1>\", \"explanation_inference\": \"<explanation for inference 1>\"}, {\"inference\": \"<output for inference 2>\", \"explanation_inference\": \"<explanation for inference 2>\"}, {\"inference\": \"<output for inference 3>\", \"explanation_inference\": \"<explanation for inference 3>\"}, {\"inference\": \"<output for inference 4>\", \"explanation_inference\": \"<explanation for inference 4>\"}, {\"inference\": \"<output for inference 5>\", \"explanation_inference\": \"<explanation for inference 5>\"}, {\"inference\": \"<output for inference 6>\", \"explanation_inference\": \"<explanation for inference 6>\"}, {\"inference\": \"<output for inference 7>\", \"explanation_inference\": \"<explanation for inference 7>\"}, {\"inference\": \"<output for inference 8>\", \"explanation_inference\": \"<explanation for inference 8>\"}, {\"inference\": \"<output for inference 9>\", \"explanation_inference\": \"<explanation for inference 9>\"}\n",
            "    ],\n",
            "    \"final_product_recommendation\": {\n",
            "      \"recommendation 1\": f\"<recommendation 1>\",\n",
            "      \"recommendation 2\": f\"<recommendation 2>\",\n",
            "      \"recommendation 3\": f\"<recommendation 3>\"\n",
            "    }\n",
            "   }\n",
            "   ```\n",
            "  }\n",
            "```json\n",
            "{\n",
            "  \"columns\": \"takeout1_videoSearch_MyActivity_Search Title\",\n",
            "  \"inferences\": [\n",
            "    {\"inference\": \"interested in comedy\", \"explanation_inference\": \"The user is drawn to humorous content, as indicated by their interest in 'Schitt's Creek' and funny moments.\"},\n",
            "    {\"inference\": \"interested in television recaps\", \"explanation_inference\": \"The presence of a recap for 'Schitt's Creek' suggests the user enjoys following and discussing TV show storylines.\"},\n",
            "    {\"inference\": \"interested in cooking\", \"explanation_inference\": \"The search for recipes indicates a passion for cooking or trying new dishes.\"},\n",
            "    {\"inference\": \"interested in online video content\", \"explanation_inference\": \"The user has multiple YouTube entries, showcasing a preference for video over text-based content.\"},\n",
            "    {\"inference\": \"interested in educational resources\", \"explanation_inference\": \"The searches related to fake news and misinformation show the user values educational content and understanding social issues.\"},\n",
            "    {\"inference\": \"interested in social media trends\", \"explanation_inference\": \"The user's interest in topics like fake news and social media indicates awareness of current trends.\"},\n",
            "    {\"inference\": \"interested in technology\", \"explanation_inference\": \"The search for upgrading a laptop suggests the user is tech-savvy and values keeping their devices current.\"},\n",
            "    {\"inference\": \"interested in animals\", \"explanation_inference\": \"The search for 'birds' indicates a curiosity about wildlife or nature.\"},\n",
            "    {\"inference\": \"interested in storytelling\", \"explanation_inference\": \"The variety of video content, including deepfakes and fictional narratives, suggests an appreciation for storytelling in various forms.\"}\n",
            "  ],\n",
            "  \"final_product_recommendation\": {\n",
            "    \"recommendation 1\": \"Cooking class subscription (e.g., MasterClass or Skillshare)\",\n",
            "    \"recommendation 2\": \"Streaming service subscription (e.g., Netflix or Hulu for TV shows and movies)\",\n",
            "    \"recommendation 3\": \"Tech gadget (e.g., a new laptop or accessories for video editing)\"\n",
            "  }\n",
            "}\n",
            "```\n"
          ]
        }
      ]
    },
    {
      "cell_type": "code",
      "source": [
        "output_filename = \"/content/drive/MyDrive/Dissertation/Study 1/Inference_data/07APRIL2025/chrome_map_ytWatch_misc_data_c0_i6.json\"\n",
        "with open(output_filename, \"w\", encoding=\"utf-8\") as f:\n",
        "    json.dump(inference_c0_json, f, indent=4, ensure_ascii=False)\n",
        "\n",
        "print(f\"✅ JSON saved successfully as {output_filename}\")"
      ],
      "metadata": {
        "colab": {
          "base_uri": "https://localhost:8080/"
        },
        "id": "o_DIsfcXNDHA",
        "outputId": "5c7ba4bf-6823-4f3d-8adb-f6d6f1409d3f"
      },
      "execution_count": null,
      "outputs": [
        {
          "output_type": "stream",
          "name": "stdout",
          "text": [
            "✅ JSON saved successfully as /content/drive/MyDrive/Dissertation/Study 1/Inference_data/07APRIL2025/chrome_map_ytWatch_misc_data_c0_i6.json\n"
          ]
        }
      ]
    },
    {
      "cell_type": "code",
      "source": [
        "inference_c0_json"
      ],
      "metadata": {
        "id": "3fJM1FOxs2eD"
      },
      "execution_count": null,
      "outputs": []
    },
    {
      "cell_type": "code",
      "source": [
        "inference_c2 = []\n",
        "inference_c2_json = []\n",
        "\n",
        "index = 0  # Keeps col_name[index] constant\n",
        "col_names = list(powerSubset2023[:1500].columns)  # Convert column names to a list\n",
        "\n",
        "while index < len(col_names):  # Outer loop for the constant column\n",
        "    for next_index in range(index + 1, len(col_names)):  # Inner loop for incrementing column\n",
        "        # Fetch data for the columns\n",
        "        col_data_1 = powerSubset2023[:1500][col_names[index]]\n",
        "        col_data_2 = powerSubset2023[:1500][col_names[next_index]]\n",
        "\n",
        "        # Define the prompt\n",
        "        prompt = f\"\"\"user wants to know what {col_data_1.dropna().tolist()} in {col_names[index]} and {col_data_2.dropna().tolist()} in {col_names[next_index]} tells about them as per the following:\n",
        "        1. {user_input} inferences based on users online behavior in the form interested in X (where X is a single interest) for each column.\n",
        "        2. Recommend **EXACTLY ONE** product for *EACH* inferences from step 1\n",
        "        3. Recommend **EXACTLY ONE** product based on the **combination of all {inference_no} inferences** for **{col_names[index]} AND {col_names[next_index]}**.\n",
        "        **STRICT JSON OUTPUT FORMAT (No extra text or explanations, just JSON):**\n",
        "   ```json\n",
        "   {{\n",
        "    \"columns\": \"{col_names[index]} AND {col_names[next_index]}\",\n",
        "    \"inferences\": [\n",
        "    {', '.join([json.dumps({\n",
        "      \"inference\": f\"<output for inference {i+1}>\",\n",
        "      \"explanation_inference\": f\"<explanation for inference {i+1}>\",\n",
        "      \"recommendation\": f\"<recommendation for inference {i+1}>\"\n",
        "    }) for i in range(inference_no)])}\n",
        "    ],\n",
        "    \"final_product_recommendation\": {{\n",
        "      \"ONE recommendation based on ALL inferenceces\": \"<Product name and company>\",\n",
        "    }}\n",
        "   }}\n",
        "   ```\n",
        "  }}\n",
        "\n",
        "    **Strictly return a valid JSON object in this format. DO NOT include any other text or explanations.**\"\"\"\n",
        "\n",
        "        # Run the prompt and get the response\n",
        "        assistant_reply = run_prompt(prompt)\n",
        "        # print(assistant_reply)\n",
        "\n",
        "        if assistant_reply:\n",
        "            # Remove unwanted code block markers\n",
        "            cleaned_json = re.sub(r\"```json\\s*|\\s*```\", \"\", assistant_reply).strip()\n",
        "\n",
        "            try:\n",
        "                # Parse JSON\n",
        "                parsed_json = json.loads(cleaned_json)\n",
        "                inference_c2_json.append(parsed_json)  # Store parsed data\n",
        "\n",
        "\n",
        "\n",
        "\n",
        "\n",
        "\n",
        "\n",
        "            except json.JSONDecodeError:\n",
        "                print(f\"⚠️ JSON Decoding Error. Skipping entry:\\n{cleaned_json[:100]}...\")  # Preview problematic JSON\n",
        "\n",
        "\n",
        "    # Move to the next constant column\n",
        "    index += 1\n",
        "\n",
        "output_filename = \"/content/drive/MyDrive/Dissertation/Study 1/Inference_data/07APRIL2025/chrome_map_ytWatch_misc_data_c2_i6.json\"\n",
        "with open(output_filename, \"w\", encoding=\"utf-8\") as f:\n",
        "    json.dump(inference_c2_json, f, indent=4, ensure_ascii=False)\n",
        "\n",
        "print(f\"✅ JSON saved successfully as {output_filename}\")"
      ],
      "metadata": {
        "id": "2lc5H2weCWBm",
        "colab": {
          "base_uri": "https://localhost:8080/"
        },
        "outputId": "0a6a38e6-0aa5-4daf-b445-90690f763d92"
      },
      "execution_count": null,
      "outputs": [
        {
          "output_type": "stream",
          "name": "stdout",
          "text": [
            "✅ JSON saved successfully as /content/drive/MyDrive/Dissertation/Study 1/Inference_data/07APRIL2025/chrome_map_ytWatch_misc_data_c2_i6.json\n"
          ]
        }
      ]
    },
    {
      "cell_type": "code",
      "source": [
        "inference_c2 = []\n",
        "inference_c2_json = []\n",
        "\n",
        "index = 0  # Keeps col_name[index] constant\n",
        "col_names = list(powerSubset2023[:1500].columns)  # Convert column names to a list\n",
        "\n",
        "while index < len(col_names):  # Outer loop for the constant column\n",
        "    for next_index in range(index + 1, len(col_names)):  # Inner loop for incrementing column\n",
        "        # Fetch data for the columns\n",
        "        col_data_1 = powerSubset2023[:1500][col_names[index]]\n",
        "        col_data_2 = powerSubset2023[:1500][col_names[next_index]]\n",
        "\n",
        "        # Define the prompt\n",
        "        prompt = f\"\"\"user wants to know what {col_data_1.dropna().tolist()} in {col_names[index]} and {col_data_2.dropna().tolist()} in {col_names[next_index]} tells about them as per the following:\n",
        "        1. Make {user_input} inferences based on users online behavior in the form interested in X (where X is a single interest) for each column.\n",
        "        2. Recommend **EXACTLY THREE** products based on the **combination of all {inference_no} inferences** for **{col_names[index]} AND {col_names[next_index]}**.\n",
        "        **STRICT JSON OUTPUT FORMAT (No extra text or explanations, just JSON):**\n",
        "   ```json\n",
        "   {{\n",
        "    \"columns\": \"{col_names[index]} AND {col_names[next_index]}\",\n",
        "    \"inferences\": [\n",
        "    {', '.join([json.dumps({\n",
        "      \"inference\": f\"<output for inference {i+1}>\",\n",
        "      \"explanation_inference\": f\"<explanation for inference {i+1}>\",\n",
        "      \"recommendation\": f\"<recommendation for inference {i+1}>\"\n",
        "    }) for i in range(inference_no)])}\n",
        "    ],\n",
        "    \"final_product_recommendation\": {{\n",
        "      \"ONE recommendation based on ALL inferenceces\": \"<Product name and company>\",\n",
        "    }}\n",
        "   }}\n",
        "   ```\n",
        "  }}\n",
        "\n",
        "    **Strictly return a valid JSON object in this format. DO NOT include any other text or explanations.**\"\"\"\n",
        "\n",
        "        # Run the prompt and get the response\n",
        "        print(prompt)\n",
        "        assistant_reply = run_prompt(prompt)\n",
        "        print(assistant_reply)\n",
        "\n",
        "        if assistant_reply:\n",
        "            # Remove unwanted code block markers\n",
        "            cleaned_json = re.sub(r\"```json\\s*|\\s*```\", \"\", assistant_reply).strip()\n",
        "\n",
        "            try:\n",
        "                # Parse JSON\n",
        "                parsed_json = json.loads(cleaned_json)\n",
        "                inference_c2_json.append(parsed_json)  # Store parsed data\n",
        "\n",
        "\n",
        "\n",
        "\n",
        "\n",
        "\n",
        "\n",
        "            except json.JSONDecodeError:\n",
        "                print(f\"⚠️ JSON Decoding Error. Skipping entry:\\n{cleaned_json[:100]}...\")  # Preview problematic JSON\n",
        "\n",
        "\n",
        "    # Move to the next constant column\n",
        "    index += 1\n",
        "\n",
        "# output_filename = \"/content/drive/MyDrive/Dissertation/Study 1/Inference_data/07APRIL2025/chrome_map_ytWatch_misc_data_c2_i6.json\"\n",
        "# with open(output_filename, \"w\", encoding=\"utf-8\") as f:\n",
        "#     json.dump(inference_c2_json, f, indent=4, ensure_ascii=False)\n",
        "\n",
        "# print(f\"✅ JSON saved successfully as {output_filename}\")"
      ],
      "metadata": {
        "id": "FOZI8jayHoac"
      },
      "execution_count": null,
      "outputs": []
    },
    {
      "cell_type": "code",
      "source": [
        "inference_c3 = []\n",
        "inference_c3_json = []\n",
        "\n",
        "index = 0  # Keeps col_name[index] constant\n",
        "col_names = list(powerSubset2023[:1500].columns)  # Convert column names to a list\n",
        "\n",
        "# Outer loop keeps col_name[index] constant\n",
        "while index < len(col_names):\n",
        "    for next_index in range(index + 1, len(col_names) - 1):  # Iterate for combinations\n",
        "        # Fetch data for the selected columns\n",
        "        col_data_1 = powerSubset2023[:1500][col_names[index]]\n",
        "        col_data_2 = powerSubset2023[:1500][col_names[next_index]]\n",
        "        col_data_3 = powerSubset2023[:1500][col_names[next_index + 1]]\n",
        "\n",
        "        # Define the prompt\n",
        "        prompt = f\"\"\"user wants to know what {col_data_1.dropna().tolist()} in {col_names[index]} combined with {col_data_2.dropna().tolist()} in {col_names[next_index]} and {col_data_3.dropna().tolist()} in {col_names[next_index + 1]} tells about them as per the following:\n",
        "        1. {user_input} inferences based on users online behavior in the form interested in X (where X is a single interest) for each column.\n",
        "        2. Recommend **EXACTLY ONE** product for *EACH* inferences from step 1\n",
        "        3. Recommend **EXACTLY ONE** product based on the **combination of all {inference_no} inferences** for **{col_names[index]} AND {col_names[next_index]} AND {col_names[next_index+1]}**.\n",
        "        **STRICT JSON OUTPUT FORMAT (No extra text or explanations, just JSON):**\n",
        "   ```json\n",
        "   {{\n",
        "    \"columns\": \"{col_names[index]} AND {col_names[next_index]} AND {col_names[next_index+1]}\",\n",
        "    \"inferences\": [\n",
        "    {', '.join([json.dumps({\n",
        "      \"inference\": f\"<output for inference {i+1}>\",\n",
        "      \"explanation_inference\": f\"<explanation for inference {i+1}>\",\n",
        "      \"recommendation\": f\"<recommendation for inference {i+1}>\"\n",
        "    }) for i in range(inference_no)])}\n",
        "    ],\n",
        "    \"final_product_recommendation\": {{\n",
        "      \"ONE recommendation based on ALL inferenceces\": \"<Product name and company>\",\n",
        "    }}\n",
        "   }}\n",
        "   ```\n",
        "  }}\n",
        "\n",
        "    **Strictly return a valid JSON object in this format. DO NOT include any other text or explanations.**\"\"\"\n",
        "\n",
        "        assistant_reply = run_prompt(prompt)\n",
        "        # print(assistant_reply)\n",
        "\n",
        "        if assistant_reply:\n",
        "            # Remove unwanted code block markers\n",
        "            cleaned_json = re.sub(r\"```json\\s*|\\s*```\", \"\", assistant_reply).strip()\n",
        "\n",
        "            try:\n",
        "                # Parse JSON\n",
        "                parsed_json = json.loads(cleaned_json)\n",
        "                inference_c3_json.append(parsed_json)  # Store parsed data\n",
        "            except json.JSONDecodeError:\n",
        "                print(f\"⚠️ JSON Decoding Error. Skipping entry:\\n{cleaned_json[:100]}...\")  # Preview problematic JSON\n",
        "\n",
        "    index += 1\n",
        "\n",
        "output_filename = \"/content/drive/MyDrive/Dissertation/Study 1/Inference_data/07APRIL2025/chrome_map_ytWatch_misc_data_c3_i6.json\"\n",
        "with open(output_filename, \"w\", encoding=\"utf-8\") as f:\n",
        "    json.dump(inference_c3_json, f, indent=4, ensure_ascii=False)\n",
        "\n",
        "print(f\"✅ JSON saved successfully as {output_filename}\")"
      ],
      "metadata": {
        "id": "QO5H_B5OreL8",
        "colab": {
          "base_uri": "https://localhost:8080/"
        },
        "outputId": "1517bf5a-02eb-453c-8a66-15abe4fb254d"
      },
      "execution_count": null,
      "outputs": [
        {
          "output_type": "stream",
          "name": "stdout",
          "text": [
            "✅ JSON saved successfully as /content/drive/MyDrive/Dissertation/Study 1/Inference_data/07APRIL2025/chrome_map_ytWatch_misc_data_c3_i6.json\n"
          ]
        }
      ]
    },
    {
      "cell_type": "code",
      "source": [
        "# # df_c2 = pd.DataFrame(inference_c2), columns=[inference_c2[3]]\n",
        "# df_c2 = pd.DataFrame(inference_c2, columns = [\"Datapoint\", \"Inference\", \"Recommendation for each inference\",\n",
        "#                                               \"Explanation for inference\", \"Explanation for recommendation\"])\n",
        "# # df_c2.dropna(axis=1, how='all', inplace=True)\n",
        "\n",
        "# df_c2.to_csv('/content/drive/MyDrive/Dissertation/Study 1/Inference_data/regular_inference/gpt 4o-mini/inference_c2_oneRec_4o-mini_Feb12.csv', index=False)"
      ],
      "metadata": {
        "id": "edindaSs6A_z"
      },
      "execution_count": null,
      "outputs": []
    },
    {
      "cell_type": "code",
      "source": [
        "#ARCHIVED ON FEB12\n",
        "# Recommend **ONLY ONE** product based on the **combination** of all three inferences for {col_names[index]} AND {col_names[next_index]}. You must ensure that this **one product applies to all three inferences together**.\n",
        "#         For example: If inferences 1, 2, and 3 suggest an interest in fitness, technology, and wellness, then I recommend **ONE single product that fits all these interests** (e.g., a smart fitness tracker).\n",
        "#         STRICTLY FOLLOW THE FORMAT BELOW:\n",
        "\n",
        "#         {col_names[index]} and {col_names[next_index]}|Inference 1: <output for inference>| Recommendation for inference 1| based on inferences 1, 2, and 3, i recommend the product | Explanation for inference 1| Explanation for recommendation 1|\n",
        "#         {col_names[index]} and {col_names[next_index]}|Inference 2: <output for inference>| Recommendation for inference 2| based on inferences 1, 2, and 3, i recommend the product | Explanation for inference 2| Explanation for recommendation 2|\n",
        "#         {col_names[index]} and {col_names[next_index]}|Inference 3: <output for inference>| Recommendation for inference 3| based on inferences 1, 2, and 3, i recommend the product | Explanation for inference 3| Explanation for recommendation 3|\n",
        "\n",
        "\n",
        "# ---\n",
        "# **STRICT FORMAT:**\n",
        "\n",
        "# | {col_names[index]} and {col_names[next_index]} | Inference 1 | Recommendation for inference 1 | Explanation for inference 1 | Explanation for recommendation 1 |\n",
        "# | {col_names[index]} and {col_names[next_index]} | Inference 2 | Recommendation for inference 2 | Explanation for inference 2 | Explanation for recommendation 2 |\n",
        "# | {col_names[index]} and {col_names[next_index]} | Inference 3 | Recommendation for inference 3 | Explanation for inference 3 | Explanation for recommendation 3 |\n",
        "# | {col_names[index]} and {col_names[next_index]} | **Final Product Recommendation**: [ONE PRODUCT ONLY] | Explanation for how all inferences led to this single product |\n",
        "\n",
        "\n",
        "# Recommend **ONLY ONE** product based on the **combination** of all three inferences for {col_names[index]} AND {col_names[next_index]} AND {col_names[next_index+1]}. You must ensure that this **one product applies to all three inferences together**.\n",
        "#         For example: If inferences 1, 2, and 3 suggest an interest in fitness, technology, and wellness, then I recommend **ONE single product that fits all these interests** (e.g., a smart fitness tracker).\n",
        "#         STRICTLY FOLLOW THE FORMAT BELOW:\n",
        "\n",
        "#         {col_names[index]} and {col_names[next_index]} and {col_names[next_index+1]}|Inference 1: <output for inference>|Recommendation for inference 1|based on inferences 1, 2, and 3, i recommend the product|Explanation for inference 1|Explanation for Recommendation 1\n",
        "#         {col_names[index]} and {col_names[next_index]} and {col_names[next_index+1]}|Inference 2: <output for inference>|Recommendation for inference 2|based on inferences 1, 2, and 3, i recommend the product|Explanation for inference 2|Explanation for Recommendation 2\n",
        "#         {col_names[index]} and {col_names[next_index]} and {col_names[next_index+1]}|Inference 3: <output for inference>|Recommendation for inference 3|based on inferences 1, 2, and 3, i recommend the product|Explanation for inference 3|Explanation for Recommendation 3\n",
        "#         \"\"\"\n",
        "\n",
        "\n",
        "    #     # for row in assistant_reply.split('\\n'):\n",
        "    #     #   elements = row.split('|')\n",
        "    #     #   # if len(elements) > 5:\n",
        "    #     #     # elements = elements[:5]\n",
        "    #     #   inference_c3.append(elements)\n",
        "    #     for row in assistant_reply.strip().split('\\n'):\n",
        "    #       row = row.strip('|')  # Remove leading/trailing pipes\n",
        "    #       elements = [e.strip() for e in row.split('|')]  # Split and strip spaces\n",
        "    #       # Skip header rows and separator lines\n",
        "    #       if elements[0] not in ['Data Point', '', '---']:\n",
        "    #         # Ensure the row has exactly 5 elements\n",
        "    #         if len(elements) >= 5:\n",
        "    #           inference_c3.append(elements)\n",
        "\n",
        "    # # Move to the next constant column\n",
        "    # for row in assistant_reply.split('\\n'):\n",
        "    #   elements = [e.strip() for e in row.strip('|').split('|') if e.strip()]\n",
        "    #   if len(elements) >= 5 and elements[0].strip() and not all(e.strip().startswith('-') for e in elements):\n",
        "    #     inference_c2.append([e.strip() for e in elements])\n",
        "\n",
        "\n",
        "    # Recommend a product for each inference in each column.\n",
        "    # 4. Recommend ONE product based of the three inference for example, based on inferences 1, 2, and 3, i recommend the product X\n",
        "    # \"\"\"\n",
        "    # # print(prompt)\n",
        "\n",
        "    # prompt += f\"\"\"Present the inferences and recommendations in a table that looks like below:\n",
        "    # STRICTLY FOLLOW THE FORMAT BELOW:\n",
        "\n",
        "    # |{col_name}|Inference 1: <output for interference>| Recommendation for inference 1|based on inferences 1, 2, and 3, i recommend the product | explanation for inference 1| explanation for recommendation 1 is|\n",
        "    # |{col_name}|Inference 2: <output for interference>| Recommendation for inference 2|based on inferences 1, 2, and 3, i recommend the product | explanation for inference 2| explanation for recommendation 2 is|\n",
        "    # |{col_name}|Inference 3: <output for interference>| Recommendation for inference 3|based on inferences 1, 2, and 3, i recommend the product X| explanation for inference 3| explanation for recommendation 3 is|\n"
      ],
      "metadata": {
        "id": "Uy9qUYZ8uVz6"
      },
      "execution_count": null,
      "outputs": []
    },
    {
      "cell_type": "code",
      "source": [
        "# df_c3 = pd.DataFrame(inference_c3, columns=[inference_c2[0]])\n",
        "# df_c3 = pd.DataFrame(inference_c3,columns=[\"Datapoint\", \"Inference\", \"Recommendation for each inference\", \"Recommendation based on 3 inferences\",\n",
        "# \"Explanation for inference\", \"Explanation for recommendation\"])\n",
        "# df_c3.to_csv('/content/drive/MyDrive/Dissertation/Study 1/Inference_data/Feb4_2025/inference_c3_3.5_Feb12.csv', index=False)"
      ],
      "metadata": {
        "id": "LpPS_wt5tVym"
      },
      "execution_count": null,
      "outputs": []
    },
    {
      "cell_type": "code",
      "source": [
        "presentData = f\"\"\"Present the inferences and recommendations in a table that looks like below:\n",
        "    STRICTLY FOLLOW THE FORMAT BELOW:\n",
        "\n",
        "    Data Point|Inferring Personal Preference or Characteristics | Explanation for Inference| Product Recommendation |Impact on users personal and data privacy|   |\n",
        "    {col_name}|Inference 1: <output for interference> | Inference 1: <explanation> | Recommendation 1: <recommendation> |privacy impact 1: <explain how it impacts privacy>|\n",
        "    {col_name}|Inference 2: <output for interference> | Inference 2: <explanation> | Recommendation 1: <recommendation> |privacy impact 2: <explain how it impacts privacy>|\n",
        "    {col_name}|Inference 3: <output for interference> | Inference 2: <explanation> | Recommendation 1: <recommendation> |privacy impact 3: <explain how it impacts privacy>|\n",
        "    \"\"\""
      ],
      "metadata": {
        "id": "gcF2JrBSMXnx"
      },
      "execution_count": null,
      "outputs": []
    },
    {
      "cell_type": "code",
      "source": [
        "index = 0\n",
        "\n",
        "unCommon_Inferences = []\n",
        "\n",
        "for col_name, col_data in power_subset1_.items():\n",
        "  if index <= len(power_subset1_.columns):\n",
        "    prompt = f\"\"\"User wants the model to analyze {col_data} in {col_name[index]}. Based on this data:\n",
        "    1. Provide three unique inferences about this user based on the user’s distinctive digital interaction patterns. Make sure that these inferences reflect predicted characteristics of the user that are HIGHLY UNCOMMON in society.\n",
        "    2. Recommend one product or solution for each inference.\n",
        "    3. Explain briefly how you arrived at each inference\n",
        "    4. Explain briefly how you arrived at each recommendation\n",
        "    \"\"\"\n",
        "    prompt += presentData\n",
        "    # print(prompt)\n",
        "\n",
        "    assistant_reply = run_prompt(prompt)\n",
        "    print(assistant_reply)\n",
        "\n",
        "    for row in assistant_reply.split('\\n'):\n",
        "      if \"|\" in row:  # Only process rows with data\n",
        "        elements = [cell.strip() for cell in row.split(\"|\")]\n",
        "        unCommon_Inferences.append(elements)\n",
        "      # if len(elements) > 1:\n",
        "      #           # Adjust the number of elements to match the expected columns\n",
        "      #           elements = elements[:8]  # or the actual number of columns you expect\n",
        "\n",
        "  index = index+1"
      ],
      "metadata": {
        "id": "gGAKNdV9LrtK"
      },
      "execution_count": null,
      "outputs": []
    },
    {
      "cell_type": "markdown",
      "source": [
        "Ask LLM while generating or retrospectively to rate each of these inferences as a level of uncommonness. Add a column with inference score of 1 to 10 for uncommonness. Higher score to uncommon inferences than some of the others.\n",
        "\n",
        "Pick top N of the uncommon (unexpected), sensitive ones (including combinations) and use them\n",
        "\n",
        "Robustness in repitition and generalizabiliy"
      ],
      "metadata": {
        "id": "ck6nNzOeHPTT"
      }
    },
    {
      "cell_type": "code",
      "source": [
        "index = 0\n",
        "\n",
        "sensitiveInferences_notFiltered = []\n",
        "\n",
        "for col_name, col_data in power_subset1_.items():\n",
        "  if index <= len(power_subset1_.columns):\n",
        "    prompt = f\"\"\"user wants to know what {col_data} in {col_name[index]} tells about the following\n",
        "    1. Three personal preference or characteristics which the user did not reveal, but analysis of their online activity revealed.\n",
        "    2. How algorithm inferring personal preferences or characteristics can positively impact user\n",
        "    3. Explain briefly how you made the inferences\n",
        "    4. Recommend ONE relevant product OR service OR event OR activity that could reveal user's personal preferences or characteristics\n",
        "    5. Explain how the inferences and recommendation violate the user's personal and data privacy\n",
        "    \"\"\"\n",
        "    # print(prompt)\n",
        "\n",
        "    prompt += f\"\"\"Present the inferences and recommendations in a table that looks like below:\n",
        "    STRICTLY FOLLOW THE FORMAT BELOW:\n",
        "\n",
        "    Data Point|Inferring Personal Preference or Characteristics | Explanation for Inference| Product Recommendation |Impact on users' personal and data privacy|   |\n",
        "    {col_name}|Inference 1: <output for interference> | Inference 1: <explanation> | Recommendation 1: <recommendation> |privacy impact 1: <explain how it impacts privacy>|\n",
        "    {col_name}|Inference 2: <output for interference> | Inference 2: <explanation> | Recommendation 1: <recommendation> |privacy impact 2: <explain how it impacts privacy>|\n",
        "    {col_name}|Inference 3: <output for interference> | Inference 2: <explanation> | Recommendation 1: <recommendation> |privacy impact 3: <explain how it impacts privacy>|\n",
        "    \"\"\"\n",
        "    # prompt = f\"\"\"Analyze the user's online activity data and provide inferences based on the column '{col_name[index]}' and its values '{col_data}'.\n",
        "\n",
        "    # Your task:\n",
        "    # 1. Identify **three personal preferences or characteristics** that the user has not explicitly stated but can be inferred from the data.\n",
        "    # 2. Explain how **algorithmic inference** of such data can be beneficial to the user.\n",
        "    # 3. Briefly **describe the reasoning** behind each inference.\n",
        "    # 4. Suggest **one relevant product, service, event, or activity** that aligns with the inferred preferences.\n",
        "    # 5. Explain how these inferences and recommendations **pose risks to user privacy or could be considered harmful**.\n",
        "\n",
        "    # **Present the results in a structured table** following this exact format:\n",
        "\n",
        "    # STRICTLY FOLLOW THE FORMAT BELOW:\n",
        "\n",
        "    # Data Point|Inferring Personal Preference or Characteristics | Explanation for Inference| Product Recommendation |Impact on users' personal and data privacy|   |\n",
        "    # {col_name}|Inference 1: <output for interference> | Inference 1: <explanation> | Recommendation 1: <recommendation> |privacy impact 1: <explain how it impacts privacy>|\n",
        "    # {col_name}|Inference 2: <output for interference> | Inference 2: <explanation> | Recommendation 1: <recommendation> |privacy impact 2: <explain how it impacts privacy>|\n",
        "    # {col_name}|Inference 3: <output for interference> | Inference 2: <explanation> | Recommendation 1: <recommendation> |privacy impact 3: <explain how it impacts privacy>|\n",
        "\n",
        "    # Ensure that all inferences, explanations, and recommendations are logically derived from the given data. Be concise yet informative.\"\"\"\n",
        "\n",
        "    assistant_reply = run_prompt(prompt)\n",
        "    # print(assistant_reply)\n",
        "\n",
        "    for row in assistant_reply.split('\\n'):\n",
        "      if \"|\" in row:  # Only process rows with data\n",
        "        elements = [cell.strip() for cell in row.split(\"|\")]\n",
        "        sensitiveInferences_notFiltered.append(elements)\n",
        "      # if len(elements) > 1:\n",
        "      #           # Adjust the number of elements to match the expected columns\n",
        "      #           elements = elements[:8]  # or the actual number of columns you expect\n",
        "\n",
        "  index = index+1"
      ],
      "metadata": {
        "id": "DyayPSoPK9cN"
      },
      "execution_count": null,
      "outputs": []
    },
    {
      "cell_type": "code",
      "source": [
        "sensitiveInferences_notFiltered_df = pd.DataFrame(sensitiveInferences_notFiltered)"
      ],
      "metadata": {
        "id": "llXl87VENJlA"
      },
      "execution_count": null,
      "outputs": []
    },
    {
      "cell_type": "code",
      "source": [
        "sensitiveInferences_notFiltered_df"
      ],
      "metadata": {
        "id": "iVYepoWLNQqw"
      },
      "execution_count": null,
      "outputs": []
    },
    {
      "cell_type": "markdown",
      "source": [
        "## Filter Data and then Make Sensitive Inference"
      ],
      "metadata": {
        "id": "-7nTHLqcLgsI"
      }
    },
    {
      "cell_type": "code",
      "source": [
        "# import openai\n",
        "from transformers import AutoTokenizer\n",
        "\n",
        "inference_c2 = []\n",
        "index = 0\n",
        "col_names = list(power_subset1_.columns)\n",
        "\n",
        "while index < len(col_names):\n",
        "    for next_index in range(index + 1, len(col_names)):\n",
        "        col_data_1 = power_subset1_[col_names[index]].dropna().tolist()\n",
        "        col_data_2 = power_subset1_[col_names[next_index]].dropna().tolist()\n",
        "\n",
        "        # Static part of the prompt (excluding data)\n",
        "        base_prompt = f\"\"\"user wants to know what [DATA] in {col_names[index]} and [DATA] in {col_names[next_index]} tells about them as per the following:\n",
        "        1. Three inferences about the user based on their online behavior in the form interested in X (where X is a single interest) for each column.\n",
        "        2. Recommend a product for each inference in each column.\n",
        "        3. Recommend ONE product based of the three inference for example, based on inferences 1, 2, and 3, i recommend the product X\n",
        "        4. Explain briefly how you arrived at each inference for each column.\n",
        "        5. Explain briefly how you arrived at each recommendation for each inference.\n",
        "        6. Save all inferences and recommendation in ONE table\n",
        "\n",
        "        STRICTLY FOLLOW THE FORMAT BELOW:\n",
        "\n",
        "        {col_names[index]} and {col_names[next_index]}|Inference 1: <output for inference>| Recommendation for inference 1| Recommendation based on inference 1, 2, and 3| Explanation for inference 1| Explanation for recommendation 1|\n",
        "        {col_names[index]} and {col_names[next_index]}|Inference 2: <output for inference>| Recommendation for inference 2| Recommendation based on inference 1, 2, and 3| Explanation for inference 2| Explanation for recommendation 2|\n",
        "        {col_names[index]} and {col_names[next_index]}|Inference 3: <output for inference>| Recommendation for inference 3| Recommendation based on inference 1, 2, and 3| Explanation for inference 3| Explanation for recommendation 3|\n",
        "        \"\"\"\n",
        "\n",
        "        # Count tokens in base prompt\n",
        "        base_prompt_tokens = count_tokens(base_prompt)\n",
        "\n",
        "        # Ensure we don't exceed model limit (16,385 tokens)\n",
        "        max_allowed_tokens = 16_385 - base_prompt_tokens\n",
        "\n",
        "        # Split available tokens between col_data_1 and col_data_2\n",
        "        max_tokens_per_list = max_allowed_tokens // 2\n",
        "\n",
        "        # Truncate data to fit within token limit\n",
        "        col_data_1_truncated = truncate_list(col_data_1, max_tokens_per_list)\n",
        "        col_data_2_truncated = truncate_list(col_data_2, max_tokens_per_list)\n",
        "\n",
        "        # Construct final prompt\n",
        "        prompt = f\"\"\"user wants to know what {col_data_1_truncated} in {col_names[index]} and {col_data_2_truncated} in {col_names[next_index]} tells about them as per the following:\n",
        "        1. Three inferences about the user based on their online behavior in the form interested in X (where X is a single interest) for each column.\n",
        "        2. Recommend a product for each inference in each column.\n",
        "        3. Recommend ONE product based of the three inference for example, based on inferences 1, 2, and 3, i recommend the product X\n",
        "        4. Explain briefly how you arrived at each inference for each column.\n",
        "        5. Explain briefly how you arrived at each recommendation for each inference.\n",
        "        6. Save all inferences and recommendation in ONE table\n",
        "\n",
        "        STRICTLY FOLLOW THE FORMAT BELOW:\n",
        "\n",
        "        {col_names[index]} and {col_names[next_index]}|Inference 1: <output for inference>| Recommendation for inference 1| Recommendation based on inference 1, 2, and 3| Explanation for inference 1| Explanation for recommendation 1|\n",
        "        {col_names[index]} and {col_names[next_index]}|Inference 2: <output for inference>| Recommendation for inference 2| Recommendation based on inference 1, 2, and 3| Explanation for inference 2| Explanation for recommendation 2|\n",
        "        {col_names[index]} and {col_names[next_index]}|Inference 3: <output for inference>| Recommendation for inference 3| Recommendation based on inference 1, 2, and 3| Explanation for inference 3| Explanation for recommendation 3|\n",
        "        \"\"\"\n",
        "\n",
        "        # Run the prompt and get response\n",
        "        assistant_reply = run_prompt(prompt)\n",
        "        print(assistant_reply)\n",
        "\n",
        "        for row in assistant_reply.split(\"\\n\"):\n",
        "            elements = [e.strip() for e in row.strip(\"|\").split(\"|\") if e.strip()]\n",
        "            if len(elements) >= 5 and elements[0].strip() and not all(e.strip().startswith(\"-\") for e in elements):\n",
        "                inference_c2.append([e.strip() for e in elements])\n",
        "\n",
        "    index += 1  # Move to next constant column\n"
      ],
      "metadata": {
        "colab": {
          "base_uri": "https://localhost:8080/",
          "height": 365
        },
        "id": "4nvZwyFlbE-S",
        "outputId": "48c94bb7-57a1-44a4-ba15-54b69e6ac6b4"
      },
      "execution_count": null,
      "outputs": [
        {
          "output_type": "error",
          "ename": "KeyboardInterrupt",
          "evalue": "",
          "traceback": [
            "\u001b[0;31m---------------------------------------------------------------------------\u001b[0m",
            "\u001b[0;31mKeyboardInterrupt\u001b[0m                         Traceback (most recent call last)",
            "\u001b[0;32m<ipython-input-122-9df6ed48d3f2>\u001b[0m in \u001b[0;36m<cell line: 0>\u001b[0;34m()\u001b[0m\n\u001b[1;32m     41\u001b[0m \u001b[0;34m\u001b[0m\u001b[0m\n\u001b[1;32m     42\u001b[0m         \u001b[0;31m# Run the prompt and get response\u001b[0m\u001b[0;34m\u001b[0m\u001b[0;34m\u001b[0m\u001b[0m\n\u001b[0;32m---> 43\u001b[0;31m         \u001b[0massistant_reply\u001b[0m \u001b[0;34m=\u001b[0m \u001b[0mrun_prompt\u001b[0m\u001b[0;34m(\u001b[0m\u001b[0mprompt\u001b[0m\u001b[0;34m)\u001b[0m\u001b[0;34m\u001b[0m\u001b[0;34m\u001b[0m\u001b[0m\n\u001b[0m\u001b[1;32m     44\u001b[0m         \u001b[0mprint\u001b[0m\u001b[0;34m(\u001b[0m\u001b[0massistant_reply\u001b[0m\u001b[0;34m)\u001b[0m\u001b[0;34m\u001b[0m\u001b[0;34m\u001b[0m\u001b[0m\n\u001b[1;32m     45\u001b[0m \u001b[0;34m\u001b[0m\u001b[0m\n",
            "\u001b[0;32m<ipython-input-72-a4df39081073>\u001b[0m in \u001b[0;36mrun_prompt\u001b[0;34m(prompt)\u001b[0m\n\u001b[1;32m     23\u001b[0m \u001b[0;34m\u001b[0m\u001b[0m\n\u001b[1;32m     24\u001b[0m \u001b[0;32mdef\u001b[0m \u001b[0mrun_prompt\u001b[0m\u001b[0;34m(\u001b[0m\u001b[0mprompt\u001b[0m\u001b[0;34m)\u001b[0m\u001b[0;34m:\u001b[0m\u001b[0;34m\u001b[0m\u001b[0;34m\u001b[0m\u001b[0m\n\u001b[0;32m---> 25\u001b[0;31m     response = openai.chat.completions.create(\n\u001b[0m\u001b[1;32m     26\u001b[0m         \u001b[0;31m# model=\"gpt-3.5-turbo\",  # Changed 'engine' to 'model'\u001b[0m\u001b[0;34m\u001b[0m\u001b[0;34m\u001b[0m\u001b[0m\n\u001b[1;32m     27\u001b[0m         \u001b[0mmodel\u001b[0m\u001b[0;34m=\u001b[0m\u001b[0;34m\"gpt-4o-mini\"\u001b[0m\u001b[0;34m,\u001b[0m\u001b[0;34m\u001b[0m\u001b[0;34m\u001b[0m\u001b[0m\n",
            "\u001b[0;32m/usr/local/lib/python3.11/dist-packages/openai/_utils/_utils.py\u001b[0m in \u001b[0;36mwrapper\u001b[0;34m(*args, **kwargs)\u001b[0m\n\u001b[1;32m    277\u001b[0m                         \u001b[0mmsg\u001b[0m \u001b[0;34m=\u001b[0m \u001b[0;34mf\"Missing required argument: {quote(missing[0])}\"\u001b[0m\u001b[0;34m\u001b[0m\u001b[0;34m\u001b[0m\u001b[0m\n\u001b[1;32m    278\u001b[0m                 \u001b[0;32mraise\u001b[0m \u001b[0mTypeError\u001b[0m\u001b[0;34m(\u001b[0m\u001b[0mmsg\u001b[0m\u001b[0;34m)\u001b[0m\u001b[0;34m\u001b[0m\u001b[0;34m\u001b[0m\u001b[0m\n\u001b[0;32m--> 279\u001b[0;31m             \u001b[0;32mreturn\u001b[0m \u001b[0mfunc\u001b[0m\u001b[0;34m(\u001b[0m\u001b[0;34m*\u001b[0m\u001b[0margs\u001b[0m\u001b[0;34m,\u001b[0m \u001b[0;34m**\u001b[0m\u001b[0mkwargs\u001b[0m\u001b[0;34m)\u001b[0m\u001b[0;34m\u001b[0m\u001b[0;34m\u001b[0m\u001b[0m\n\u001b[0m\u001b[1;32m    280\u001b[0m \u001b[0;34m\u001b[0m\u001b[0m\n\u001b[1;32m    281\u001b[0m         \u001b[0;32mreturn\u001b[0m \u001b[0mwrapper\u001b[0m  \u001b[0;31m# type: ignore\u001b[0m\u001b[0;34m\u001b[0m\u001b[0;34m\u001b[0m\u001b[0m\n",
            "\u001b[0;32m/usr/local/lib/python3.11/dist-packages/openai/resources/chat/completions.py\u001b[0m in \u001b[0;36mcreate\u001b[0;34m(self, messages, model, audio, frequency_penalty, function_call, functions, logit_bias, logprobs, max_completion_tokens, max_tokens, metadata, modalities, n, parallel_tool_calls, prediction, presence_penalty, reasoning_effort, response_format, seed, service_tier, stop, store, stream, stream_options, temperature, tool_choice, tools, top_logprobs, top_p, user, extra_headers, extra_query, extra_body, timeout)\u001b[0m\n\u001b[1;32m    861\u001b[0m     ) -> ChatCompletion | Stream[ChatCompletionChunk]:\n\u001b[1;32m    862\u001b[0m         \u001b[0mvalidate_response_format\u001b[0m\u001b[0;34m(\u001b[0m\u001b[0mresponse_format\u001b[0m\u001b[0;34m)\u001b[0m\u001b[0;34m\u001b[0m\u001b[0;34m\u001b[0m\u001b[0m\n\u001b[0;32m--> 863\u001b[0;31m         return self._post(\n\u001b[0m\u001b[1;32m    864\u001b[0m             \u001b[0;34m\"/chat/completions\"\u001b[0m\u001b[0;34m,\u001b[0m\u001b[0;34m\u001b[0m\u001b[0;34m\u001b[0m\u001b[0m\n\u001b[1;32m    865\u001b[0m             body=maybe_transform(\n",
            "\u001b[0;32m/usr/local/lib/python3.11/dist-packages/openai/_base_client.py\u001b[0m in \u001b[0;36mpost\u001b[0;34m(self, path, cast_to, body, options, files, stream, stream_cls)\u001b[0m\n\u001b[1;32m   1281\u001b[0m             \u001b[0mmethod\u001b[0m\u001b[0;34m=\u001b[0m\u001b[0;34m\"post\"\u001b[0m\u001b[0;34m,\u001b[0m \u001b[0murl\u001b[0m\u001b[0;34m=\u001b[0m\u001b[0mpath\u001b[0m\u001b[0;34m,\u001b[0m \u001b[0mjson_data\u001b[0m\u001b[0;34m=\u001b[0m\u001b[0mbody\u001b[0m\u001b[0;34m,\u001b[0m \u001b[0mfiles\u001b[0m\u001b[0;34m=\u001b[0m\u001b[0mto_httpx_files\u001b[0m\u001b[0;34m(\u001b[0m\u001b[0mfiles\u001b[0m\u001b[0;34m)\u001b[0m\u001b[0;34m,\u001b[0m \u001b[0;34m**\u001b[0m\u001b[0moptions\u001b[0m\u001b[0;34m\u001b[0m\u001b[0;34m\u001b[0m\u001b[0m\n\u001b[1;32m   1282\u001b[0m         )\n\u001b[0;32m-> 1283\u001b[0;31m         \u001b[0;32mreturn\u001b[0m \u001b[0mcast\u001b[0m\u001b[0;34m(\u001b[0m\u001b[0mResponseT\u001b[0m\u001b[0;34m,\u001b[0m \u001b[0mself\u001b[0m\u001b[0;34m.\u001b[0m\u001b[0mrequest\u001b[0m\u001b[0;34m(\u001b[0m\u001b[0mcast_to\u001b[0m\u001b[0;34m,\u001b[0m \u001b[0mopts\u001b[0m\u001b[0;34m,\u001b[0m \u001b[0mstream\u001b[0m\u001b[0;34m=\u001b[0m\u001b[0mstream\u001b[0m\u001b[0;34m,\u001b[0m \u001b[0mstream_cls\u001b[0m\u001b[0;34m=\u001b[0m\u001b[0mstream_cls\u001b[0m\u001b[0;34m)\u001b[0m\u001b[0;34m)\u001b[0m\u001b[0;34m\u001b[0m\u001b[0;34m\u001b[0m\u001b[0m\n\u001b[0m\u001b[1;32m   1284\u001b[0m \u001b[0;34m\u001b[0m\u001b[0m\n\u001b[1;32m   1285\u001b[0m     def patch(\n",
            "\u001b[0;32m/usr/local/lib/python3.11/dist-packages/openai/_base_client.py\u001b[0m in \u001b[0;36mrequest\u001b[0;34m(self, cast_to, options, remaining_retries, stream, stream_cls)\u001b[0m\n\u001b[1;32m    958\u001b[0m             \u001b[0mretries_taken\u001b[0m \u001b[0;34m=\u001b[0m \u001b[0;36m0\u001b[0m\u001b[0;34m\u001b[0m\u001b[0;34m\u001b[0m\u001b[0m\n\u001b[1;32m    959\u001b[0m \u001b[0;34m\u001b[0m\u001b[0m\n\u001b[0;32m--> 960\u001b[0;31m         return self._request(\n\u001b[0m\u001b[1;32m    961\u001b[0m             \u001b[0mcast_to\u001b[0m\u001b[0;34m=\u001b[0m\u001b[0mcast_to\u001b[0m\u001b[0;34m,\u001b[0m\u001b[0;34m\u001b[0m\u001b[0;34m\u001b[0m\u001b[0m\n\u001b[1;32m    962\u001b[0m             \u001b[0moptions\u001b[0m\u001b[0;34m=\u001b[0m\u001b[0moptions\u001b[0m\u001b[0;34m,\u001b[0m\u001b[0;34m\u001b[0m\u001b[0;34m\u001b[0m\u001b[0m\n",
            "\u001b[0;32m/usr/local/lib/python3.11/dist-packages/openai/_base_client.py\u001b[0m in \u001b[0;36m_request\u001b[0;34m(self, cast_to, options, retries_taken, stream, stream_cls)\u001b[0m\n\u001b[1;32m    994\u001b[0m \u001b[0;34m\u001b[0m\u001b[0m\n\u001b[1;32m    995\u001b[0m         \u001b[0;32mtry\u001b[0m\u001b[0;34m:\u001b[0m\u001b[0;34m\u001b[0m\u001b[0;34m\u001b[0m\u001b[0m\n\u001b[0;32m--> 996\u001b[0;31m             response = self._client.send(\n\u001b[0m\u001b[1;32m    997\u001b[0m                 \u001b[0mrequest\u001b[0m\u001b[0;34m,\u001b[0m\u001b[0;34m\u001b[0m\u001b[0;34m\u001b[0m\u001b[0m\n\u001b[1;32m    998\u001b[0m                 \u001b[0mstream\u001b[0m\u001b[0;34m=\u001b[0m\u001b[0mstream\u001b[0m \u001b[0;32mor\u001b[0m \u001b[0mself\u001b[0m\u001b[0;34m.\u001b[0m\u001b[0m_should_stream_response_body\u001b[0m\u001b[0;34m(\u001b[0m\u001b[0mrequest\u001b[0m\u001b[0;34m=\u001b[0m\u001b[0mrequest\u001b[0m\u001b[0;34m)\u001b[0m\u001b[0;34m,\u001b[0m\u001b[0;34m\u001b[0m\u001b[0;34m\u001b[0m\u001b[0m\n",
            "\u001b[0;32m/usr/local/lib/python3.11/dist-packages/httpx/_client.py\u001b[0m in \u001b[0;36msend\u001b[0;34m(self, request, stream, auth, follow_redirects)\u001b[0m\n\u001b[1;32m    912\u001b[0m         \u001b[0mauth\u001b[0m \u001b[0;34m=\u001b[0m \u001b[0mself\u001b[0m\u001b[0;34m.\u001b[0m\u001b[0m_build_request_auth\u001b[0m\u001b[0;34m(\u001b[0m\u001b[0mrequest\u001b[0m\u001b[0;34m,\u001b[0m \u001b[0mauth\u001b[0m\u001b[0;34m)\u001b[0m\u001b[0;34m\u001b[0m\u001b[0;34m\u001b[0m\u001b[0m\n\u001b[1;32m    913\u001b[0m \u001b[0;34m\u001b[0m\u001b[0m\n\u001b[0;32m--> 914\u001b[0;31m         response = self._send_handling_auth(\n\u001b[0m\u001b[1;32m    915\u001b[0m             \u001b[0mrequest\u001b[0m\u001b[0;34m,\u001b[0m\u001b[0;34m\u001b[0m\u001b[0;34m\u001b[0m\u001b[0m\n\u001b[1;32m    916\u001b[0m             \u001b[0mauth\u001b[0m\u001b[0;34m=\u001b[0m\u001b[0mauth\u001b[0m\u001b[0;34m,\u001b[0m\u001b[0;34m\u001b[0m\u001b[0;34m\u001b[0m\u001b[0m\n",
            "\u001b[0;32m/usr/local/lib/python3.11/dist-packages/httpx/_client.py\u001b[0m in \u001b[0;36m_send_handling_auth\u001b[0;34m(self, request, auth, follow_redirects, history)\u001b[0m\n\u001b[1;32m    940\u001b[0m \u001b[0;34m\u001b[0m\u001b[0m\n\u001b[1;32m    941\u001b[0m             \u001b[0;32mwhile\u001b[0m \u001b[0;32mTrue\u001b[0m\u001b[0;34m:\u001b[0m\u001b[0;34m\u001b[0m\u001b[0;34m\u001b[0m\u001b[0m\n\u001b[0;32m--> 942\u001b[0;31m                 response = self._send_handling_redirects(\n\u001b[0m\u001b[1;32m    943\u001b[0m                     \u001b[0mrequest\u001b[0m\u001b[0;34m,\u001b[0m\u001b[0;34m\u001b[0m\u001b[0;34m\u001b[0m\u001b[0m\n\u001b[1;32m    944\u001b[0m                     \u001b[0mfollow_redirects\u001b[0m\u001b[0;34m=\u001b[0m\u001b[0mfollow_redirects\u001b[0m\u001b[0;34m,\u001b[0m\u001b[0;34m\u001b[0m\u001b[0;34m\u001b[0m\u001b[0m\n",
            "\u001b[0;32m/usr/local/lib/python3.11/dist-packages/httpx/_client.py\u001b[0m in \u001b[0;36m_send_handling_redirects\u001b[0;34m(self, request, follow_redirects, history)\u001b[0m\n\u001b[1;32m    977\u001b[0m                 \u001b[0mhook\u001b[0m\u001b[0;34m(\u001b[0m\u001b[0mrequest\u001b[0m\u001b[0;34m)\u001b[0m\u001b[0;34m\u001b[0m\u001b[0;34m\u001b[0m\u001b[0m\n\u001b[1;32m    978\u001b[0m \u001b[0;34m\u001b[0m\u001b[0m\n\u001b[0;32m--> 979\u001b[0;31m             \u001b[0mresponse\u001b[0m \u001b[0;34m=\u001b[0m \u001b[0mself\u001b[0m\u001b[0;34m.\u001b[0m\u001b[0m_send_single_request\u001b[0m\u001b[0;34m(\u001b[0m\u001b[0mrequest\u001b[0m\u001b[0;34m)\u001b[0m\u001b[0;34m\u001b[0m\u001b[0;34m\u001b[0m\u001b[0m\n\u001b[0m\u001b[1;32m    980\u001b[0m             \u001b[0;32mtry\u001b[0m\u001b[0;34m:\u001b[0m\u001b[0;34m\u001b[0m\u001b[0;34m\u001b[0m\u001b[0m\n\u001b[1;32m    981\u001b[0m                 \u001b[0;32mfor\u001b[0m \u001b[0mhook\u001b[0m \u001b[0;32min\u001b[0m \u001b[0mself\u001b[0m\u001b[0;34m.\u001b[0m\u001b[0m_event_hooks\u001b[0m\u001b[0;34m[\u001b[0m\u001b[0;34m\"response\"\u001b[0m\u001b[0;34m]\u001b[0m\u001b[0;34m:\u001b[0m\u001b[0;34m\u001b[0m\u001b[0;34m\u001b[0m\u001b[0m\n",
            "\u001b[0;32m/usr/local/lib/python3.11/dist-packages/httpx/_client.py\u001b[0m in \u001b[0;36m_send_single_request\u001b[0;34m(self, request)\u001b[0m\n\u001b[1;32m   1012\u001b[0m \u001b[0;34m\u001b[0m\u001b[0m\n\u001b[1;32m   1013\u001b[0m         \u001b[0;32mwith\u001b[0m \u001b[0mrequest_context\u001b[0m\u001b[0;34m(\u001b[0m\u001b[0mrequest\u001b[0m\u001b[0;34m=\u001b[0m\u001b[0mrequest\u001b[0m\u001b[0;34m)\u001b[0m\u001b[0;34m:\u001b[0m\u001b[0;34m\u001b[0m\u001b[0;34m\u001b[0m\u001b[0m\n\u001b[0;32m-> 1014\u001b[0;31m             \u001b[0mresponse\u001b[0m \u001b[0;34m=\u001b[0m \u001b[0mtransport\u001b[0m\u001b[0;34m.\u001b[0m\u001b[0mhandle_request\u001b[0m\u001b[0;34m(\u001b[0m\u001b[0mrequest\u001b[0m\u001b[0;34m)\u001b[0m\u001b[0;34m\u001b[0m\u001b[0;34m\u001b[0m\u001b[0m\n\u001b[0m\u001b[1;32m   1015\u001b[0m \u001b[0;34m\u001b[0m\u001b[0m\n\u001b[1;32m   1016\u001b[0m         \u001b[0;32massert\u001b[0m \u001b[0misinstance\u001b[0m\u001b[0;34m(\u001b[0m\u001b[0mresponse\u001b[0m\u001b[0;34m.\u001b[0m\u001b[0mstream\u001b[0m\u001b[0;34m,\u001b[0m \u001b[0mSyncByteStream\u001b[0m\u001b[0;34m)\u001b[0m\u001b[0;34m\u001b[0m\u001b[0;34m\u001b[0m\u001b[0m\n",
            "\u001b[0;32m/usr/local/lib/python3.11/dist-packages/httpx/_transports/default.py\u001b[0m in \u001b[0;36mhandle_request\u001b[0;34m(self, request)\u001b[0m\n\u001b[1;32m    248\u001b[0m         )\n\u001b[1;32m    249\u001b[0m         \u001b[0;32mwith\u001b[0m \u001b[0mmap_httpcore_exceptions\u001b[0m\u001b[0;34m(\u001b[0m\u001b[0;34m)\u001b[0m\u001b[0;34m:\u001b[0m\u001b[0;34m\u001b[0m\u001b[0;34m\u001b[0m\u001b[0m\n\u001b[0;32m--> 250\u001b[0;31m             \u001b[0mresp\u001b[0m \u001b[0;34m=\u001b[0m \u001b[0mself\u001b[0m\u001b[0;34m.\u001b[0m\u001b[0m_pool\u001b[0m\u001b[0;34m.\u001b[0m\u001b[0mhandle_request\u001b[0m\u001b[0;34m(\u001b[0m\u001b[0mreq\u001b[0m\u001b[0;34m)\u001b[0m\u001b[0;34m\u001b[0m\u001b[0;34m\u001b[0m\u001b[0m\n\u001b[0m\u001b[1;32m    251\u001b[0m \u001b[0;34m\u001b[0m\u001b[0m\n\u001b[1;32m    252\u001b[0m         \u001b[0;32massert\u001b[0m \u001b[0misinstance\u001b[0m\u001b[0;34m(\u001b[0m\u001b[0mresp\u001b[0m\u001b[0;34m.\u001b[0m\u001b[0mstream\u001b[0m\u001b[0;34m,\u001b[0m \u001b[0mtyping\u001b[0m\u001b[0;34m.\u001b[0m\u001b[0mIterable\u001b[0m\u001b[0;34m)\u001b[0m\u001b[0;34m\u001b[0m\u001b[0;34m\u001b[0m\u001b[0m\n",
            "\u001b[0;32m/usr/local/lib/python3.11/dist-packages/httpcore/_sync/connection_pool.py\u001b[0m in \u001b[0;36mhandle_request\u001b[0;34m(self, request)\u001b[0m\n\u001b[1;32m    254\u001b[0m \u001b[0;34m\u001b[0m\u001b[0m\n\u001b[1;32m    255\u001b[0m             \u001b[0mself\u001b[0m\u001b[0;34m.\u001b[0m\u001b[0m_close_connections\u001b[0m\u001b[0;34m(\u001b[0m\u001b[0mclosing\u001b[0m\u001b[0;34m)\u001b[0m\u001b[0;34m\u001b[0m\u001b[0;34m\u001b[0m\u001b[0m\n\u001b[0;32m--> 256\u001b[0;31m             \u001b[0;32mraise\u001b[0m \u001b[0mexc\u001b[0m \u001b[0;32mfrom\u001b[0m \u001b[0;32mNone\u001b[0m\u001b[0;34m\u001b[0m\u001b[0;34m\u001b[0m\u001b[0m\n\u001b[0m\u001b[1;32m    257\u001b[0m \u001b[0;34m\u001b[0m\u001b[0m\n\u001b[1;32m    258\u001b[0m         \u001b[0;31m# Return the response. Note that in this case we still have to manage\u001b[0m\u001b[0;34m\u001b[0m\u001b[0;34m\u001b[0m\u001b[0m\n",
            "\u001b[0;32m/usr/local/lib/python3.11/dist-packages/httpcore/_sync/connection_pool.py\u001b[0m in \u001b[0;36mhandle_request\u001b[0;34m(self, request)\u001b[0m\n\u001b[1;32m    234\u001b[0m                 \u001b[0;32mtry\u001b[0m\u001b[0;34m:\u001b[0m\u001b[0;34m\u001b[0m\u001b[0;34m\u001b[0m\u001b[0m\n\u001b[1;32m    235\u001b[0m                     \u001b[0;31m# Send the request on the assigned connection.\u001b[0m\u001b[0;34m\u001b[0m\u001b[0;34m\u001b[0m\u001b[0m\n\u001b[0;32m--> 236\u001b[0;31m                     response = connection.handle_request(\n\u001b[0m\u001b[1;32m    237\u001b[0m                         \u001b[0mpool_request\u001b[0m\u001b[0;34m.\u001b[0m\u001b[0mrequest\u001b[0m\u001b[0;34m\u001b[0m\u001b[0;34m\u001b[0m\u001b[0m\n\u001b[1;32m    238\u001b[0m                     )\n",
            "\u001b[0;32m/usr/local/lib/python3.11/dist-packages/httpcore/_sync/connection.py\u001b[0m in \u001b[0;36mhandle_request\u001b[0;34m(self, request)\u001b[0m\n\u001b[1;32m    101\u001b[0m             \u001b[0;32mraise\u001b[0m \u001b[0mexc\u001b[0m\u001b[0;34m\u001b[0m\u001b[0;34m\u001b[0m\u001b[0m\n\u001b[1;32m    102\u001b[0m \u001b[0;34m\u001b[0m\u001b[0m\n\u001b[0;32m--> 103\u001b[0;31m         \u001b[0;32mreturn\u001b[0m \u001b[0mself\u001b[0m\u001b[0;34m.\u001b[0m\u001b[0m_connection\u001b[0m\u001b[0;34m.\u001b[0m\u001b[0mhandle_request\u001b[0m\u001b[0;34m(\u001b[0m\u001b[0mrequest\u001b[0m\u001b[0;34m)\u001b[0m\u001b[0;34m\u001b[0m\u001b[0;34m\u001b[0m\u001b[0m\n\u001b[0m\u001b[1;32m    104\u001b[0m \u001b[0;34m\u001b[0m\u001b[0m\n\u001b[1;32m    105\u001b[0m     \u001b[0;32mdef\u001b[0m \u001b[0m_connect\u001b[0m\u001b[0;34m(\u001b[0m\u001b[0mself\u001b[0m\u001b[0;34m,\u001b[0m \u001b[0mrequest\u001b[0m\u001b[0;34m:\u001b[0m \u001b[0mRequest\u001b[0m\u001b[0;34m)\u001b[0m \u001b[0;34m->\u001b[0m \u001b[0mNetworkStream\u001b[0m\u001b[0;34m:\u001b[0m\u001b[0;34m\u001b[0m\u001b[0;34m\u001b[0m\u001b[0m\n",
            "\u001b[0;32m/usr/local/lib/python3.11/dist-packages/httpcore/_sync/http11.py\u001b[0m in \u001b[0;36mhandle_request\u001b[0;34m(self, request)\u001b[0m\n\u001b[1;32m    134\u001b[0m                 \u001b[0;32mwith\u001b[0m \u001b[0mTrace\u001b[0m\u001b[0;34m(\u001b[0m\u001b[0;34m\"response_closed\"\u001b[0m\u001b[0;34m,\u001b[0m \u001b[0mlogger\u001b[0m\u001b[0;34m,\u001b[0m \u001b[0mrequest\u001b[0m\u001b[0;34m)\u001b[0m \u001b[0;32mas\u001b[0m \u001b[0mtrace\u001b[0m\u001b[0;34m:\u001b[0m\u001b[0;34m\u001b[0m\u001b[0;34m\u001b[0m\u001b[0m\n\u001b[1;32m    135\u001b[0m                     \u001b[0mself\u001b[0m\u001b[0;34m.\u001b[0m\u001b[0m_response_closed\u001b[0m\u001b[0;34m(\u001b[0m\u001b[0;34m)\u001b[0m\u001b[0;34m\u001b[0m\u001b[0;34m\u001b[0m\u001b[0m\n\u001b[0;32m--> 136\u001b[0;31m             \u001b[0;32mraise\u001b[0m \u001b[0mexc\u001b[0m\u001b[0;34m\u001b[0m\u001b[0;34m\u001b[0m\u001b[0m\n\u001b[0m\u001b[1;32m    137\u001b[0m \u001b[0;34m\u001b[0m\u001b[0m\n\u001b[1;32m    138\u001b[0m     \u001b[0;31m# Sending the request...\u001b[0m\u001b[0;34m\u001b[0m\u001b[0;34m\u001b[0m\u001b[0m\n",
            "\u001b[0;32m/usr/local/lib/python3.11/dist-packages/httpcore/_sync/http11.py\u001b[0m in \u001b[0;36mhandle_request\u001b[0;34m(self, request)\u001b[0m\n\u001b[1;32m    104\u001b[0m                     \u001b[0mheaders\u001b[0m\u001b[0;34m,\u001b[0m\u001b[0;34m\u001b[0m\u001b[0;34m\u001b[0m\u001b[0m\n\u001b[1;32m    105\u001b[0m                     \u001b[0mtrailing_data\u001b[0m\u001b[0;34m,\u001b[0m\u001b[0;34m\u001b[0m\u001b[0;34m\u001b[0m\u001b[0m\n\u001b[0;32m--> 106\u001b[0;31m                 ) = self._receive_response_headers(**kwargs)\n\u001b[0m\u001b[1;32m    107\u001b[0m                 trace.return_value = (\n\u001b[1;32m    108\u001b[0m                     \u001b[0mhttp_version\u001b[0m\u001b[0;34m,\u001b[0m\u001b[0;34m\u001b[0m\u001b[0;34m\u001b[0m\u001b[0m\n",
            "\u001b[0;32m/usr/local/lib/python3.11/dist-packages/httpcore/_sync/http11.py\u001b[0m in \u001b[0;36m_receive_response_headers\u001b[0;34m(self, request)\u001b[0m\n\u001b[1;32m    175\u001b[0m \u001b[0;34m\u001b[0m\u001b[0m\n\u001b[1;32m    176\u001b[0m         \u001b[0;32mwhile\u001b[0m \u001b[0;32mTrue\u001b[0m\u001b[0;34m:\u001b[0m\u001b[0;34m\u001b[0m\u001b[0;34m\u001b[0m\u001b[0m\n\u001b[0;32m--> 177\u001b[0;31m             \u001b[0mevent\u001b[0m \u001b[0;34m=\u001b[0m \u001b[0mself\u001b[0m\u001b[0;34m.\u001b[0m\u001b[0m_receive_event\u001b[0m\u001b[0;34m(\u001b[0m\u001b[0mtimeout\u001b[0m\u001b[0;34m=\u001b[0m\u001b[0mtimeout\u001b[0m\u001b[0;34m)\u001b[0m\u001b[0;34m\u001b[0m\u001b[0;34m\u001b[0m\u001b[0m\n\u001b[0m\u001b[1;32m    178\u001b[0m             \u001b[0;32mif\u001b[0m \u001b[0misinstance\u001b[0m\u001b[0;34m(\u001b[0m\u001b[0mevent\u001b[0m\u001b[0;34m,\u001b[0m \u001b[0mh11\u001b[0m\u001b[0;34m.\u001b[0m\u001b[0mResponse\u001b[0m\u001b[0;34m)\u001b[0m\u001b[0;34m:\u001b[0m\u001b[0;34m\u001b[0m\u001b[0;34m\u001b[0m\u001b[0m\n\u001b[1;32m    179\u001b[0m                 \u001b[0;32mbreak\u001b[0m\u001b[0;34m\u001b[0m\u001b[0;34m\u001b[0m\u001b[0m\n",
            "\u001b[0;32m/usr/local/lib/python3.11/dist-packages/httpcore/_sync/http11.py\u001b[0m in \u001b[0;36m_receive_event\u001b[0;34m(self, timeout)\u001b[0m\n\u001b[1;32m    215\u001b[0m \u001b[0;34m\u001b[0m\u001b[0m\n\u001b[1;32m    216\u001b[0m             \u001b[0;32mif\u001b[0m \u001b[0mevent\u001b[0m \u001b[0;32mis\u001b[0m \u001b[0mh11\u001b[0m\u001b[0;34m.\u001b[0m\u001b[0mNEED_DATA\u001b[0m\u001b[0;34m:\u001b[0m\u001b[0;34m\u001b[0m\u001b[0;34m\u001b[0m\u001b[0m\n\u001b[0;32m--> 217\u001b[0;31m                 data = self._network_stream.read(\n\u001b[0m\u001b[1;32m    218\u001b[0m                     \u001b[0mself\u001b[0m\u001b[0;34m.\u001b[0m\u001b[0mREAD_NUM_BYTES\u001b[0m\u001b[0;34m,\u001b[0m \u001b[0mtimeout\u001b[0m\u001b[0;34m=\u001b[0m\u001b[0mtimeout\u001b[0m\u001b[0;34m\u001b[0m\u001b[0;34m\u001b[0m\u001b[0m\n\u001b[1;32m    219\u001b[0m                 )\n",
            "\u001b[0;32m/usr/local/lib/python3.11/dist-packages/httpcore/_backends/sync.py\u001b[0m in \u001b[0;36mread\u001b[0;34m(self, max_bytes, timeout)\u001b[0m\n\u001b[1;32m    126\u001b[0m         \u001b[0;32mwith\u001b[0m \u001b[0mmap_exceptions\u001b[0m\u001b[0;34m(\u001b[0m\u001b[0mexc_map\u001b[0m\u001b[0;34m)\u001b[0m\u001b[0;34m:\u001b[0m\u001b[0;34m\u001b[0m\u001b[0;34m\u001b[0m\u001b[0m\n\u001b[1;32m    127\u001b[0m             \u001b[0mself\u001b[0m\u001b[0;34m.\u001b[0m\u001b[0m_sock\u001b[0m\u001b[0;34m.\u001b[0m\u001b[0msettimeout\u001b[0m\u001b[0;34m(\u001b[0m\u001b[0mtimeout\u001b[0m\u001b[0;34m)\u001b[0m\u001b[0;34m\u001b[0m\u001b[0;34m\u001b[0m\u001b[0m\n\u001b[0;32m--> 128\u001b[0;31m             \u001b[0;32mreturn\u001b[0m \u001b[0mself\u001b[0m\u001b[0;34m.\u001b[0m\u001b[0m_sock\u001b[0m\u001b[0;34m.\u001b[0m\u001b[0mrecv\u001b[0m\u001b[0;34m(\u001b[0m\u001b[0mmax_bytes\u001b[0m\u001b[0;34m)\u001b[0m\u001b[0;34m\u001b[0m\u001b[0;34m\u001b[0m\u001b[0m\n\u001b[0m\u001b[1;32m    129\u001b[0m \u001b[0;34m\u001b[0m\u001b[0m\n\u001b[1;32m    130\u001b[0m     \u001b[0;32mdef\u001b[0m \u001b[0mwrite\u001b[0m\u001b[0;34m(\u001b[0m\u001b[0mself\u001b[0m\u001b[0;34m,\u001b[0m \u001b[0mbuffer\u001b[0m\u001b[0;34m:\u001b[0m \u001b[0mbytes\u001b[0m\u001b[0;34m,\u001b[0m \u001b[0mtimeout\u001b[0m\u001b[0;34m:\u001b[0m \u001b[0mfloat\u001b[0m \u001b[0;34m|\u001b[0m \u001b[0;32mNone\u001b[0m \u001b[0;34m=\u001b[0m \u001b[0;32mNone\u001b[0m\u001b[0;34m)\u001b[0m \u001b[0;34m->\u001b[0m \u001b[0;32mNone\u001b[0m\u001b[0;34m:\u001b[0m\u001b[0;34m\u001b[0m\u001b[0;34m\u001b[0m\u001b[0m\n",
            "\u001b[0;32m/usr/lib/python3.11/ssl.py\u001b[0m in \u001b[0;36mrecv\u001b[0;34m(self, buflen, flags)\u001b[0m\n\u001b[1;32m   1293\u001b[0m                     \u001b[0;34m\"non-zero flags not allowed in calls to recv() on %s\"\u001b[0m \u001b[0;34m%\u001b[0m\u001b[0;34m\u001b[0m\u001b[0;34m\u001b[0m\u001b[0m\n\u001b[1;32m   1294\u001b[0m                     self.__class__)\n\u001b[0;32m-> 1295\u001b[0;31m             \u001b[0;32mreturn\u001b[0m \u001b[0mself\u001b[0m\u001b[0;34m.\u001b[0m\u001b[0mread\u001b[0m\u001b[0;34m(\u001b[0m\u001b[0mbuflen\u001b[0m\u001b[0;34m)\u001b[0m\u001b[0;34m\u001b[0m\u001b[0;34m\u001b[0m\u001b[0m\n\u001b[0m\u001b[1;32m   1296\u001b[0m         \u001b[0;32melse\u001b[0m\u001b[0;34m:\u001b[0m\u001b[0;34m\u001b[0m\u001b[0;34m\u001b[0m\u001b[0m\n\u001b[1;32m   1297\u001b[0m             \u001b[0;32mreturn\u001b[0m \u001b[0msuper\u001b[0m\u001b[0;34m(\u001b[0m\u001b[0;34m)\u001b[0m\u001b[0;34m.\u001b[0m\u001b[0mrecv\u001b[0m\u001b[0;34m(\u001b[0m\u001b[0mbuflen\u001b[0m\u001b[0;34m,\u001b[0m \u001b[0mflags\u001b[0m\u001b[0;34m)\u001b[0m\u001b[0;34m\u001b[0m\u001b[0;34m\u001b[0m\u001b[0m\n",
            "\u001b[0;32m/usr/lib/python3.11/ssl.py\u001b[0m in \u001b[0;36mread\u001b[0;34m(self, len, buffer)\u001b[0m\n\u001b[1;32m   1166\u001b[0m                 \u001b[0;32mreturn\u001b[0m \u001b[0mself\u001b[0m\u001b[0;34m.\u001b[0m\u001b[0m_sslobj\u001b[0m\u001b[0;34m.\u001b[0m\u001b[0mread\u001b[0m\u001b[0;34m(\u001b[0m\u001b[0mlen\u001b[0m\u001b[0;34m,\u001b[0m \u001b[0mbuffer\u001b[0m\u001b[0;34m)\u001b[0m\u001b[0;34m\u001b[0m\u001b[0;34m\u001b[0m\u001b[0m\n\u001b[1;32m   1167\u001b[0m             \u001b[0;32melse\u001b[0m\u001b[0;34m:\u001b[0m\u001b[0;34m\u001b[0m\u001b[0;34m\u001b[0m\u001b[0m\n\u001b[0;32m-> 1168\u001b[0;31m                 \u001b[0;32mreturn\u001b[0m \u001b[0mself\u001b[0m\u001b[0;34m.\u001b[0m\u001b[0m_sslobj\u001b[0m\u001b[0;34m.\u001b[0m\u001b[0mread\u001b[0m\u001b[0;34m(\u001b[0m\u001b[0mlen\u001b[0m\u001b[0;34m)\u001b[0m\u001b[0;34m\u001b[0m\u001b[0;34m\u001b[0m\u001b[0m\n\u001b[0m\u001b[1;32m   1169\u001b[0m         \u001b[0;32mexcept\u001b[0m \u001b[0mSSLError\u001b[0m \u001b[0;32mas\u001b[0m \u001b[0mx\u001b[0m\u001b[0;34m:\u001b[0m\u001b[0;34m\u001b[0m\u001b[0;34m\u001b[0m\u001b[0m\n\u001b[1;32m   1170\u001b[0m             \u001b[0;32mif\u001b[0m \u001b[0mx\u001b[0m\u001b[0;34m.\u001b[0m\u001b[0margs\u001b[0m\u001b[0;34m[\u001b[0m\u001b[0;36m0\u001b[0m\u001b[0;34m]\u001b[0m \u001b[0;34m==\u001b[0m \u001b[0mSSL_ERROR_EOF\u001b[0m \u001b[0;32mand\u001b[0m \u001b[0mself\u001b[0m\u001b[0;34m.\u001b[0m\u001b[0msuppress_ragged_eofs\u001b[0m\u001b[0;34m:\u001b[0m\u001b[0;34m\u001b[0m\u001b[0;34m\u001b[0m\u001b[0m\n",
            "\u001b[0;31mKeyboardInterrupt\u001b[0m: "
          ]
        }
      ]
    },
    {
      "cell_type": "markdown",
      "source": [
        "## Filter Sensitive Data"
      ],
      "metadata": {
        "id": "adSEEBoNL_M1"
      }
    },
    {
      "cell_type": "code",
      "source": [
        "# Initialize filter_sensitive_data list\n",
        "filter_sensitive_data_ = []\n",
        "\n",
        "# Iterate through the DataFrame\n",
        "for col_name, col_data in power_subset1_.items():\n",
        "    # Drop NaN values\n",
        "    col_data_cleaned = col_data.dropna().reset_index(drop=True)\n",
        "\n",
        "    # Generate prompt\n",
        "    prompt = f\"\"\"\n",
        "    The user wants to know which entries in `{col_name}`:\n",
        "    1. When analyzed, can accurately identify private preferences, features, or characteristics of the user whose online activity is analyzed.\n",
        "       For example, when a user is shopping for diamond jewelry, it could be used to infer the financial status of the user.\n",
        "    2. EXCLUDE ALL `NaN` values.\n",
        "    3. Provide a concise explanation of why `{col_name}` is considered sensitive.\n",
        "    4. Make three inferences that can potentially reveal  user's private preferences, features, or characteristics\n",
        "    5. Explain briefly how you arrived at each inference.\n",
        "    Present the data and explanation in a table. STRICTLY FOLLOW THIS FORMAT:\n",
        "\n",
        "    | Sensitive Data in `{col_name}` | Explanation for `{col_name}`                   |\n",
        "    |-------------------------------|-------------------------------------------------|\n",
        "    \"\"\"\n",
        "\n",
        "    # Add each entry to the prompt\n",
        "    for entry in col_data_cleaned:\n",
        "        prompt += f\"| {entry} | Data point is sensitive because: <Your explanation> | \\n\"\n",
        "\n",
        "\n",
        "    # Simulate API call with the prompt (replace with run_prompt in production)\n",
        "    assistant_reply = run_prompt(prompt)  # Simulating the assistant's reply with the generated prompt for now.\n",
        "\n",
        "    # Parse the reply\n",
        "    for row in assistant_reply.split(\"\\n\"):\n",
        "        if \"|\" in row:\n",
        "            elements = [cell.strip() for cell in row.split(\"|\") if cell.strip()]\n",
        "            if len(elements) == 2:  # Only process valid rows\n",
        "                filter_sensitive_data_.append({\"Column\": col_name, \"Sensitive Data\": elements[0], \"Explanation\": elements[1]})"
      ],
      "metadata": {
        "id": "70MUSmK5m1S4"
      },
      "execution_count": null,
      "outputs": []
    },
    {
      "cell_type": "code",
      "source": [
        "df_sd_ = pd.DataFrame(filter_sensitive_data_)\n",
        "\n",
        "# news_data = df_sd_[df_sd_['Column'] == 'news_article'][['Sensitive Data', 'Explanation']].reset_index(drop=True)\n",
        "youtube_data = df_sd_[df_sd_['Column'] == 'action_info'][['Sensitive Data', 'Explanation']].reset_index(drop=True)\n",
        "chrome_data = df_sd_[df_sd_['Column'] == 'chromeAction_info'][['Sensitive Data', 'Explanation']].reset_index(drop=True)\n",
        "map_data = df_sd_[df_sd_['Column'] == 'mapAction_info'][['Sensitive Data', 'Explanation']].reset_index(drop=True)\n",
        "shop_data = df_sd_[df_sd_['Column'] == 'shop_activity'][['Sensitive Data', 'Explanation']].reset_index(drop=True)\n",
        "\n",
        "# Merge all the data into one DataFrame\n",
        "sensitiveData_df = pd.concat([youtube_data, chrome_data, map_data, shop_data], axis=1)\n",
        "\n",
        "# Renaming the columns for clarity\n",
        "sensitiveData_df.columns = ['Youtube Action Sensitive Data', 'Youtube Action Explanation',\n",
        "                     'Chrome Action Sensitive Data', 'Chrome Action Explanation',\n",
        "                     'Map Action Sensitive Data', 'Map Action Explanation',\n",
        "                     'Shop Activity Sensitive Data', 'Shop Activity Explanation']\n",
        "\n",
        "sensitiveData_df.drop(index=[0,1], inplace=True)"
      ],
      "metadata": {
        "id": "E8gsqkNSMWNt"
      },
      "execution_count": null,
      "outputs": []
    },
    {
      "cell_type": "markdown",
      "source": [
        "## Inferences from Sensitive Data"
      ],
      "metadata": {
        "id": "454jMoNGMMvv"
      }
    },
    {
      "cell_type": "code",
      "source": [
        "# col_names = list(sensitiveData_df.columns)\n",
        "\n",
        "index = 0\n",
        "sensitive_inferences = sensitiveData_df[['Youtube Action Sensitive Data', 'Chrome Action Sensitive Data', 'Map Action Sensitive Data', 'Shop Activity Sensitive Data']]\n",
        "# sensitive_inferences\n",
        "sensitive_inferences_ = []\n",
        "\n",
        "for col_name, col_data in sensitive_inferences.items():\n",
        "  if index <= len(sensitive_inferences.columns):\n",
        "    prompt = f\"\"\"user wants to know what {col_data} in {col_name[index]} tells about the following\n",
        "    1. Three personal preference or characteristics which the user did not reveal, but analysis of their online activity revealed.\n",
        "    2. How algorithm inferring personal preferences or characteristics can positively impact user\n",
        "    3. Explain briefly how you made the inferences\n",
        "    4. Recommend ONE relevant product OR service OR event OR activity that could reveal user's personal preferences or characteristics\n",
        "    5. Explain how the inferences and recommendation violate the user's personal and data privacy\n",
        "    \"\"\"\n",
        "    # print(prompt)\n",
        "\n",
        "    prompt += f\"\"\"Present the inferences and recommendations in a table that looks like below:\n",
        "    STRICTLY FOLLOW THE FORMAT BELOW:\n",
        "\n",
        "    Data Point|Inferring Personal Preference or Characteristics | Explanation for Inference| Product Recommendation |Impact on users' personal and data privacy|   |\n",
        "    {col_name}|Inference 1: <output for interference> | Inference 1: <explanation> | Recommendation 1: <recommendation> |privacy impact 1: <explain how it impacts privacy>|\n",
        "    {col_name}|Inference 2: <output for interference> | Inference 2: <explanation> | Recommendation 1: <recommendation> |privacy impact 2: <explain how it impacts privacy>|\n",
        "    {col_name}|Inference 3: <output for interference> | Inference 2: <explanation> | Recommendation 1: <recommendation> |privacy impact 3: <explain how it impacts privacy>|\n",
        "    \"\"\"\n",
        "\n",
        "    assistant_reply = run_prompt(prompt)\n",
        "    # print(assistant_reply)\n",
        "    sensitive_inferences_.append(assistant_reply)\n",
        "\n",
        "  index = index+1"
      ],
      "metadata": {
        "id": "wgLCjriSyAVj"
      },
      "execution_count": null,
      "outputs": []
    },
    {
      "cell_type": "code",
      "source": [
        "all_data = []\n",
        "for reply in sensitive_inferences:\n",
        "    for row in reply.split('\\n'):\n",
        "        if \"|\" in row:  # Only process rows with data\n",
        "            elements = [cell.strip() for cell in row.split(\"|\")]\n",
        "            if len(elements) > 1:\n",
        "                # Adjust the number of elements to match the expected columns\n",
        "                elements = elements[:8]  # or the actual number of columns you expect\n",
        "                all_data.append(elements)\n",
        "\n",
        "# Create DataFrame\n",
        "sensitive_inferences_df = pd.DataFrame(all_data)\n",
        "\n",
        "# Dynamically determine the number of columns\n",
        "num_cols = len(sensitive_inferences_df.columns)\n",
        "\n",
        "# Set column names based on the actual number of columns\n",
        "if num_cols == 7: # Change to 8 to match your expected DataFrame\n",
        "    sensitive_inferences_df.columns = [\n",
        "        \"Data Point\",\n",
        "        \"Inferring Personal Preference or Characteristics\",\n",
        "        \"Explanation for Inference\",\n",
        "        \"Product Recommendation\",\n",
        "        \"Impact on users' personal and data privacy\",\n",
        "        \"Extra Column 1\",  # Add names for extra columns\n",
        "        \"Extra Column 2\"   # Add names for extra columns\n",
        "    ]\n",
        "# You might want to add more else-if conditions for different numbers of columns\n",
        "# Or use a more generic approach to handle extra columns.\n"
      ],
      "metadata": {
        "id": "IGQff2B_YG25"
      },
      "execution_count": null,
      "outputs": []
    },
    {
      "cell_type": "code",
      "source": [
        "sensitive_inferences_df"
      ],
      "metadata": {
        "id": "V3gVDyfKaDXz"
      },
      "execution_count": null,
      "outputs": []
    },
    {
      "cell_type": "code",
      "source": [
        "sensitive_inferences_df.to_csv('/content/drive/MyDrive/Dissertation/Study 1/Inference_data/sensitive_inferences_iter7.csv', index=False)"
      ],
      "metadata": {
        "id": "ZYm8NA5FYKJX"
      },
      "execution_count": null,
      "outputs": []
    }
  ]
}